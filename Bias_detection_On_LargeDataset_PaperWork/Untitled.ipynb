{
 "cells": [
  {
   "cell_type": "code",
   "execution_count": 74,
   "id": "6e325101-1431-4167-8b77-c0285a430205",
   "metadata": {},
   "outputs": [
    {
     "name": "stdout",
     "output_type": "stream",
     "text": [
      "Collecting aif360\n",
      "  Downloading aif360-0.6.1-py3-none-any.whl.metadata (5.0 kB)\n",
      "Requirement already satisfied: numpy>=1.16 in /opt/anaconda3/lib/python3.12/site-packages (from aif360) (1.26.4)\n",
      "Requirement already satisfied: scipy>=1.2.0 in /opt/anaconda3/lib/python3.12/site-packages (from aif360) (1.13.1)\n",
      "Requirement already satisfied: pandas>=0.24.0 in /opt/anaconda3/lib/python3.12/site-packages (from aif360) (2.2.2)\n",
      "Requirement already satisfied: scikit-learn>=1.0 in /opt/anaconda3/lib/python3.12/site-packages (from aif360) (1.5.1)\n",
      "Requirement already satisfied: matplotlib in /opt/anaconda3/lib/python3.12/site-packages (from aif360) (3.9.2)\n",
      "Requirement already satisfied: python-dateutil>=2.8.2 in /opt/anaconda3/lib/python3.12/site-packages (from pandas>=0.24.0->aif360) (2.9.0.post0)\n",
      "Requirement already satisfied: pytz>=2020.1 in /opt/anaconda3/lib/python3.12/site-packages (from pandas>=0.24.0->aif360) (2024.1)\n",
      "Requirement already satisfied: tzdata>=2022.7 in /opt/anaconda3/lib/python3.12/site-packages (from pandas>=0.24.0->aif360) (2023.3)\n",
      "Requirement already satisfied: joblib>=1.2.0 in /opt/anaconda3/lib/python3.12/site-packages (from scikit-learn>=1.0->aif360) (1.4.2)\n",
      "Requirement already satisfied: threadpoolctl>=3.1.0 in /opt/anaconda3/lib/python3.12/site-packages (from scikit-learn>=1.0->aif360) (3.5.0)\n",
      "Requirement already satisfied: contourpy>=1.0.1 in /opt/anaconda3/lib/python3.12/site-packages (from matplotlib->aif360) (1.2.0)\n",
      "Requirement already satisfied: cycler>=0.10 in /opt/anaconda3/lib/python3.12/site-packages (from matplotlib->aif360) (0.11.0)\n",
      "Requirement already satisfied: fonttools>=4.22.0 in /opt/anaconda3/lib/python3.12/site-packages (from matplotlib->aif360) (4.51.0)\n",
      "Requirement already satisfied: kiwisolver>=1.3.1 in /opt/anaconda3/lib/python3.12/site-packages (from matplotlib->aif360) (1.4.4)\n",
      "Requirement already satisfied: packaging>=20.0 in /opt/anaconda3/lib/python3.12/site-packages (from matplotlib->aif360) (24.1)\n",
      "Requirement already satisfied: pillow>=8 in /opt/anaconda3/lib/python3.12/site-packages (from matplotlib->aif360) (10.4.0)\n",
      "Requirement already satisfied: pyparsing>=2.3.1 in /opt/anaconda3/lib/python3.12/site-packages (from matplotlib->aif360) (3.1.2)\n",
      "Requirement already satisfied: six>=1.5 in /opt/anaconda3/lib/python3.12/site-packages (from python-dateutil>=2.8.2->pandas>=0.24.0->aif360) (1.16.0)\n",
      "Downloading aif360-0.6.1-py3-none-any.whl (259 kB)\n",
      "Installing collected packages: aif360\n",
      "Successfully installed aif360-0.6.1\n",
      "Note: you may need to restart the kernel to use updated packages.\n"
     ]
    }
   ],
   "source": [
    "pip install aif360"
   ]
  },
  {
   "cell_type": "code",
   "execution_count": 2,
   "id": "781a6086-6e7e-477c-b795-d1c6695a654e",
   "metadata": {},
   "outputs": [],
   "source": [
    "import pandas as pd\n",
    "import numpy as np"
   ]
  },
  {
   "cell_type": "code",
   "execution_count": 4,
   "id": "9c2551ba-cc73-4a31-959a-11f95e48fa6d",
   "metadata": {},
   "outputs": [],
   "source": [
    "df=pd.read_csv(\"2012-2013-data-with-predictions-4-final.csv\")"
   ]
  },
  {
   "cell_type": "code",
   "execution_count": 6,
   "id": "4299e6b9-9e32-4467-83e1-f7c663533e9d",
   "metadata": {},
   "outputs": [
    {
     "data": {
      "text/html": [
       "<div>\n",
       "<style scoped>\n",
       "    .dataframe tbody tr th:only-of-type {\n",
       "        vertical-align: middle;\n",
       "    }\n",
       "\n",
       "    .dataframe tbody tr th {\n",
       "        vertical-align: top;\n",
       "    }\n",
       "\n",
       "    .dataframe thead th {\n",
       "        text-align: right;\n",
       "    }\n",
       "</style>\n",
       "<table border=\"1\" class=\"dataframe\">\n",
       "  <thead>\n",
       "    <tr style=\"text-align: right;\">\n",
       "      <th></th>\n",
       "      <th>problem_log_id</th>\n",
       "      <th>skill</th>\n",
       "      <th>problem_id</th>\n",
       "      <th>user_id</th>\n",
       "      <th>assignment_id</th>\n",
       "      <th>assistment_id</th>\n",
       "      <th>start_time</th>\n",
       "      <th>end_time</th>\n",
       "      <th>problem_type</th>\n",
       "      <th>original</th>\n",
       "      <th>...</th>\n",
       "      <th>overlap_time</th>\n",
       "      <th>template_id</th>\n",
       "      <th>answer_id</th>\n",
       "      <th>answer_text</th>\n",
       "      <th>first_action</th>\n",
       "      <th>problemlogid</th>\n",
       "      <th>Average_confidence(FRUSTRATED)</th>\n",
       "      <th>Average_confidence(CONFUSED)</th>\n",
       "      <th>Average_confidence(CONCENTRATING)</th>\n",
       "      <th>Average_confidence(BORED)</th>\n",
       "    </tr>\n",
       "  </thead>\n",
       "  <tbody>\n",
       "    <tr>\n",
       "      <th>0</th>\n",
       "      <td>137792159</td>\n",
       "      <td>NaN</td>\n",
       "      <td>557460</td>\n",
       "      <td>61394</td>\n",
       "      <td>565736</td>\n",
       "      <td>341511</td>\n",
       "      <td>2012-09-28 15:11:27</td>\n",
       "      <td>2012-09-28 15:11:36.856</td>\n",
       "      <td>choose_1</td>\n",
       "      <td>1</td>\n",
       "      <td>...</td>\n",
       "      <td>9852</td>\n",
       "      <td>341511</td>\n",
       "      <td>NaN</td>\n",
       "      <td>she</td>\n",
       "      <td>0</td>\n",
       "      <td>137792159</td>\n",
       "      <td>0.361323</td>\n",
       "      <td>0.0</td>\n",
       "      <td>0.336529</td>\n",
       "      <td>0.000000</td>\n",
       "    </tr>\n",
       "    <tr>\n",
       "      <th>1</th>\n",
       "      <td>138083797</td>\n",
       "      <td>Rounding</td>\n",
       "      <td>365981</td>\n",
       "      <td>61394</td>\n",
       "      <td>573819</td>\n",
       "      <td>204043</td>\n",
       "      <td>2012-10-09 11:01:52</td>\n",
       "      <td>2012-10-09 11:02:13.182</td>\n",
       "      <td>algebra</td>\n",
       "      <td>1</td>\n",
       "      <td>...</td>\n",
       "      <td>21175</td>\n",
       "      <td>204043</td>\n",
       "      <td>NaN</td>\n",
       "      <td>74.29</td>\n",
       "      <td>0</td>\n",
       "      <td>138083797</td>\n",
       "      <td>0.361323</td>\n",
       "      <td>0.0</td>\n",
       "      <td>0.766925</td>\n",
       "      <td>0.000000</td>\n",
       "    </tr>\n",
       "    <tr>\n",
       "      <th>2</th>\n",
       "      <td>142332619</td>\n",
       "      <td>Multiplication and Division Integers</td>\n",
       "      <td>426415</td>\n",
       "      <td>61394</td>\n",
       "      <td>734130</td>\n",
       "      <td>247525</td>\n",
       "      <td>2013-03-07 10:53:20</td>\n",
       "      <td>2013-03-07 10:53:28.661</td>\n",
       "      <td>algebra</td>\n",
       "      <td>1</td>\n",
       "      <td>...</td>\n",
       "      <td>8645</td>\n",
       "      <td>247525</td>\n",
       "      <td>NaN</td>\n",
       "      <td>00</td>\n",
       "      <td>0</td>\n",
       "      <td>142332619</td>\n",
       "      <td>0.361323</td>\n",
       "      <td>0.0</td>\n",
       "      <td>0.766925</td>\n",
       "      <td>0.442968</td>\n",
       "    </tr>\n",
       "    <tr>\n",
       "      <th>3</th>\n",
       "      <td>145939397</td>\n",
       "      <td>Proportion</td>\n",
       "      <td>86686</td>\n",
       "      <td>61394</td>\n",
       "      <td>821352</td>\n",
       "      <td>48081</td>\n",
       "      <td>2013-08-20 19:54:56</td>\n",
       "      <td>2013-08-20 19:55:21.753</td>\n",
       "      <td>algebra</td>\n",
       "      <td>1</td>\n",
       "      <td>...</td>\n",
       "      <td>25728</td>\n",
       "      <td>46362</td>\n",
       "      <td>NaN</td>\n",
       "      <td>3.8</td>\n",
       "      <td>0</td>\n",
       "      <td>145939397</td>\n",
       "      <td>0.775000</td>\n",
       "      <td>0.0</td>\n",
       "      <td>0.766925</td>\n",
       "      <td>0.912281</td>\n",
       "    </tr>\n",
       "    <tr>\n",
       "      <th>4</th>\n",
       "      <td>137111284</td>\n",
       "      <td>NaN</td>\n",
       "      <td>399669</td>\n",
       "      <td>76592</td>\n",
       "      <td>557216</td>\n",
       "      <td>227869</td>\n",
       "      <td>2012-09-10 17:20:10</td>\n",
       "      <td>2012-09-10 17:24:56.579</td>\n",
       "      <td>choose_1</td>\n",
       "      <td>1</td>\n",
       "      <td>...</td>\n",
       "      <td>286578</td>\n",
       "      <td>227869</td>\n",
       "      <td>NaN</td>\n",
       "      <td>C (wr - 1)(wr + 1)</td>\n",
       "      <td>0</td>\n",
       "      <td>137111284</td>\n",
       "      <td>0.361323</td>\n",
       "      <td>0.0</td>\n",
       "      <td>0.766925</td>\n",
       "      <td>0.000000</td>\n",
       "    </tr>\n",
       "  </tbody>\n",
       "</table>\n",
       "<p>5 rows × 35 columns</p>\n",
       "</div>"
      ],
      "text/plain": [
       "   problem_log_id                                 skill  problem_id  user_id  \\\n",
       "0       137792159                                   NaN      557460    61394   \n",
       "1       138083797                              Rounding      365981    61394   \n",
       "2       142332619  Multiplication and Division Integers      426415    61394   \n",
       "3       145939397                            Proportion       86686    61394   \n",
       "4       137111284                                   NaN      399669    76592   \n",
       "\n",
       "   assignment_id  assistment_id           start_time                 end_time  \\\n",
       "0         565736         341511  2012-09-28 15:11:27  2012-09-28 15:11:36.856   \n",
       "1         573819         204043  2012-10-09 11:01:52  2012-10-09 11:02:13.182   \n",
       "2         734130         247525  2013-03-07 10:53:20  2013-03-07 10:53:28.661   \n",
       "3         821352          48081  2013-08-20 19:54:56  2013-08-20 19:55:21.753   \n",
       "4         557216         227869  2012-09-10 17:20:10  2012-09-10 17:24:56.579   \n",
       "\n",
       "  problem_type  original  ...  overlap_time  template_id  answer_id  \\\n",
       "0     choose_1         1  ...          9852       341511        NaN   \n",
       "1      algebra         1  ...         21175       204043        NaN   \n",
       "2      algebra         1  ...          8645       247525        NaN   \n",
       "3      algebra         1  ...         25728        46362        NaN   \n",
       "4     choose_1         1  ...        286578       227869        NaN   \n",
       "\n",
       "          answer_text  first_action  problemlogid  \\\n",
       "0                 she             0     137792159   \n",
       "1               74.29             0     138083797   \n",
       "2                  00             0     142332619   \n",
       "3                 3.8             0     145939397   \n",
       "4  C (wr - 1)(wr + 1)             0     137111284   \n",
       "\n",
       "  Average_confidence(FRUSTRATED)  Average_confidence(CONFUSED)  \\\n",
       "0                       0.361323                           0.0   \n",
       "1                       0.361323                           0.0   \n",
       "2                       0.361323                           0.0   \n",
       "3                       0.775000                           0.0   \n",
       "4                       0.361323                           0.0   \n",
       "\n",
       "   Average_confidence(CONCENTRATING)  Average_confidence(BORED)  \n",
       "0                           0.336529                   0.000000  \n",
       "1                           0.766925                   0.000000  \n",
       "2                           0.766925                   0.442968  \n",
       "3                           0.766925                   0.912281  \n",
       "4                           0.766925                   0.000000  \n",
       "\n",
       "[5 rows x 35 columns]"
      ]
     },
     "execution_count": 6,
     "metadata": {},
     "output_type": "execute_result"
    }
   ],
   "source": [
    "df.head()"
   ]
  },
  {
   "cell_type": "code",
   "execution_count": 8,
   "id": "a0a332e0-0490-43f7-bef0-1fe287aa3139",
   "metadata": {},
   "outputs": [
    {
     "data": {
      "text/html": [
       "<div>\n",
       "<style scoped>\n",
       "    .dataframe tbody tr th:only-of-type {\n",
       "        vertical-align: middle;\n",
       "    }\n",
       "\n",
       "    .dataframe tbody tr th {\n",
       "        vertical-align: top;\n",
       "    }\n",
       "\n",
       "    .dataframe thead th {\n",
       "        text-align: right;\n",
       "    }\n",
       "</style>\n",
       "<table border=\"1\" class=\"dataframe\">\n",
       "  <thead>\n",
       "    <tr style=\"text-align: right;\">\n",
       "      <th></th>\n",
       "      <th>problem_log_id</th>\n",
       "      <th>problem_id</th>\n",
       "      <th>user_id</th>\n",
       "      <th>assignment_id</th>\n",
       "      <th>assistment_id</th>\n",
       "      <th>original</th>\n",
       "      <th>correct</th>\n",
       "      <th>bottom_hint</th>\n",
       "      <th>hint_count</th>\n",
       "      <th>attempt_count</th>\n",
       "      <th>...</th>\n",
       "      <th>school_id</th>\n",
       "      <th>overlap_time</th>\n",
       "      <th>template_id</th>\n",
       "      <th>answer_id</th>\n",
       "      <th>first_action</th>\n",
       "      <th>problemlogid</th>\n",
       "      <th>Average_confidence(FRUSTRATED)</th>\n",
       "      <th>Average_confidence(CONFUSED)</th>\n",
       "      <th>Average_confidence(CONCENTRATING)</th>\n",
       "      <th>Average_confidence(BORED)</th>\n",
       "    </tr>\n",
       "  </thead>\n",
       "  <tbody>\n",
       "    <tr>\n",
       "      <th>count</th>\n",
       "      <td>6.123270e+06</td>\n",
       "      <td>6.123270e+06</td>\n",
       "      <td>6.123270e+06</td>\n",
       "      <td>6.123270e+06</td>\n",
       "      <td>6.123270e+06</td>\n",
       "      <td>6.123270e+06</td>\n",
       "      <td>6.123270e+06</td>\n",
       "      <td>6.062922e+06</td>\n",
       "      <td>6.123270e+06</td>\n",
       "      <td>6.123270e+06</td>\n",
       "      <td>...</td>\n",
       "      <td>6.123113e+06</td>\n",
       "      <td>6.123270e+06</td>\n",
       "      <td>6.123270e+06</td>\n",
       "      <td>8.275000e+03</td>\n",
       "      <td>6.123270e+06</td>\n",
       "      <td>6.123270e+06</td>\n",
       "      <td>6.123270e+06</td>\n",
       "      <td>6.123270e+06</td>\n",
       "      <td>6.123270e+06</td>\n",
       "      <td>6.123270e+06</td>\n",
       "    </tr>\n",
       "    <tr>\n",
       "      <th>mean</th>\n",
       "      <td>1.414932e+08</td>\n",
       "      <td>3.685675e+05</td>\n",
       "      <td>1.770492e+05</td>\n",
       "      <td>6.773074e+05</td>\n",
       "      <td>2.202825e+05</td>\n",
       "      <td>9.504296e-01</td>\n",
       "      <td>6.768206e-01</td>\n",
       "      <td>1.200497e-01</td>\n",
       "      <td>3.373479e-01</td>\n",
       "      <td>1.339212e+00</td>\n",
       "      <td>...</td>\n",
       "      <td>6.925225e+03</td>\n",
       "      <td>4.907237e+04</td>\n",
       "      <td>2.088952e+05</td>\n",
       "      <td>4.324879e+05</td>\n",
       "      <td>6.151860e-02</td>\n",
       "      <td>1.414932e+08</td>\n",
       "      <td>3.894586e-01</td>\n",
       "      <td>4.479487e-02</td>\n",
       "      <td>6.823843e-01</td>\n",
       "      <td>2.567723e-01</td>\n",
       "    </tr>\n",
       "    <tr>\n",
       "      <th>std</th>\n",
       "      <td>2.693733e+06</td>\n",
       "      <td>2.195421e+05</td>\n",
       "      <td>3.172431e+04</td>\n",
       "      <td>9.425983e+04</td>\n",
       "      <td>1.393519e+05</td>\n",
       "      <td>2.170557e-01</td>\n",
       "      <td>4.674909e-01</td>\n",
       "      <td>3.250197e-01</td>\n",
       "      <td>9.851956e-01</td>\n",
       "      <td>1.056276e+00</td>\n",
       "      <td>...</td>\n",
       "      <td>3.314489e+03</td>\n",
       "      <td>2.884992e+05</td>\n",
       "      <td>1.458227e+05</td>\n",
       "      <td>3.534885e+05</td>\n",
       "      <td>2.635170e-01</td>\n",
       "      <td>2.693733e+06</td>\n",
       "      <td>1.027662e-01</td>\n",
       "      <td>1.924793e-01</td>\n",
       "      <td>1.713734e-01</td>\n",
       "      <td>2.862460e-01</td>\n",
       "    </tr>\n",
       "    <tr>\n",
       "      <th>min</th>\n",
       "      <td>1.368431e+08</td>\n",
       "      <td>1.000000e+00</td>\n",
       "      <td>2.142100e+04</td>\n",
       "      <td>1.814560e+05</td>\n",
       "      <td>5.000000e+00</td>\n",
       "      <td>0.000000e+00</td>\n",
       "      <td>0.000000e+00</td>\n",
       "      <td>0.000000e+00</td>\n",
       "      <td>0.000000e+00</td>\n",
       "      <td>0.000000e+00</td>\n",
       "      <td>...</td>\n",
       "      <td>1.000000e+00</td>\n",
       "      <td>-6.767000e+03</td>\n",
       "      <td>5.000000e+00</td>\n",
       "      <td>1.000000e+00</td>\n",
       "      <td>0.000000e+00</td>\n",
       "      <td>1.368431e+08</td>\n",
       "      <td>3.613230e-01</td>\n",
       "      <td>0.000000e+00</td>\n",
       "      <td>1.707320e-01</td>\n",
       "      <td>0.000000e+00</td>\n",
       "    </tr>\n",
       "    <tr>\n",
       "      <th>25%</th>\n",
       "      <td>1.391705e+08</td>\n",
       "      <td>1.284030e+05</td>\n",
       "      <td>1.719780e+05</td>\n",
       "      <td>5.863570e+05</td>\n",
       "      <td>6.883725e+04</td>\n",
       "      <td>1.000000e+00</td>\n",
       "      <td>0.000000e+00</td>\n",
       "      <td>0.000000e+00</td>\n",
       "      <td>0.000000e+00</td>\n",
       "      <td>1.000000e+00</td>\n",
       "      <td>...</td>\n",
       "      <td>5.260000e+03</td>\n",
       "      <td>9.468000e+03</td>\n",
       "      <td>5.259000e+04</td>\n",
       "      <td>1.060495e+05</td>\n",
       "      <td>0.000000e+00</td>\n",
       "      <td>1.391705e+08</td>\n",
       "      <td>3.613230e-01</td>\n",
       "      <td>0.000000e+00</td>\n",
       "      <td>7.669250e-01</td>\n",
       "      <td>0.000000e+00</td>\n",
       "    </tr>\n",
       "    <tr>\n",
       "      <th>50%</th>\n",
       "      <td>1.414916e+08</td>\n",
       "      <td>4.168130e+05</td>\n",
       "      <td>1.791670e+05</td>\n",
       "      <td>6.785645e+05</td>\n",
       "      <td>2.399180e+05</td>\n",
       "      <td>1.000000e+00</td>\n",
       "      <td>1.000000e+00</td>\n",
       "      <td>0.000000e+00</td>\n",
       "      <td>0.000000e+00</td>\n",
       "      <td>1.000000e+00</td>\n",
       "      <td>...</td>\n",
       "      <td>5.978000e+03</td>\n",
       "      <td>2.241500e+04</td>\n",
       "      <td>2.395460e+05</td>\n",
       "      <td>3.442820e+05</td>\n",
       "      <td>0.000000e+00</td>\n",
       "      <td>1.414916e+08</td>\n",
       "      <td>3.613230e-01</td>\n",
       "      <td>0.000000e+00</td>\n",
       "      <td>7.669250e-01</td>\n",
       "      <td>2.214840e-01</td>\n",
       "    </tr>\n",
       "    <tr>\n",
       "      <th>75%</th>\n",
       "      <td>1.438272e+08</td>\n",
       "      <td>5.644030e+05</td>\n",
       "      <td>1.972510e+05</td>\n",
       "      <td>7.672320e+05</td>\n",
       "      <td>3.466830e+05</td>\n",
       "      <td>1.000000e+00</td>\n",
       "      <td>1.000000e+00</td>\n",
       "      <td>0.000000e+00</td>\n",
       "      <td>0.000000e+00</td>\n",
       "      <td>1.000000e+00</td>\n",
       "      <td>...</td>\n",
       "      <td>9.394000e+03</td>\n",
       "      <td>5.505400e+04</td>\n",
       "      <td>3.434800e+05</td>\n",
       "      <td>7.385615e+05</td>\n",
       "      <td>0.000000e+00</td>\n",
       "      <td>1.438272e+08</td>\n",
       "      <td>3.613230e-01</td>\n",
       "      <td>0.000000e+00</td>\n",
       "      <td>7.669250e-01</td>\n",
       "      <td>4.429680e-01</td>\n",
       "    </tr>\n",
       "    <tr>\n",
       "      <th>max</th>\n",
       "      <td>1.462357e+08</td>\n",
       "      <td>7.671430e+05</td>\n",
       "      <td>2.282130e+05</td>\n",
       "      <td>8.330540e+05</td>\n",
       "      <td>4.925890e+05</td>\n",
       "      <td>1.000000e+00</td>\n",
       "      <td>1.000000e+00</td>\n",
       "      <td>1.000000e+00</td>\n",
       "      <td>1.400000e+01</td>\n",
       "      <td>2.900000e+01</td>\n",
       "      <td>...</td>\n",
       "      <td>1.242800e+04</td>\n",
       "      <td>3.452775e+08</td>\n",
       "      <td>4.925890e+05</td>\n",
       "      <td>1.184706e+06</td>\n",
       "      <td>2.000000e+00</td>\n",
       "      <td>1.462357e+08</td>\n",
       "      <td>8.671330e-01</td>\n",
       "      <td>1.000000e+00</td>\n",
       "      <td>7.669250e-01</td>\n",
       "      <td>1.000000e+00</td>\n",
       "    </tr>\n",
       "  </tbody>\n",
       "</table>\n",
       "<p>8 rows × 27 columns</p>\n",
       "</div>"
      ],
      "text/plain": [
       "       problem_log_id    problem_id       user_id  assignment_id  \\\n",
       "count    6.123270e+06  6.123270e+06  6.123270e+06   6.123270e+06   \n",
       "mean     1.414932e+08  3.685675e+05  1.770492e+05   6.773074e+05   \n",
       "std      2.693733e+06  2.195421e+05  3.172431e+04   9.425983e+04   \n",
       "min      1.368431e+08  1.000000e+00  2.142100e+04   1.814560e+05   \n",
       "25%      1.391705e+08  1.284030e+05  1.719780e+05   5.863570e+05   \n",
       "50%      1.414916e+08  4.168130e+05  1.791670e+05   6.785645e+05   \n",
       "75%      1.438272e+08  5.644030e+05  1.972510e+05   7.672320e+05   \n",
       "max      1.462357e+08  7.671430e+05  2.282130e+05   8.330540e+05   \n",
       "\n",
       "       assistment_id      original       correct   bottom_hint    hint_count  \\\n",
       "count   6.123270e+06  6.123270e+06  6.123270e+06  6.062922e+06  6.123270e+06   \n",
       "mean    2.202825e+05  9.504296e-01  6.768206e-01  1.200497e-01  3.373479e-01   \n",
       "std     1.393519e+05  2.170557e-01  4.674909e-01  3.250197e-01  9.851956e-01   \n",
       "min     5.000000e+00  0.000000e+00  0.000000e+00  0.000000e+00  0.000000e+00   \n",
       "25%     6.883725e+04  1.000000e+00  0.000000e+00  0.000000e+00  0.000000e+00   \n",
       "50%     2.399180e+05  1.000000e+00  1.000000e+00  0.000000e+00  0.000000e+00   \n",
       "75%     3.466830e+05  1.000000e+00  1.000000e+00  0.000000e+00  0.000000e+00   \n",
       "max     4.925890e+05  1.000000e+00  1.000000e+00  1.000000e+00  1.400000e+01   \n",
       "\n",
       "       attempt_count  ...     school_id  overlap_time   template_id  \\\n",
       "count   6.123270e+06  ...  6.123113e+06  6.123270e+06  6.123270e+06   \n",
       "mean    1.339212e+00  ...  6.925225e+03  4.907237e+04  2.088952e+05   \n",
       "std     1.056276e+00  ...  3.314489e+03  2.884992e+05  1.458227e+05   \n",
       "min     0.000000e+00  ...  1.000000e+00 -6.767000e+03  5.000000e+00   \n",
       "25%     1.000000e+00  ...  5.260000e+03  9.468000e+03  5.259000e+04   \n",
       "50%     1.000000e+00  ...  5.978000e+03  2.241500e+04  2.395460e+05   \n",
       "75%     1.000000e+00  ...  9.394000e+03  5.505400e+04  3.434800e+05   \n",
       "max     2.900000e+01  ...  1.242800e+04  3.452775e+08  4.925890e+05   \n",
       "\n",
       "          answer_id  first_action  problemlogid  \\\n",
       "count  8.275000e+03  6.123270e+06  6.123270e+06   \n",
       "mean   4.324879e+05  6.151860e-02  1.414932e+08   \n",
       "std    3.534885e+05  2.635170e-01  2.693733e+06   \n",
       "min    1.000000e+00  0.000000e+00  1.368431e+08   \n",
       "25%    1.060495e+05  0.000000e+00  1.391705e+08   \n",
       "50%    3.442820e+05  0.000000e+00  1.414916e+08   \n",
       "75%    7.385615e+05  0.000000e+00  1.438272e+08   \n",
       "max    1.184706e+06  2.000000e+00  1.462357e+08   \n",
       "\n",
       "       Average_confidence(FRUSTRATED)  Average_confidence(CONFUSED)  \\\n",
       "count                    6.123270e+06                  6.123270e+06   \n",
       "mean                     3.894586e-01                  4.479487e-02   \n",
       "std                      1.027662e-01                  1.924793e-01   \n",
       "min                      3.613230e-01                  0.000000e+00   \n",
       "25%                      3.613230e-01                  0.000000e+00   \n",
       "50%                      3.613230e-01                  0.000000e+00   \n",
       "75%                      3.613230e-01                  0.000000e+00   \n",
       "max                      8.671330e-01                  1.000000e+00   \n",
       "\n",
       "       Average_confidence(CONCENTRATING)  Average_confidence(BORED)  \n",
       "count                       6.123270e+06               6.123270e+06  \n",
       "mean                        6.823843e-01               2.567723e-01  \n",
       "std                         1.713734e-01               2.862460e-01  \n",
       "min                         1.707320e-01               0.000000e+00  \n",
       "25%                         7.669250e-01               0.000000e+00  \n",
       "50%                         7.669250e-01               2.214840e-01  \n",
       "75%                         7.669250e-01               4.429680e-01  \n",
       "max                         7.669250e-01               1.000000e+00  \n",
       "\n",
       "[8 rows x 27 columns]"
      ]
     },
     "execution_count": 8,
     "metadata": {},
     "output_type": "execute_result"
    }
   ],
   "source": [
    "df.describe()"
   ]
  },
  {
   "cell_type": "code",
   "execution_count": 10,
   "id": "d4c87e23-8f59-47dc-97bc-197fc97f16e7",
   "metadata": {},
   "outputs": [
    {
     "name": "stdout",
     "output_type": "stream",
     "text": [
      "<class 'pandas.core.frame.DataFrame'>\n",
      "RangeIndex: 6123270 entries, 0 to 6123269\n",
      "Data columns (total 35 columns):\n",
      " #   Column                             Dtype  \n",
      "---  ------                             -----  \n",
      " 0   problem_log_id                     int64  \n",
      " 1   skill                              object \n",
      " 2   problem_id                         int64  \n",
      " 3   user_id                            int64  \n",
      " 4   assignment_id                      int64  \n",
      " 5   assistment_id                      int64  \n",
      " 6   start_time                         object \n",
      " 7   end_time                           object \n",
      " 8   problem_type                       object \n",
      " 9   original                           int64  \n",
      " 10  correct                            float64\n",
      " 11  bottom_hint                        float64\n",
      " 12  hint_count                         int64  \n",
      " 13  actions                            object \n",
      " 14  attempt_count                      int64  \n",
      " 15  ms_first_response                  int64  \n",
      " 16  tutor_mode                         object \n",
      " 17  sequence_id                        int64  \n",
      " 18  student_class_id                   int64  \n",
      " 19  position                           int64  \n",
      " 20  type                               object \n",
      " 21  base_sequence_id                   int64  \n",
      " 22  skill_id                           float64\n",
      " 23  teacher_id                         int64  \n",
      " 24  school_id                          float64\n",
      " 25  overlap_time                       int64  \n",
      " 26  template_id                        int64  \n",
      " 27  answer_id                          float64\n",
      " 28  answer_text                        object \n",
      " 29  first_action                       int64  \n",
      " 30  problemlogid                       int64  \n",
      " 31  Average_confidence(FRUSTRATED)     float64\n",
      " 32  Average_confidence(CONFUSED)       float64\n",
      " 33  Average_confidence(CONCENTRATING)  float64\n",
      " 34  Average_confidence(BORED)          float64\n",
      "dtypes: float64(9), int64(18), object(8)\n",
      "memory usage: 1.6+ GB\n"
     ]
    }
   ],
   "source": [
    "df.info()"
   ]
  },
  {
   "cell_type": "code",
   "execution_count": 34,
   "id": "49697b1c-42b7-4e01-af03-3690883e1cba",
   "metadata": {},
   "outputs": [
    {
     "data": {
      "text/plain": [
       "3652261    0.0\n",
       "1571821    0.0\n",
       "5060295    0.0\n",
       "5060296    0.0\n",
       "5060297    0.0\n",
       "          ... \n",
       "2435597    1.0\n",
       "2435596    1.0\n",
       "2435595    1.0\n",
       "2435593    1.0\n",
       "6123269    1.0\n",
       "Name: correct, Length: 6123270, dtype: float64"
      ]
     },
     "execution_count": 34,
     "metadata": {},
     "output_type": "execute_result"
    }
   ],
   "source": [
    "df['correct'].sort_values()"
   ]
  },
  {
   "cell_type": "code",
   "execution_count": null,
   "id": "b32b32d5-3368-4f80-a756-68058c059755",
   "metadata": {},
   "outputs": [],
   "source": []
  },
  {
   "cell_type": "code",
   "execution_count": null,
   "id": "7b5b0818-c683-4b93-b8a8-c6392a61e5a9",
   "metadata": {},
   "outputs": [],
   "source": []
  },
  {
   "cell_type": "code",
   "execution_count": 14,
   "id": "48d3fd43-e011-49e3-918f-878c4283a69f",
   "metadata": {
    "scrolled": true
   },
   "outputs": [
    {
     "name": "stdout",
     "output_type": "stream",
     "text": [
      "Columns with missing values:\n",
      "\n",
      "answer_id      6114995\n",
      "skill          3493190\n",
      "skill_id       3411457\n",
      "answer_text     346500\n",
      "bottom_hint      60348\n",
      "school_id          157\n",
      "dtype: int64\n"
     ]
    }
   ],
   "source": [
    "# Check missing/null values in each column\n",
    "missing_values = df.isnull().sum()\n",
    "\n",
    "# Filter only columns with missing values\n",
    "missing_values = missing_values[missing_values > 0]\n",
    "\n",
    "# Display\n",
    "print(\"Columns with missing values:\\n\")\n",
    "print(missing_values.sort_values(ascending=False))"
   ]
  },
  {
   "cell_type": "code",
   "execution_count": 20,
   "id": "93c62690-5cf4-4ee9-a14d-38ec28c9fb3f",
   "metadata": {},
   "outputs": [
    {
     "data": {
      "text/html": [
       "<div>\n",
       "<style scoped>\n",
       "    .dataframe tbody tr th:only-of-type {\n",
       "        vertical-align: middle;\n",
       "    }\n",
       "\n",
       "    .dataframe tbody tr th {\n",
       "        vertical-align: top;\n",
       "    }\n",
       "\n",
       "    .dataframe thead th {\n",
       "        text-align: right;\n",
       "    }\n",
       "</style>\n",
       "<table border=\"1\" class=\"dataframe\">\n",
       "  <thead>\n",
       "    <tr style=\"text-align: right;\">\n",
       "      <th></th>\n",
       "      <th>answer_id</th>\n",
       "      <th>skill</th>\n",
       "      <th>skill_id</th>\n",
       "      <th>answer_text</th>\n",
       "      <th>bottom_hint</th>\n",
       "      <th>school_id</th>\n",
       "    </tr>\n",
       "  </thead>\n",
       "  <tbody>\n",
       "    <tr>\n",
       "      <th>0</th>\n",
       "      <td>NaN</td>\n",
       "      <td>NaN</td>\n",
       "      <td>NaN</td>\n",
       "      <td>she</td>\n",
       "      <td>0.0</td>\n",
       "      <td>5048.0</td>\n",
       "    </tr>\n",
       "    <tr>\n",
       "      <th>1</th>\n",
       "      <td>NaN</td>\n",
       "      <td>Rounding</td>\n",
       "      <td>54.0</td>\n",
       "      <td>74.29</td>\n",
       "      <td>0.0</td>\n",
       "      <td>5048.0</td>\n",
       "    </tr>\n",
       "    <tr>\n",
       "      <th>2</th>\n",
       "      <td>NaN</td>\n",
       "      <td>Multiplication and Division Integers</td>\n",
       "      <td>279.0</td>\n",
       "      <td>00</td>\n",
       "      <td>0.0</td>\n",
       "      <td>5048.0</td>\n",
       "    </tr>\n",
       "    <tr>\n",
       "      <th>3</th>\n",
       "      <td>NaN</td>\n",
       "      <td>Proportion</td>\n",
       "      <td>79.0</td>\n",
       "      <td>3.8</td>\n",
       "      <td>0.0</td>\n",
       "      <td>5048.0</td>\n",
       "    </tr>\n",
       "    <tr>\n",
       "      <th>4</th>\n",
       "      <td>NaN</td>\n",
       "      <td>NaN</td>\n",
       "      <td>NaN</td>\n",
       "      <td>C (wr - 1)(wr + 1)</td>\n",
       "      <td>0.0</td>\n",
       "      <td>7561.0</td>\n",
       "    </tr>\n",
       "    <tr>\n",
       "      <th>...</th>\n",
       "      <td>...</td>\n",
       "      <td>...</td>\n",
       "      <td>...</td>\n",
       "      <td>...</td>\n",
       "      <td>...</td>\n",
       "      <td>...</td>\n",
       "    </tr>\n",
       "    <tr>\n",
       "      <th>6123265</th>\n",
       "      <td>NaN</td>\n",
       "      <td>NaN</td>\n",
       "      <td>NaN</td>\n",
       "      <td>yes</td>\n",
       "      <td>0.0</td>\n",
       "      <td>6205.0</td>\n",
       "    </tr>\n",
       "    <tr>\n",
       "      <th>6123266</th>\n",
       "      <td>NaN</td>\n",
       "      <td>NaN</td>\n",
       "      <td>NaN</td>\n",
       "      <td>Biotic factors in a forest</td>\n",
       "      <td>0.0</td>\n",
       "      <td>11779.0</td>\n",
       "    </tr>\n",
       "    <tr>\n",
       "      <th>6123267</th>\n",
       "      <td>NaN</td>\n",
       "      <td>Addition and Subtraction Integers</td>\n",
       "      <td>277.0</td>\n",
       "      <td>-19</td>\n",
       "      <td>0.0</td>\n",
       "      <td>12406.0</td>\n",
       "    </tr>\n",
       "    <tr>\n",
       "      <th>6123268</th>\n",
       "      <td>NaN</td>\n",
       "      <td>NaN</td>\n",
       "      <td>NaN</td>\n",
       "      <td>Yes</td>\n",
       "      <td>0.0</td>\n",
       "      <td>6168.0</td>\n",
       "    </tr>\n",
       "    <tr>\n",
       "      <th>6123269</th>\n",
       "      <td>NaN</td>\n",
       "      <td>NaN</td>\n",
       "      <td>NaN</td>\n",
       "      <td>4</td>\n",
       "      <td>0.0</td>\n",
       "      <td>5056.0</td>\n",
       "    </tr>\n",
       "  </tbody>\n",
       "</table>\n",
       "<p>6123270 rows × 6 columns</p>\n",
       "</div>"
      ],
      "text/plain": [
       "         answer_id                                 skill  skill_id  \\\n",
       "0              NaN                                   NaN       NaN   \n",
       "1              NaN                              Rounding      54.0   \n",
       "2              NaN  Multiplication and Division Integers     279.0   \n",
       "3              NaN                            Proportion      79.0   \n",
       "4              NaN                                   NaN       NaN   \n",
       "...            ...                                   ...       ...   \n",
       "6123265        NaN                                   NaN       NaN   \n",
       "6123266        NaN                                   NaN       NaN   \n",
       "6123267        NaN     Addition and Subtraction Integers     277.0   \n",
       "6123268        NaN                                   NaN       NaN   \n",
       "6123269        NaN                                   NaN       NaN   \n",
       "\n",
       "                        answer_text  bottom_hint  school_id  \n",
       "0                               she          0.0     5048.0  \n",
       "1                             74.29          0.0     5048.0  \n",
       "2                                00          0.0     5048.0  \n",
       "3                               3.8          0.0     5048.0  \n",
       "4                C (wr - 1)(wr + 1)          0.0     7561.0  \n",
       "...                             ...          ...        ...  \n",
       "6123265                         yes          0.0     6205.0  \n",
       "6123266  Biotic factors in a forest          0.0    11779.0  \n",
       "6123267                         -19          0.0    12406.0  \n",
       "6123268                         Yes          0.0     6168.0  \n",
       "6123269                           4          0.0     5056.0  \n",
       "\n",
       "[6123270 rows x 6 columns]"
      ]
     },
     "execution_count": 20,
     "metadata": {},
     "output_type": "execute_result"
    }
   ],
   "source": [
    "df[['answer_id', 'skill', 'skill_id', 'answer_text', 'bottom_hint', 'school_id']]"
   ]
  },
  {
   "cell_type": "code",
   "execution_count": 28,
   "id": "6ec2f82a-cdf5-4a6e-a605-d0a99caaa7df",
   "metadata": {},
   "outputs": [
    {
     "data": {
      "text/plain": [
       "3030       test\n",
       "5644       test\n",
       "19309      test\n",
       "29579      test\n",
       "29628      test\n",
       "           ... \n",
       "6105144    test\n",
       "6105155    test\n",
       "6108230    test\n",
       "6116919    test\n",
       "6117189    test\n",
       "Name: tutor_mode, Length: 2272, dtype: object"
      ]
     },
     "execution_count": 28,
     "metadata": {},
     "output_type": "execute_result"
    }
   ],
   "source": [
    "df[df['tutor_mode']!='tutor']['tutor_mode']"
   ]
  },
  {
   "cell_type": "code",
   "execution_count": 18,
   "id": "f59d1087-92e7-4889-b76c-e6bee7ef7783",
   "metadata": {},
   "outputs": [
    {
     "name": "stdout",
     "output_type": "stream",
     "text": [
      "\n",
      "Column: answer_id\n",
      "----------------------------------------\n",
      "Unique values: 3816\n",
      "Sample values:\n",
      "[  57641.  495318.  214815. 1133329.  943894.]\n",
      "Missing count: 6114995\n",
      "\n",
      "Column: skill\n",
      "----------------------------------------\n",
      "Unique values: 198\n",
      "Sample values:\n",
      "['Rounding' 'Multiplication and Division Integers' 'Proportion'\n",
      " 'Exponents' 'Equation Solving Two or Fewer Steps']\n",
      "Missing count: 3493190\n",
      "\n",
      "Column: skill_id\n",
      "----------------------------------------\n",
      "Unique values: 265\n",
      "Sample values:\n",
      "[ 54. 279.  79.  86. 311.]\n",
      "Missing count: 3411457\n",
      "\n",
      "Column: answer_text\n",
      "----------------------------------------\n",
      "Unique values: 224738\n",
      "Sample values:\n",
      "['she' '74.29' '00' '3.8' 'C (wr - 1)(wr + 1)']\n",
      "Missing count: 346500\n",
      "\n",
      "Column: bottom_hint\n",
      "----------------------------------------\n",
      "Unique values: 2\n",
      "Sample values:\n",
      "[0. 1.]\n",
      "Missing count: 60348\n",
      "\n",
      "Column: school_id\n",
      "----------------------------------------\n",
      "Unique values: 661\n",
      "Sample values:\n",
      "[5048. 7561. 4986. 5056.   76.]\n",
      "Missing count: 157\n"
     ]
    }
   ],
   "source": [
    "columns_with_missing = ['answer_id', 'skill', 'skill_id', 'answer_text', 'bottom_hint', 'school_id']\n",
    "\n",
    "for col in columns_with_missing:\n",
    "    print(f\"\\nColumn: {col}\")\n",
    "    print(\"-\" * 40)\n",
    "    print(\"Unique values:\", df[col].nunique())\n",
    "    print(\"Sample values:\")\n",
    "    print(df[col].dropna().unique()[:5])  # Just showing first 5 unique non-null values\n",
    "    print(\"Missing count:\", df[col].isnull().sum())"
   ]
  },
  {
   "cell_type": "code",
   "execution_count": 38,
   "id": "3643320b-752c-4f05-9ea1-ce888b9e3892",
   "metadata": {},
   "outputs": [
    {
     "name": "stdout",
     "output_type": "stream",
     "text": [
      "Missing values in each column:\n",
      "\n",
      "skill          3493190\n",
      "bottom_hint      60348\n",
      "school_id          157\n",
      "dtype: int64\n"
     ]
    }
   ],
   "source": [
    "missing_summary = df.isnull().sum()\n",
    "print(\"Missing values in each column:\\n\")\n",
    "print(missing_summary[missing_summary > 0])"
   ]
  },
  {
   "cell_type": "code",
   "execution_count": null,
   "id": "a3de771f-befa-453d-bdf7-4960da1f3962",
   "metadata": {},
   "outputs": [],
   "source": []
  },
  {
   "cell_type": "code",
   "execution_count": null,
   "id": "49227473-1e78-4298-9ba2-8bfe9ade8fd0",
   "metadata": {},
   "outputs": [],
   "source": []
  },
  {
   "cell_type": "code",
   "execution_count": null,
   "id": "3c1b20a6-9e2c-4f17-9f2a-42f370e28b50",
   "metadata": {},
   "outputs": [],
   "source": []
  },
  {
   "cell_type": "code",
   "execution_count": null,
   "id": "f12ad9ee-5e2d-4b6a-9184-9614240afc1c",
   "metadata": {},
   "outputs": [],
   "source": []
  },
  {
   "cell_type": "code",
   "execution_count": null,
   "id": "b11fa442-6a14-41f7-8fc6-1192ffd3c90f",
   "metadata": {},
   "outputs": [],
   "source": []
  },
  {
   "cell_type": "code",
   "execution_count": 40,
   "id": "1a863882-063a-4a8c-b68f-2b6206d079b6",
   "metadata": {},
   "outputs": [
    {
     "ename": "KeyError",
     "evalue": "\"['answer_id', 'answer_text'] not found in axis\"",
     "output_type": "error",
     "traceback": [
      "\u001b[0;31m---------------------------------------------------------------------------\u001b[0m",
      "\u001b[0;31mKeyError\u001b[0m                                  Traceback (most recent call last)",
      "Cell \u001b[0;32mIn[40], line 2\u001b[0m\n\u001b[1;32m      1\u001b[0m \u001b[38;5;66;03m# Drop high-sparsity or low-utility columns\u001b[39;00m\n\u001b[0;32m----> 2\u001b[0m df\u001b[38;5;241m.\u001b[39mdrop(columns\u001b[38;5;241m=\u001b[39m[\u001b[38;5;124m'\u001b[39m\u001b[38;5;124manswer_id\u001b[39m\u001b[38;5;124m'\u001b[39m, \u001b[38;5;124m'\u001b[39m\u001b[38;5;124manswer_text\u001b[39m\u001b[38;5;124m'\u001b[39m], inplace\u001b[38;5;241m=\u001b[39m\u001b[38;5;28;01mTrue\u001b[39;00m)\n\u001b[1;32m      4\u001b[0m \u001b[38;5;66;03m# Optional: Drop 'skill_id' if you're keeping 'skill' for bias testing\u001b[39;00m\n\u001b[1;32m      5\u001b[0m df\u001b[38;5;241m.\u001b[39mdrop(columns\u001b[38;5;241m=\u001b[39m[\u001b[38;5;124m'\u001b[39m\u001b[38;5;124mskill_id\u001b[39m\u001b[38;5;124m'\u001b[39m], inplace\u001b[38;5;241m=\u001b[39m\u001b[38;5;28;01mTrue\u001b[39;00m)\n",
      "File \u001b[0;32m/opt/anaconda3/lib/python3.12/site-packages/pandas/core/frame.py:5581\u001b[0m, in \u001b[0;36mDataFrame.drop\u001b[0;34m(self, labels, axis, index, columns, level, inplace, errors)\u001b[0m\n\u001b[1;32m   5433\u001b[0m \u001b[38;5;28;01mdef\u001b[39;00m \u001b[38;5;21mdrop\u001b[39m(\n\u001b[1;32m   5434\u001b[0m     \u001b[38;5;28mself\u001b[39m,\n\u001b[1;32m   5435\u001b[0m     labels: IndexLabel \u001b[38;5;241m|\u001b[39m \u001b[38;5;28;01mNone\u001b[39;00m \u001b[38;5;241m=\u001b[39m \u001b[38;5;28;01mNone\u001b[39;00m,\n\u001b[0;32m   (...)\u001b[0m\n\u001b[1;32m   5442\u001b[0m     errors: IgnoreRaise \u001b[38;5;241m=\u001b[39m \u001b[38;5;124m\"\u001b[39m\u001b[38;5;124mraise\u001b[39m\u001b[38;5;124m\"\u001b[39m,\n\u001b[1;32m   5443\u001b[0m ) \u001b[38;5;241m-\u001b[39m\u001b[38;5;241m>\u001b[39m DataFrame \u001b[38;5;241m|\u001b[39m \u001b[38;5;28;01mNone\u001b[39;00m:\n\u001b[1;32m   5444\u001b[0m \u001b[38;5;250m    \u001b[39m\u001b[38;5;124;03m\"\"\"\u001b[39;00m\n\u001b[1;32m   5445\u001b[0m \u001b[38;5;124;03m    Drop specified labels from rows or columns.\u001b[39;00m\n\u001b[1;32m   5446\u001b[0m \n\u001b[0;32m   (...)\u001b[0m\n\u001b[1;32m   5579\u001b[0m \u001b[38;5;124;03m            weight  1.0     0.8\u001b[39;00m\n\u001b[1;32m   5580\u001b[0m \u001b[38;5;124;03m    \"\"\"\u001b[39;00m\n\u001b[0;32m-> 5581\u001b[0m     \u001b[38;5;28;01mreturn\u001b[39;00m \u001b[38;5;28msuper\u001b[39m()\u001b[38;5;241m.\u001b[39mdrop(\n\u001b[1;32m   5582\u001b[0m         labels\u001b[38;5;241m=\u001b[39mlabels,\n\u001b[1;32m   5583\u001b[0m         axis\u001b[38;5;241m=\u001b[39maxis,\n\u001b[1;32m   5584\u001b[0m         index\u001b[38;5;241m=\u001b[39mindex,\n\u001b[1;32m   5585\u001b[0m         columns\u001b[38;5;241m=\u001b[39mcolumns,\n\u001b[1;32m   5586\u001b[0m         level\u001b[38;5;241m=\u001b[39mlevel,\n\u001b[1;32m   5587\u001b[0m         inplace\u001b[38;5;241m=\u001b[39minplace,\n\u001b[1;32m   5588\u001b[0m         errors\u001b[38;5;241m=\u001b[39merrors,\n\u001b[1;32m   5589\u001b[0m     )\n",
      "File \u001b[0;32m/opt/anaconda3/lib/python3.12/site-packages/pandas/core/generic.py:4788\u001b[0m, in \u001b[0;36mNDFrame.drop\u001b[0;34m(self, labels, axis, index, columns, level, inplace, errors)\u001b[0m\n\u001b[1;32m   4786\u001b[0m \u001b[38;5;28;01mfor\u001b[39;00m axis, labels \u001b[38;5;129;01min\u001b[39;00m axes\u001b[38;5;241m.\u001b[39mitems():\n\u001b[1;32m   4787\u001b[0m     \u001b[38;5;28;01mif\u001b[39;00m labels \u001b[38;5;129;01mis\u001b[39;00m \u001b[38;5;129;01mnot\u001b[39;00m \u001b[38;5;28;01mNone\u001b[39;00m:\n\u001b[0;32m-> 4788\u001b[0m         obj \u001b[38;5;241m=\u001b[39m obj\u001b[38;5;241m.\u001b[39m_drop_axis(labels, axis, level\u001b[38;5;241m=\u001b[39mlevel, errors\u001b[38;5;241m=\u001b[39merrors)\n\u001b[1;32m   4790\u001b[0m \u001b[38;5;28;01mif\u001b[39;00m inplace:\n\u001b[1;32m   4791\u001b[0m     \u001b[38;5;28mself\u001b[39m\u001b[38;5;241m.\u001b[39m_update_inplace(obj)\n",
      "File \u001b[0;32m/opt/anaconda3/lib/python3.12/site-packages/pandas/core/generic.py:4830\u001b[0m, in \u001b[0;36mNDFrame._drop_axis\u001b[0;34m(self, labels, axis, level, errors, only_slice)\u001b[0m\n\u001b[1;32m   4828\u001b[0m         new_axis \u001b[38;5;241m=\u001b[39m axis\u001b[38;5;241m.\u001b[39mdrop(labels, level\u001b[38;5;241m=\u001b[39mlevel, errors\u001b[38;5;241m=\u001b[39merrors)\n\u001b[1;32m   4829\u001b[0m     \u001b[38;5;28;01melse\u001b[39;00m:\n\u001b[0;32m-> 4830\u001b[0m         new_axis \u001b[38;5;241m=\u001b[39m axis\u001b[38;5;241m.\u001b[39mdrop(labels, errors\u001b[38;5;241m=\u001b[39merrors)\n\u001b[1;32m   4831\u001b[0m     indexer \u001b[38;5;241m=\u001b[39m axis\u001b[38;5;241m.\u001b[39mget_indexer(new_axis)\n\u001b[1;32m   4833\u001b[0m \u001b[38;5;66;03m# Case for non-unique axis\u001b[39;00m\n\u001b[1;32m   4834\u001b[0m \u001b[38;5;28;01melse\u001b[39;00m:\n",
      "File \u001b[0;32m/opt/anaconda3/lib/python3.12/site-packages/pandas/core/indexes/base.py:7070\u001b[0m, in \u001b[0;36mIndex.drop\u001b[0;34m(self, labels, errors)\u001b[0m\n\u001b[1;32m   7068\u001b[0m \u001b[38;5;28;01mif\u001b[39;00m mask\u001b[38;5;241m.\u001b[39many():\n\u001b[1;32m   7069\u001b[0m     \u001b[38;5;28;01mif\u001b[39;00m errors \u001b[38;5;241m!=\u001b[39m \u001b[38;5;124m\"\u001b[39m\u001b[38;5;124mignore\u001b[39m\u001b[38;5;124m\"\u001b[39m:\n\u001b[0;32m-> 7070\u001b[0m         \u001b[38;5;28;01mraise\u001b[39;00m \u001b[38;5;167;01mKeyError\u001b[39;00m(\u001b[38;5;124mf\u001b[39m\u001b[38;5;124m\"\u001b[39m\u001b[38;5;132;01m{\u001b[39;00mlabels[mask]\u001b[38;5;241m.\u001b[39mtolist()\u001b[38;5;132;01m}\u001b[39;00m\u001b[38;5;124m not found in axis\u001b[39m\u001b[38;5;124m\"\u001b[39m)\n\u001b[1;32m   7071\u001b[0m     indexer \u001b[38;5;241m=\u001b[39m indexer[\u001b[38;5;241m~\u001b[39mmask]\n\u001b[1;32m   7072\u001b[0m \u001b[38;5;28;01mreturn\u001b[39;00m \u001b[38;5;28mself\u001b[39m\u001b[38;5;241m.\u001b[39mdelete(indexer)\n",
      "\u001b[0;31mKeyError\u001b[0m: \"['answer_id', 'answer_text'] not found in axis\""
     ]
    }
   ],
   "source": [
    "# Drop high-sparsity or low-utility columns\n",
    "df.drop(columns=['answer_id', 'answer_text'], inplace=True)\n",
    "\n",
    "# Optional: Drop 'skill_id' if you're keeping 'skill' for bias testing\n",
    "df.drop(columns=['skill_id'], inplace=True)"
   ]
  },
  {
   "cell_type": "code",
   "execution_count": 42,
   "id": "18a10261-8ffd-437d-b189-bf1a48fc4435",
   "metadata": {},
   "outputs": [
    {
     "name": "stdout",
     "output_type": "stream",
     "text": [
      "Missing values in each column:\n",
      "\n",
      "skill          3493190\n",
      "bottom_hint      60348\n",
      "school_id          157\n",
      "dtype: int64\n"
     ]
    }
   ],
   "source": [
    "missing_summary = df.isnull().sum()\n",
    "print(\"Missing values in each column:\\n\")\n",
    "print(missing_summary[missing_summary > 0])"
   ]
  },
  {
   "cell_type": "code",
   "execution_count": 44,
   "id": "fac914ac-4b96-44ea-8c45-b5853fe039c7",
   "metadata": {},
   "outputs": [
    {
     "name": "stdout",
     "output_type": "stream",
     "text": [
      "Shape of full dataset without 'skill': (6062765, 31)\n",
      "Shape of dataset with skill included: (2588323, 32)\n"
     ]
    }
   ],
   "source": [
    "# ----- Dataset 1: Full dataset (drop 'skill', clean bottom_hint + school_id) -----\n",
    "df_full = df.drop(columns=['skill']).copy()  # Drop the sparse 'skill' column\n",
    "df_full.dropna(subset=['bottom_hint', 'school_id'], inplace=True)\n",
    "\n",
    "print(\"Shape of full dataset without 'skill':\", df_full.shape)\n",
    "\n",
    "# ----- Dataset 2: Subset with 'skill' available and no missing key values -----\n",
    "df_with_skill = df.dropna(subset=['skill', 'bottom_hint', 'school_id']).copy()\n",
    "\n",
    "print(\"Shape of dataset with skill included:\", df_with_skill.shape)"
   ]
  },
  {
   "cell_type": "code",
   "execution_count": null,
   "id": "5852bf00-6335-4aa1-b739-0696a24de95c",
   "metadata": {},
   "outputs": [],
   "source": []
  },
  {
   "cell_type": "code",
   "execution_count": 48,
   "id": "3f06b848-1443-4a2e-8cb7-06b7769155b2",
   "metadata": {},
   "outputs": [
    {
     "name": "stdout",
     "output_type": "stream",
     "text": [
      "Missing values in each column:\n",
      "\n",
      "Series([], dtype: int64)\n"
     ]
    }
   ],
   "source": [
    "missing_summary = df_full.isnull().sum()\n",
    "print(\"Missing values in each column:\\n\")\n",
    "print(missing_summary[missing_summary > 0])"
   ]
  },
  {
   "cell_type": "code",
   "execution_count": 50,
   "id": "a562aaaa-2b5c-438c-9957-d039a1305eba",
   "metadata": {},
   "outputs": [
    {
     "name": "stdout",
     "output_type": "stream",
     "text": [
      "Missing values in each column:\n",
      "\n",
      "Series([], dtype: int64)\n"
     ]
    }
   ],
   "source": [
    "missing_summary = df_with_skill.isnull().sum()\n",
    "print(\"Missing values in each column:\\n\")\n",
    "print(missing_summary[missing_summary > 0])"
   ]
  },
  {
   "cell_type": "code",
   "execution_count": null,
   "id": "156db701-a383-478a-976e-134766dd2242",
   "metadata": {},
   "outputs": [],
   "source": []
  },
  {
   "cell_type": "code",
   "execution_count": null,
   "id": "c9189ac7-94e6-4101-a6a7-149f9d943603",
   "metadata": {},
   "outputs": [],
   "source": []
  },
  {
   "cell_type": "code",
   "execution_count": 52,
   "id": "3051ba56-ef88-402d-af51-7530f7ac460a",
   "metadata": {},
   "outputs": [
    {
     "data": {
      "image/png": "[encoded data removed]",
      "text/plain": [
       "<Figure size 1600x1000 with 2 Axes>"
      ]
     },
     "metadata": {},
     "output_type": "display_data"
    }
   ],
   "source": [
    "import matplotlib.pyplot as plt\n",
    "import seaborn as sns\n",
    "\n",
    "# Select only numeric columns\n",
    "numeric_cols = df_with_skill.select_dtypes(include=['int64', 'float64'])\n",
    "\n",
    "# Compute correlation matrix\n",
    "corr_matrix = numeric_cols.corr()\n",
    "\n",
    "# Plot heatmap\n",
    "plt.figure(figsize=(16, 10))\n",
    "sns.heatmap(corr_matrix, cmap='coolwarm', annot=False, linewidths=0.5)\n",
    "plt.title(\"Correlation Heatmap (df_with_skill)\")\n",
    "plt.show()"
   ]
  },
  {
   "cell_type": "code",
   "execution_count": 64,
   "id": "a8b0db28-31ce-4150-8268-d16f09fed395",
   "metadata": {
    "collapsed": true,
    "jupyter": {
     "outputs_hidden": true
    }
   },
   "outputs": [
    {
     "data": {
      "text/html": [
       "<div>\n",
       "<style scoped>\n",
       "    .dataframe tbody tr th:only-of-type {\n",
       "        vertical-align: middle;\n",
       "    }\n",
       "\n",
       "    .dataframe tbody tr th {\n",
       "        vertical-align: top;\n",
       "    }\n",
       "\n",
       "    .dataframe thead th {\n",
       "        text-align: right;\n",
       "    }\n",
       "</style>\n",
       "<table border=\"1\" class=\"dataframe\">\n",
       "  <thead>\n",
       "    <tr style=\"text-align: right;\">\n",
       "      <th></th>\n",
       "      <th>Feature 1</th>\n",
       "      <th>Feature 2</th>\n",
       "      <th>Correlation</th>\n",
       "    </tr>\n",
       "  </thead>\n",
       "  <tbody>\n",
       "    <tr>\n",
       "      <th>199</th>\n",
       "      <td>ms_first_response</td>\n",
       "      <td>overlap_time</td>\n",
       "      <td>0.979507</td>\n",
       "    </tr>\n",
       "    <tr>\n",
       "      <th>219</th>\n",
       "      <td>sequence_id</td>\n",
       "      <td>base_sequence_id</td>\n",
       "      <td>0.936114</td>\n",
       "    </tr>\n",
       "    <tr>\n",
       "      <th>121</th>\n",
       "      <td>bottom_hint</td>\n",
       "      <td>hint_count</td>\n",
       "      <td>0.898909</td>\n",
       "    </tr>\n",
       "    <tr>\n",
       "      <th>62</th>\n",
       "      <td>assistment_id</td>\n",
       "      <td>template_id</td>\n",
       "      <td>0.885537</td>\n",
       "    </tr>\n",
       "    <tr>\n",
       "      <th>41</th>\n",
       "      <td>assignment_id</td>\n",
       "      <td>problemlogid</td>\n",
       "      <td>0.835692</td>\n",
       "    </tr>\n",
       "    <tr>\n",
       "      <th>13</th>\n",
       "      <td>user_id</td>\n",
       "      <td>teacher_id</td>\n",
       "      <td>0.544884</td>\n",
       "    </tr>\n",
       "    <tr>\n",
       "      <th>313</th>\n",
       "      <td>teacher_id</td>\n",
       "      <td>school_id</td>\n",
       "      <td>0.523541</td>\n",
       "    </tr>\n",
       "    <tr>\n",
       "      <th>33</th>\n",
       "      <td>assignment_id</td>\n",
       "      <td>student_class_id</td>\n",
       "      <td>0.482608</td>\n",
       "    </tr>\n",
       "    <tr>\n",
       "      <th>55</th>\n",
       "      <td>assistment_id</td>\n",
       "      <td>sequence_id</td>\n",
       "      <td>0.411222</td>\n",
       "    </tr>\n",
       "    <tr>\n",
       "      <th>58</th>\n",
       "      <td>assistment_id</td>\n",
       "      <td>base_sequence_id</td>\n",
       "      <td>0.403625</td>\n",
       "    </tr>\n",
       "    <tr>\n",
       "      <th>145</th>\n",
       "      <td>hint_count</td>\n",
       "      <td>attempt_count</td>\n",
       "      <td>0.391682</td>\n",
       "    </tr>\n",
       "    <tr>\n",
       "      <th>223</th>\n",
       "      <td>sequence_id</td>\n",
       "      <td>template_id</td>\n",
       "      <td>0.382975</td>\n",
       "    </tr>\n",
       "    <tr>\n",
       "      <th>292</th>\n",
       "      <td>base_sequence_id</td>\n",
       "      <td>template_id</td>\n",
       "      <td>0.373031</td>\n",
       "    </tr>\n",
       "    <tr>\n",
       "      <th>122</th>\n",
       "      <td>bottom_hint</td>\n",
       "      <td>attempt_count</td>\n",
       "      <td>0.372556</td>\n",
       "    </tr>\n",
       "    <tr>\n",
       "      <th>132</th>\n",
       "      <td>bottom_hint</td>\n",
       "      <td>first_action</td>\n",
       "      <td>0.348115</td>\n",
       "    </tr>\n",
       "    <tr>\n",
       "      <th>155</th>\n",
       "      <td>hint_count</td>\n",
       "      <td>first_action</td>\n",
       "      <td>0.348072</td>\n",
       "    </tr>\n",
       "    <tr>\n",
       "      <th>32</th>\n",
       "      <td>assignment_id</td>\n",
       "      <td>sequence_id</td>\n",
       "      <td>0.319164</td>\n",
       "    </tr>\n",
       "    <tr>\n",
       "      <th>248</th>\n",
       "      <td>student_class_id</td>\n",
       "      <td>problemlogid</td>\n",
       "      <td>0.308137</td>\n",
       "    </tr>\n",
       "    <tr>\n",
       "      <th>35</th>\n",
       "      <td>assignment_id</td>\n",
       "      <td>base_sequence_id</td>\n",
       "      <td>0.302209</td>\n",
       "    </tr>\n",
       "    <tr>\n",
       "      <th>109</th>\n",
       "      <td>correct</td>\n",
       "      <td>first_action</td>\n",
       "      <td>-0.320148</td>\n",
       "    </tr>\n",
       "    <tr>\n",
       "      <th>99</th>\n",
       "      <td>correct</td>\n",
       "      <td>attempt_count</td>\n",
       "      <td>-0.476629</td>\n",
       "    </tr>\n",
       "    <tr>\n",
       "      <th>97</th>\n",
       "      <td>correct</td>\n",
       "      <td>bottom_hint</td>\n",
       "      <td>-0.563751</td>\n",
       "    </tr>\n",
       "    <tr>\n",
       "      <th>98</th>\n",
       "      <td>correct</td>\n",
       "      <td>hint_count</td>\n",
       "      <td>-0.566449</td>\n",
       "    </tr>\n",
       "  </tbody>\n",
       "</table>\n",
       "</div>"
      ],
      "text/plain": [
       "             Feature 1         Feature 2  Correlation\n",
       "199  ms_first_response      overlap_time     0.979507\n",
       "219        sequence_id  base_sequence_id     0.936114\n",
       "121        bottom_hint        hint_count     0.898909\n",
       "62       assistment_id       template_id     0.885537\n",
       "41       assignment_id      problemlogid     0.835692\n",
       "13             user_id        teacher_id     0.544884\n",
       "313         teacher_id         school_id     0.523541\n",
       "33       assignment_id  student_class_id     0.482608\n",
       "55       assistment_id       sequence_id     0.411222\n",
       "58       assistment_id  base_sequence_id     0.403625\n",
       "145         hint_count     attempt_count     0.391682\n",
       "223        sequence_id       template_id     0.382975\n",
       "292   base_sequence_id       template_id     0.373031\n",
       "122        bottom_hint     attempt_count     0.372556\n",
       "132        bottom_hint      first_action     0.348115\n",
       "155         hint_count      first_action     0.348072\n",
       "32       assignment_id       sequence_id     0.319164\n",
       "248   student_class_id      problemlogid     0.308137\n",
       "35       assignment_id  base_sequence_id     0.302209\n",
       "109            correct      first_action    -0.320148\n",
       "99             correct     attempt_count    -0.476629\n",
       "97             correct       bottom_hint    -0.563751\n",
       "98             correct        hint_count    -0.566449"
      ]
     },
     "execution_count": 64,
     "metadata": {},
     "output_type": "execute_result"
    }
   ],
   "source": [
    "# Compute correlation matrix\n",
    "corr_matrix = df_with_skill.select_dtypes(include=['int64', 'float64']).corr()\n",
    "\n",
    "# Unstack the matrix into a long format\n",
    "corr_pairs = corr_matrix.unstack().reset_index()\n",
    "corr_pairs.columns = ['Feature 1', 'Feature 2', 'Correlation']\n",
    "\n",
    "# Remove self-correlations\n",
    "corr_pairs = corr_pairs[corr_pairs['Feature 1'] != corr_pairs['Feature 2']]\n",
    "\n",
    "# Drop duplicate pairs (A-B and B-A)\n",
    "corr_pairs['Pairs'] = corr_pairs.apply(lambda row: tuple(sorted([row['Feature 1'], row['Feature 2']])), axis=1)\n",
    "corr_pairs = corr_pairs.drop_duplicates(subset='Pairs').drop(columns='Pairs')\n",
    "\n",
    "# Filter only meaningful correlations (absolute > 0.3)\n",
    "significant_corrs = corr_pairs[abs(corr_pairs['Correlation']) > 0.3].sort_values(by='Correlation', ascending=False)\n",
    "\n",
    "# Show top correlations\n",
    "significant_corrs.head(60)"
   ]
  },
  {
   "cell_type": "code",
   "execution_count": 60,
   "id": "5fc12a7f-bf0c-4246-98f8-529dfecb7dbf",
   "metadata": {},
   "outputs": [],
   "source": [
    "df_with_skill.drop(columns=['problem_id', 'problem_log_id'], inplace=True)"
   ]
  },
  {
   "cell_type": "code",
   "execution_count": 62,
   "id": "217ecab6-a391-4638-b428-2dad2cd9dfec",
   "metadata": {},
   "outputs": [
    {
     "data": {
      "image/png": "[encoded data removed]",
      "text/plain": [
       "<Figure size 1600x1000 with 2 Axes>"
      ]
     },
     "metadata": {},
     "output_type": "display_data"
    }
   ],
   "source": [
    "import matplotlib.pyplot as plt\n",
    "import seaborn as sns\n",
    "\n",
    "# Select only numeric columns\n",
    "numeric_cols = df_with_skill.select_dtypes(include=['int64', 'float64'])\n",
    "\n",
    "# Compute correlation matrix\n",
    "corr_matrix = numeric_cols.corr()\n",
    "\n",
    "# Plot heatmap\n",
    "plt.figure(figsize=(16, 10))\n",
    "sns.heatmap(corr_matrix, cmap='coolwarm', annot=False, linewidths=0.5)\n",
    "plt.title(\"Correlation Heatmap (df_with_skill)\")\n",
    "plt.show()"
   ]
  },
  {
   "cell_type": "code",
   "execution_count": 66,
   "id": "f47b0bcd-1abb-4b46-b234-7396dd6723fc",
   "metadata": {},
   "outputs": [],
   "source": [
    "df_with_skill.drop(columns=[\n",
    "    'base_sequence_id',    # Drop over sequence_id\n",
    "    'template_id',         # Drop over assistment_id\n",
    "    'hint_count',          # Drop over bottom_hint (or vice versa)\n",
    "], inplace=True)"
   ]
  },
  {
   "cell_type": "code",
   "execution_count": 68,
   "id": "691dce77-50a4-480e-977a-86abd551c504",
   "metadata": {},
   "outputs": [
    {
     "data": {
      "text/html": [
       "<div>\n",
       "<style scoped>\n",
       "    .dataframe tbody tr th:only-of-type {\n",
       "        vertical-align: middle;\n",
       "    }\n",
       "\n",
       "    .dataframe tbody tr th {\n",
       "        vertical-align: top;\n",
       "    }\n",
       "\n",
       "    .dataframe thead th {\n",
       "        text-align: right;\n",
       "    }\n",
       "</style>\n",
       "<table border=\"1\" class=\"dataframe\">\n",
       "  <thead>\n",
       "    <tr style=\"text-align: right;\">\n",
       "      <th></th>\n",
       "      <th>Feature 1</th>\n",
       "      <th>Feature 2</th>\n",
       "      <th>Correlation</th>\n",
       "    </tr>\n",
       "  </thead>\n",
       "  <tbody>\n",
       "    <tr>\n",
       "      <th>153</th>\n",
       "      <td>ms_first_response</td>\n",
       "      <td>overlap_time</td>\n",
       "      <td>0.979507</td>\n",
       "    </tr>\n",
       "    <tr>\n",
       "      <th>35</th>\n",
       "      <td>assignment_id</td>\n",
       "      <td>problemlogid</td>\n",
       "      <td>0.835692</td>\n",
       "    </tr>\n",
       "    <tr>\n",
       "      <th>11</th>\n",
       "      <td>user_id</td>\n",
       "      <td>teacher_id</td>\n",
       "      <td>0.544884</td>\n",
       "    </tr>\n",
       "    <tr>\n",
       "      <th>232</th>\n",
       "      <td>teacher_id</td>\n",
       "      <td>school_id</td>\n",
       "      <td>0.523541</td>\n",
       "    </tr>\n",
       "    <tr>\n",
       "      <th>29</th>\n",
       "      <td>assignment_id</td>\n",
       "      <td>student_class_id</td>\n",
       "      <td>0.482608</td>\n",
       "    </tr>\n",
       "    <tr>\n",
       "      <th>48</th>\n",
       "      <td>assistment_id</td>\n",
       "      <td>sequence_id</td>\n",
       "      <td>0.411222</td>\n",
       "    </tr>\n",
       "    <tr>\n",
       "      <th>106</th>\n",
       "      <td>bottom_hint</td>\n",
       "      <td>attempt_count</td>\n",
       "      <td>0.372556</td>\n",
       "    </tr>\n",
       "    <tr>\n",
       "      <th>114</th>\n",
       "      <td>bottom_hint</td>\n",
       "      <td>first_action</td>\n",
       "      <td>0.348115</td>\n",
       "    </tr>\n",
       "    <tr>\n",
       "      <th>28</th>\n",
       "      <td>assignment_id</td>\n",
       "      <td>sequence_id</td>\n",
       "      <td>0.319164</td>\n",
       "    </tr>\n",
       "    <tr>\n",
       "      <th>195</th>\n",
       "      <td>student_class_id</td>\n",
       "      <td>problemlogid</td>\n",
       "      <td>0.308137</td>\n",
       "    </tr>\n",
       "    <tr>\n",
       "      <th>94</th>\n",
       "      <td>correct</td>\n",
       "      <td>first_action</td>\n",
       "      <td>-0.320148</td>\n",
       "    </tr>\n",
       "    <tr>\n",
       "      <th>86</th>\n",
       "      <td>correct</td>\n",
       "      <td>attempt_count</td>\n",
       "      <td>-0.476629</td>\n",
       "    </tr>\n",
       "    <tr>\n",
       "      <th>85</th>\n",
       "      <td>correct</td>\n",
       "      <td>bottom_hint</td>\n",
       "      <td>-0.563751</td>\n",
       "    </tr>\n",
       "  </tbody>\n",
       "</table>\n",
       "</div>"
      ],
      "text/plain": [
       "             Feature 1         Feature 2  Correlation\n",
       "153  ms_first_response      overlap_time     0.979507\n",
       "35       assignment_id      problemlogid     0.835692\n",
       "11             user_id        teacher_id     0.544884\n",
       "232         teacher_id         school_id     0.523541\n",
       "29       assignment_id  student_class_id     0.482608\n",
       "48       assistment_id       sequence_id     0.411222\n",
       "106        bottom_hint     attempt_count     0.372556\n",
       "114        bottom_hint      first_action     0.348115\n",
       "28       assignment_id       sequence_id     0.319164\n",
       "195   student_class_id      problemlogid     0.308137\n",
       "94             correct      first_action    -0.320148\n",
       "86             correct     attempt_count    -0.476629\n",
       "85             correct       bottom_hint    -0.563751"
      ]
     },
     "execution_count": 68,
     "metadata": {},
     "output_type": "execute_result"
    }
   ],
   "source": [
    "# Compute correlation matrix\n",
    "corr_matrix = df_with_skill.select_dtypes(include=['int64', 'float64']).corr()\n",
    "\n",
    "# Unstack the matrix into a long format\n",
    "corr_pairs = corr_matrix.unstack().reset_index()\n",
    "corr_pairs.columns = ['Feature 1', 'Feature 2', 'Correlation']\n",
    "\n",
    "# Remove self-correlations\n",
    "corr_pairs = corr_pairs[corr_pairs['Feature 1'] != corr_pairs['Feature 2']]\n",
    "\n",
    "# Drop duplicate pairs (A-B and B-A)\n",
    "corr_pairs['Pairs'] = corr_pairs.apply(lambda row: tuple(sorted([row['Feature 1'], row['Feature 2']])), axis=1)\n",
    "corr_pairs = corr_pairs.drop_duplicates(subset='Pairs').drop(columns='Pairs')\n",
    "\n",
    "# Filter only meaningful correlations (absolute > 0.3)\n",
    "significant_corrs = corr_pairs[abs(corr_pairs['Correlation']) > 0.3].sort_values(by='Correlation', ascending=False)\n",
    "\n",
    "# Show top correlations\n",
    "significant_corrs.head(60)"
   ]
  },
  {
   "cell_type": "code",
   "execution_count": 84,
   "id": "8c107e5d-4522-4198-bb3d-4b870e923a10",
   "metadata": {},
   "outputs": [
    {
     "name": "stdout",
     "output_type": "stream",
     "text": [
      "ValueError: could not convert string to float: '2012-10-09 11:01:52'\n"
     ]
    },
    {
     "ename": "ValueError",
     "evalue": "DataFrame values must be numerical.",
     "output_type": "error",
     "traceback": [
      "\u001b[0;31m---------------------------------------------------------------------------\u001b[0m",
      "\u001b[0;31mValueError\u001b[0m                                Traceback (most recent call last)",
      "File \u001b[0;32m/opt/anaconda3/lib/python3.12/site-packages/aif360/datasets/structured_dataset.py:96\u001b[0m, in \u001b[0;36mStructuredDataset.__init__\u001b[0;34m(self, df, label_names, protected_attribute_names, instance_weights_name, scores_names, unprivileged_protected_attributes, privileged_protected_attributes, metadata)\u001b[0m\n\u001b[1;32m     95\u001b[0m \u001b[38;5;28;01mtry\u001b[39;00m:\n\u001b[0;32m---> 96\u001b[0m     df \u001b[38;5;241m=\u001b[39m df\u001b[38;5;241m.\u001b[39mastype(np\u001b[38;5;241m.\u001b[39mfloat64)\n\u001b[1;32m     97\u001b[0m \u001b[38;5;28;01mexcept\u001b[39;00m \u001b[38;5;167;01mValueError\u001b[39;00m \u001b[38;5;28;01mas\u001b[39;00m e:\n",
      "File \u001b[0;32m/opt/anaconda3/lib/python3.12/site-packages/pandas/core/generic.py:6643\u001b[0m, in \u001b[0;36mNDFrame.astype\u001b[0;34m(self, dtype, copy, errors)\u001b[0m\n\u001b[1;32m   6641\u001b[0m \u001b[38;5;28;01melse\u001b[39;00m:\n\u001b[1;32m   6642\u001b[0m     \u001b[38;5;66;03m# else, only a single dtype is given\u001b[39;00m\n\u001b[0;32m-> 6643\u001b[0m     new_data \u001b[38;5;241m=\u001b[39m \u001b[38;5;28mself\u001b[39m\u001b[38;5;241m.\u001b[39m_mgr\u001b[38;5;241m.\u001b[39mastype(dtype\u001b[38;5;241m=\u001b[39mdtype, copy\u001b[38;5;241m=\u001b[39mcopy, errors\u001b[38;5;241m=\u001b[39merrors)\n\u001b[1;32m   6644\u001b[0m     res \u001b[38;5;241m=\u001b[39m \u001b[38;5;28mself\u001b[39m\u001b[38;5;241m.\u001b[39m_constructor_from_mgr(new_data, axes\u001b[38;5;241m=\u001b[39mnew_data\u001b[38;5;241m.\u001b[39maxes)\n",
      "File \u001b[0;32m/opt/anaconda3/lib/python3.12/site-packages/pandas/core/internals/managers.py:430\u001b[0m, in \u001b[0;36mBaseBlockManager.astype\u001b[0;34m(self, dtype, copy, errors)\u001b[0m\n\u001b[1;32m    428\u001b[0m     copy \u001b[38;5;241m=\u001b[39m \u001b[38;5;28;01mFalse\u001b[39;00m\n\u001b[0;32m--> 430\u001b[0m \u001b[38;5;28;01mreturn\u001b[39;00m \u001b[38;5;28mself\u001b[39m\u001b[38;5;241m.\u001b[39mapply(\n\u001b[1;32m    431\u001b[0m     \u001b[38;5;124m\"\u001b[39m\u001b[38;5;124mastype\u001b[39m\u001b[38;5;124m\"\u001b[39m,\n\u001b[1;32m    432\u001b[0m     dtype\u001b[38;5;241m=\u001b[39mdtype,\n\u001b[1;32m    433\u001b[0m     copy\u001b[38;5;241m=\u001b[39mcopy,\n\u001b[1;32m    434\u001b[0m     errors\u001b[38;5;241m=\u001b[39merrors,\n\u001b[1;32m    435\u001b[0m     using_cow\u001b[38;5;241m=\u001b[39musing_copy_on_write(),\n\u001b[1;32m    436\u001b[0m )\n",
      "File \u001b[0;32m/opt/anaconda3/lib/python3.12/site-packages/pandas/core/internals/managers.py:363\u001b[0m, in \u001b[0;36mBaseBlockManager.apply\u001b[0;34m(self, f, align_keys, **kwargs)\u001b[0m\n\u001b[1;32m    362\u001b[0m \u001b[38;5;28;01melse\u001b[39;00m:\n\u001b[0;32m--> 363\u001b[0m     applied \u001b[38;5;241m=\u001b[39m \u001b[38;5;28mgetattr\u001b[39m(b, f)(\u001b[38;5;241m*\u001b[39m\u001b[38;5;241m*\u001b[39mkwargs)\n\u001b[1;32m    364\u001b[0m result_blocks \u001b[38;5;241m=\u001b[39m extend_blocks(applied, result_blocks)\n",
      "File \u001b[0;32m/opt/anaconda3/lib/python3.12/site-packages/pandas/core/internals/blocks.py:758\u001b[0m, in \u001b[0;36mBlock.astype\u001b[0;34m(self, dtype, copy, errors, using_cow, squeeze)\u001b[0m\n\u001b[1;32m    756\u001b[0m     values \u001b[38;5;241m=\u001b[39m values[\u001b[38;5;241m0\u001b[39m, :]  \u001b[38;5;66;03m# type: ignore[call-overload]\u001b[39;00m\n\u001b[0;32m--> 758\u001b[0m new_values \u001b[38;5;241m=\u001b[39m astype_array_safe(values, dtype, copy\u001b[38;5;241m=\u001b[39mcopy, errors\u001b[38;5;241m=\u001b[39merrors)\n\u001b[1;32m    760\u001b[0m new_values \u001b[38;5;241m=\u001b[39m maybe_coerce_values(new_values)\n",
      "File \u001b[0;32m/opt/anaconda3/lib/python3.12/site-packages/pandas/core/dtypes/astype.py:237\u001b[0m, in \u001b[0;36mastype_array_safe\u001b[0;34m(values, dtype, copy, errors)\u001b[0m\n\u001b[1;32m    236\u001b[0m \u001b[38;5;28;01mtry\u001b[39;00m:\n\u001b[0;32m--> 237\u001b[0m     new_values \u001b[38;5;241m=\u001b[39m astype_array(values, dtype, copy\u001b[38;5;241m=\u001b[39mcopy)\n\u001b[1;32m    238\u001b[0m \u001b[38;5;28;01mexcept\u001b[39;00m (\u001b[38;5;167;01mValueError\u001b[39;00m, \u001b[38;5;167;01mTypeError\u001b[39;00m):\n\u001b[1;32m    239\u001b[0m     \u001b[38;5;66;03m# e.g. _astype_nansafe can fail on object-dtype of strings\u001b[39;00m\n\u001b[1;32m    240\u001b[0m     \u001b[38;5;66;03m#  trying to convert to float\u001b[39;00m\n",
      "File \u001b[0;32m/opt/anaconda3/lib/python3.12/site-packages/pandas/core/dtypes/astype.py:182\u001b[0m, in \u001b[0;36mastype_array\u001b[0;34m(values, dtype, copy)\u001b[0m\n\u001b[1;32m    181\u001b[0m \u001b[38;5;28;01melse\u001b[39;00m:\n\u001b[0;32m--> 182\u001b[0m     values \u001b[38;5;241m=\u001b[39m _astype_nansafe(values, dtype, copy\u001b[38;5;241m=\u001b[39mcopy)\n\u001b[1;32m    184\u001b[0m \u001b[38;5;66;03m# in pandas we don't store numpy str dtypes, so convert to object\u001b[39;00m\n",
      "File \u001b[0;32m/opt/anaconda3/lib/python3.12/site-packages/pandas/core/dtypes/astype.py:133\u001b[0m, in \u001b[0;36m_astype_nansafe\u001b[0;34m(arr, dtype, copy, skipna)\u001b[0m\n\u001b[1;32m    131\u001b[0m \u001b[38;5;28;01mif\u001b[39;00m copy \u001b[38;5;129;01mor\u001b[39;00m arr\u001b[38;5;241m.\u001b[39mdtype \u001b[38;5;241m==\u001b[39m \u001b[38;5;28mobject\u001b[39m \u001b[38;5;129;01mor\u001b[39;00m dtype \u001b[38;5;241m==\u001b[39m \u001b[38;5;28mobject\u001b[39m:\n\u001b[1;32m    132\u001b[0m     \u001b[38;5;66;03m# Explicit copy, or required since NumPy can't view from / to object.\u001b[39;00m\n\u001b[0;32m--> 133\u001b[0m     \u001b[38;5;28;01mreturn\u001b[39;00m arr\u001b[38;5;241m.\u001b[39mastype(dtype, copy\u001b[38;5;241m=\u001b[39m\u001b[38;5;28;01mTrue\u001b[39;00m)\n\u001b[1;32m    135\u001b[0m \u001b[38;5;28;01mreturn\u001b[39;00m arr\u001b[38;5;241m.\u001b[39mastype(dtype, copy\u001b[38;5;241m=\u001b[39mcopy)\n",
      "\u001b[0;31mValueError\u001b[0m: could not convert string to float: '2012-10-09 11:01:52'",
      "\nDuring handling of the above exception, another exception occurred:\n",
      "\u001b[0;31mValueError\u001b[0m                                Traceback (most recent call last)",
      "Cell \u001b[0;32mIn[84], line 10\u001b[0m\n\u001b[1;32m      7\u001b[0m unprivileged_group \u001b[38;5;241m=\u001b[39m [{\u001b[38;5;124m'\u001b[39m\u001b[38;5;124mschool_id\u001b[39m\u001b[38;5;124m'\u001b[39m: sid} \u001b[38;5;28;01mfor\u001b[39;00m sid \u001b[38;5;129;01min\u001b[39;00m df_with_skill[\u001b[38;5;124m'\u001b[39m\u001b[38;5;124mschool_id\u001b[39m\u001b[38;5;124m'\u001b[39m]\u001b[38;5;241m.\u001b[39munique() \u001b[38;5;28;01mif\u001b[39;00m sid \u001b[38;5;241m!=\u001b[39m most_common_school]\n\u001b[1;32m      9\u001b[0m \u001b[38;5;66;03m# Create the dataset\u001b[39;00m\n\u001b[0;32m---> 10\u001b[0m dataset \u001b[38;5;241m=\u001b[39m BinaryLabelDataset(\n\u001b[1;32m     11\u001b[0m     df\u001b[38;5;241m=\u001b[39mdf_with_skill,\n\u001b[1;32m     12\u001b[0m     label_names\u001b[38;5;241m=\u001b[39m[\u001b[38;5;124m'\u001b[39m\u001b[38;5;124mcorrect\u001b[39m\u001b[38;5;124m'\u001b[39m],\n\u001b[1;32m     13\u001b[0m     protected_attribute_names\u001b[38;5;241m=\u001b[39m[\u001b[38;5;124m'\u001b[39m\u001b[38;5;124mschool_id\u001b[39m\u001b[38;5;124m'\u001b[39m]\n\u001b[1;32m     14\u001b[0m )\n\u001b[1;32m     16\u001b[0m \u001b[38;5;66;03m# Bias metrics\u001b[39;00m\n\u001b[1;32m     17\u001b[0m metric \u001b[38;5;241m=\u001b[39m BinaryLabelDatasetMetric(\n\u001b[1;32m     18\u001b[0m     dataset,\n\u001b[1;32m     19\u001b[0m     privileged_groups\u001b[38;5;241m=\u001b[39mprivileged_group,\n\u001b[1;32m     20\u001b[0m     unprivileged_groups\u001b[38;5;241m=\u001b[39munprivileged_group\n\u001b[1;32m     21\u001b[0m )\n",
      "File \u001b[0;32m/opt/anaconda3/lib/python3.12/site-packages/aif360/datasets/binary_label_dataset.py:21\u001b[0m, in \u001b[0;36mBinaryLabelDataset.__init__\u001b[0;34m(self, favorable_label, unfavorable_label, **kwargs)\u001b[0m\n\u001b[1;32m     18\u001b[0m \u001b[38;5;28mself\u001b[39m\u001b[38;5;241m.\u001b[39mfavorable_label \u001b[38;5;241m=\u001b[39m \u001b[38;5;28mfloat\u001b[39m(favorable_label)\n\u001b[1;32m     19\u001b[0m \u001b[38;5;28mself\u001b[39m\u001b[38;5;241m.\u001b[39munfavorable_label \u001b[38;5;241m=\u001b[39m \u001b[38;5;28mfloat\u001b[39m(unfavorable_label)\n\u001b[0;32m---> 21\u001b[0m \u001b[38;5;28msuper\u001b[39m(BinaryLabelDataset, \u001b[38;5;28mself\u001b[39m)\u001b[38;5;241m.\u001b[39m\u001b[38;5;21m__init__\u001b[39m(\u001b[38;5;241m*\u001b[39m\u001b[38;5;241m*\u001b[39mkwargs)\n",
      "File \u001b[0;32m/opt/anaconda3/lib/python3.12/site-packages/aif360/datasets/structured_dataset.py:99\u001b[0m, in \u001b[0;36mStructuredDataset.__init__\u001b[0;34m(self, df, label_names, protected_attribute_names, instance_weights_name, scores_names, unprivileged_protected_attributes, privileged_protected_attributes, metadata)\u001b[0m\n\u001b[1;32m     97\u001b[0m \u001b[38;5;28;01mexcept\u001b[39;00m \u001b[38;5;167;01mValueError\u001b[39;00m \u001b[38;5;28;01mas\u001b[39;00m e:\n\u001b[1;32m     98\u001b[0m     \u001b[38;5;28mprint\u001b[39m(\u001b[38;5;124m\"\u001b[39m\u001b[38;5;124mValueError: \u001b[39m\u001b[38;5;132;01m{}\u001b[39;00m\u001b[38;5;124m\"\u001b[39m\u001b[38;5;241m.\u001b[39mformat(e))\n\u001b[0;32m---> 99\u001b[0m     \u001b[38;5;28;01mraise\u001b[39;00m \u001b[38;5;167;01mValueError\u001b[39;00m(\u001b[38;5;124m\"\u001b[39m\u001b[38;5;124mDataFrame values must be numerical.\u001b[39m\u001b[38;5;124m\"\u001b[39m)\n\u001b[1;32m    101\u001b[0m \u001b[38;5;66;03m# Convert all column names to strings\u001b[39;00m\n\u001b[1;32m    102\u001b[0m df\u001b[38;5;241m.\u001b[39mcolumns \u001b[38;5;241m=\u001b[39m df\u001b[38;5;241m.\u001b[39mcolumns\u001b[38;5;241m.\u001b[39mastype(\u001b[38;5;28mstr\u001b[39m)\u001b[38;5;241m.\u001b[39mtolist()\n",
      "\u001b[0;31mValueError\u001b[0m: DataFrame values must be numerical."
     ]
    }
   ],
   "source": [
    "from aif360.datasets import BinaryLabelDataset\n",
    "from aif360.metrics import BinaryLabelDatasetMetric\n",
    "\n",
    "# Define privileged and unprivileged groups\n",
    "most_common_school = df_with_skill['school_id'].mode()[0]\n",
    "privileged_group = [{'school_id': most_common_school}]\n",
    "unprivileged_group = [{'school_id': sid} for sid in df_with_skill['school_id'].unique() if sid != most_common_school]\n",
    "\n",
    "# Create the dataset\n",
    "dataset = BinaryLabelDataset(\n",
    "    df=df_with_skill,\n",
    "    label_names=['correct'],\n",
    "    protected_attribute_names=['school_id']\n",
    ")\n",
    "\n",
    "# Bias metrics\n",
    "metric = BinaryLabelDatasetMetric(\n",
    "    dataset,\n",
    "    privileged_groups=privileged_group,\n",
    "    unprivileged_groups=unprivileged_group\n",
    ")\n",
    "\n",
    "print(\"Disparate Impact (school_id):\", metric.disparate_impact())\n",
    "print(\"Statistical Parity Difference (school_id):\", metric.statistical_parity_difference())"
   ]
  },
  {
   "cell_type": "code",
   "execution_count": 78,
   "id": "6e599b0d-bb64-4dc4-b5eb-5901fdacd617",
   "metadata": {},
   "outputs": [
    {
     "name": "stdout",
     "output_type": "stream",
     "text": [
      "<class 'pandas.core.frame.DataFrame'>\n",
      "Index: 2588323 entries, 1 to 6123267\n",
      "Data columns (total 27 columns):\n",
      " #   Column                             Dtype  \n",
      "---  ------                             -----  \n",
      " 0   skill                              object \n",
      " 1   user_id                            int64  \n",
      " 2   assignment_id                      int64  \n",
      " 3   assistment_id                      int64  \n",
      " 4   start_time                         object \n",
      " 5   end_time                           object \n",
      " 6   problem_type                       object \n",
      " 7   original                           int64  \n",
      " 8   correct                            float64\n",
      " 9   bottom_hint                        float64\n",
      " 10  actions                            object \n",
      " 11  attempt_count                      int64  \n",
      " 12  ms_first_response                  int64  \n",
      " 13  tutor_mode                         object \n",
      " 14  sequence_id                        int64  \n",
      " 15  student_class_id                   int64  \n",
      " 16  position                           int64  \n",
      " 17  type                               object \n",
      " 18  teacher_id                         int64  \n",
      " 19  school_id                          float64\n",
      " 20  overlap_time                       int64  \n",
      " 21  first_action                       int64  \n",
      " 22  problemlogid                       int64  \n",
      " 23  Average_confidence(FRUSTRATED)     float64\n",
      " 24  Average_confidence(CONFUSED)       float64\n",
      " 25  Average_confidence(CONCENTRATING)  float64\n",
      " 26  Average_confidence(BORED)          float64\n",
      "dtypes: float64(7), int64(13), object(7)\n",
      "memory usage: 552.9+ MB\n"
     ]
    }
   ],
   "source": [
    "df_with_skill.info()"
   ]
  },
  {
   "cell_type": "code",
   "execution_count": 80,
   "id": "dd166c2a-8f51-4c51-8436-a7cbed1edc0d",
   "metadata": {},
   "outputs": [],
   "source": [
    "from sklearn.preprocessing import LabelEncoder\n",
    "\n",
    "# Encode 'skill' to numeric values\n",
    "le = LabelEncoder()\n",
    "df_with_skill['skill'] = le.fit_transform(df_with_skill['skill'])"
   ]
  },
  {
   "cell_type": "code",
   "execution_count": 82,
   "id": "fbaa138a-5b34-4f6a-8461-fad5b97a80cc",
   "metadata": {},
   "outputs": [
    {
     "name": "stdout",
     "output_type": "stream",
     "text": [
      "skill                                  int64\n",
      "user_id                                int64\n",
      "assignment_id                          int64\n",
      "assistment_id                          int64\n",
      "start_time                            object\n",
      "end_time                              object\n",
      "problem_type                          object\n",
      "original                               int64\n",
      "correct                              float64\n",
      "bottom_hint                          float64\n",
      "actions                               object\n",
      "attempt_count                          int64\n",
      "ms_first_response                      int64\n",
      "tutor_mode                            object\n",
      "sequence_id                            int64\n",
      "student_class_id                       int64\n",
      "position                               int64\n",
      "type                                  object\n",
      "teacher_id                             int64\n",
      "school_id                            float64\n",
      "overlap_time                           int64\n",
      "first_action                           int64\n",
      "problemlogid                           int64\n",
      "Average_confidence(FRUSTRATED)       float64\n",
      "Average_confidence(CONFUSED)         float64\n",
      "Average_confidence(CONCENTRATING)    float64\n",
      "Average_confidence(BORED)            float64\n",
      "dtype: object\n"
     ]
    }
   ],
   "source": [
    "# Confirm all columns are now numeric\n",
    "print(df_with_skill.dtypes)"
   ]
  },
  {
   "cell_type": "code",
   "execution_count": 98,
   "id": "b858c2a7-a5a6-4316-9395-bfc82e0ebc16",
   "metadata": {},
   "outputs": [
    {
     "data": {
      "text/plain": [
       "135208     ChooseConditionSection\n",
       "4735503    ChooseConditionSection\n",
       "1781945    ChooseConditionSection\n",
       "406496     ChooseConditionSection\n",
       "6008861    ChooseConditionSection\n",
       "                    ...          \n",
       "2572375      RandomIterateSection\n",
       "1914845      RandomIterateSection\n",
       "3868084      RandomIterateSection\n",
       "2572553      RandomIterateSection\n",
       "5338022      RandomIterateSection\n",
       "Name: type, Length: 6123270, dtype: object"
      ]
     },
     "execution_count": 98,
     "metadata": {},
     "output_type": "execute_result"
    }
   ],
   "source": [
    "df['type'].sort_values()"
   ]
  },
  {
   "cell_type": "code",
   "execution_count": 100,
   "id": "d0be7cad-17b4-4fad-9d33-2ee03da412a7",
   "metadata": {},
   "outputs": [],
   "source": [
    "df_with_skill.drop(columns=[\n",
    "    'start_time', 'end_time', 'problem_type',\n",
    "    'actions', 'tutor_mode', 'type'\n",
    "], inplace=True)"
   ]
  },
  {
   "cell_type": "code",
   "execution_count": 102,
   "id": "24581dfb-4e39-425f-819f-7bac80c55332",
   "metadata": {},
   "outputs": [
    {
     "name": "stdout",
     "output_type": "stream",
     "text": [
      "skill                                  int64\n",
      "user_id                                int64\n",
      "assignment_id                          int64\n",
      "assistment_id                          int64\n",
      "original                               int64\n",
      "correct                              float64\n",
      "bottom_hint                          float64\n",
      "attempt_count                          int64\n",
      "ms_first_response                      int64\n",
      "sequence_id                            int64\n",
      "student_class_id                       int64\n",
      "position                               int64\n",
      "teacher_id                             int64\n",
      "school_id                            float64\n",
      "overlap_time                           int64\n",
      "first_action                           int64\n",
      "problemlogid                           int64\n",
      "Average_confidence(FRUSTRATED)       float64\n",
      "Average_confidence(CONFUSED)         float64\n",
      "Average_confidence(CONCENTRATING)    float64\n",
      "Average_confidence(BORED)            float64\n",
      "dtype: object\n"
     ]
    }
   ],
   "source": [
    "print(df_with_skill.dtypes)  # All should now be int or float"
   ]
  },
  {
   "cell_type": "code",
   "execution_count": null,
   "id": "292b7a38-3819-4023-ba2b-e64b0df7dd50",
   "metadata": {},
   "outputs": [],
   "source": []
  },
  {
   "cell_type": "code",
   "execution_count": 108,
   "id": "da3a8f59-b9fd-4aa2-9f24-f7c2a3321534",
   "metadata": {},
   "outputs": [
    {
     "name": "stdout",
     "output_type": "stream",
     "text": [
      "Unique values in 'correct': [1.   0.   0.75 0.25 0.5  0.6  0.65 0.95]\n"
     ]
    }
   ],
   "source": [
    "print(\"Unique values in 'correct':\", df_with_skill['correct'].unique())"
   ]
  },
  {
   "cell_type": "code",
   "execution_count": 110,
   "id": "4b46a1b7-ab42-4779-bcb6-ee1b74853306",
   "metadata": {},
   "outputs": [
    {
     "name": "stdout",
     "output_type": "stream",
     "text": [
      "Unique values after binarization: [1. 0.]\n"
     ]
    }
   ],
   "source": [
    "# Convert correct to binary: 1.0 if fully correct, else 0.0\n",
    "df_with_skill['correct'] = df_with_skill['correct'].apply(lambda x: 1.0 if x == 1.0 else 0.0)\n",
    "\n",
    "# Confirm values\n",
    "print(\"Unique values after binarization:\", df_with_skill['correct'].unique())"
   ]
  },
  {
   "cell_type": "code",
   "execution_count": 113,
   "id": "4a87032e-4568-407d-90aa-47956b644a0c",
   "metadata": {},
   "outputs": [
    {
     "name": "stdout",
     "output_type": "stream",
     "text": [
      "Disparate Impact: 0.9778014965869015\n",
      "Statistical Parity Difference: -0.01573069537660987\n"
     ]
    }
   ],
   "source": [
    "from aif360.datasets import BinaryLabelDataset\n",
    "from aif360.metrics import BinaryLabelDatasetMetric\n",
    "\n",
    "most_common_school = df_with_skill['school_id'].mode()[0]\n",
    "privileged_group = [{'school_id': most_common_school}]\n",
    "unprivileged_group = [{'school_id': sid} for sid in df_with_skill['school_id'].unique() if sid != most_common_school]\n",
    "\n",
    "dataset = BinaryLabelDataset(\n",
    "    df=df_with_skill,\n",
    "    label_names=['correct'],\n",
    "    protected_attribute_names=['school_id']\n",
    ")\n",
    "\n",
    "metric = BinaryLabelDatasetMetric(\n",
    "    dataset,\n",
    "    privileged_groups=privileged_group,\n",
    "    unprivileged_groups=unprivileged_group\n",
    ")\n",
    "\n",
    "print(\"Disparate Impact:\", metric.disparate_impact())\n",
    "print(\"Statistical Parity Difference:\", metric.statistical_parity_difference())"
   ]
  },
  {
   "cell_type": "code",
   "execution_count": 116,
   "id": "2336e78e-4cb3-476e-8eac-e359ea91a2cb",
   "metadata": {},
   "outputs": [
    {
     "name": "stdout",
     "output_type": "stream",
     "text": [
      "is_bored\n",
      "0    2178152\n",
      "1     410171\n",
      "Name: count, dtype: int64\n"
     ]
    }
   ],
   "source": [
    "# Binarize boredom: 1 if bored, 0 otherwise\n",
    "df_with_skill['is_bored'] = df_with_skill['Average_confidence(BORED)'].apply(lambda x: 1 if x > 0.6 else 0)\n",
    "\n",
    "# Check distribution\n",
    "print(df_with_skill['is_bored'].value_counts())\n"
   ]
  },
  {
   "cell_type": "code",
   "execution_count": 118,
   "id": "7938a7c7-27ff-4e3d-9d8b-917379cd8446",
   "metadata": {},
   "outputs": [
    {
     "name": "stdout",
     "output_type": "stream",
     "text": [
      "Disparate Impact (Boredom): 1.021694366436423\n",
      "Statistical Parity Difference (Boredom): 0.015017987694414647\n"
     ]
    }
   ],
   "source": [
    "from aif360.datasets import BinaryLabelDataset\n",
    "from aif360.metrics import BinaryLabelDatasetMetric\n",
    "\n",
    "# Privileged = not bored (0), Unprivileged = bored (1)\n",
    "privileged_group = [{'is_bored': 0}]\n",
    "unprivileged_group = [{'is_bored': 1}]\n",
    "\n",
    "# Create BinaryLabelDataset\n",
    "bored_dataset = BinaryLabelDataset(\n",
    "    df=df_with_skill,\n",
    "    label_names=['correct'],\n",
    "    protected_attribute_names=['is_bored']\n",
    ")\n",
    "\n",
    "# Compute metrics\n",
    "bored_metric = BinaryLabelDatasetMetric(\n",
    "    bored_dataset,\n",
    "    privileged_groups=privileged_group,\n",
    "    unprivileged_groups=unprivileged_group\n",
    ")\n",
    "\n",
    "print(\"Disparate Impact (Boredom):\", bored_metric.disparate_impact())\n",
    "print(\"Statistical Parity Difference (Boredom):\", bored_metric.statistical_parity_difference())"
   ]
  },
  {
   "cell_type": "markdown",
   "id": "db7f5c54-ce52-4c04-9153-7b6d18806161",
   "metadata": {},
   "source": [
    "\t•\tThe Disparate Impact score is 1.02, indicating a very balanced outcome distribution.\n",
    "\t•\tThe Statistical Parity Difference is 0.015, which is near the ideal fairness value of 0."
   ]
  },
  {
   "cell_type": "code",
   "execution_count": 121,
   "id": "8736a8b2-1632-4e56-a955-911bf49e1b58",
   "metadata": {},
   "outputs": [
    {
     "name": "stdout",
     "output_type": "stream",
     "text": [
      "is_frustrated\n",
      "0    2454269\n",
      "1     134054\n",
      "Name: count, dtype: int64\n"
     ]
    }
   ],
   "source": [
    "# Binarize frustration: 1 = frustrated, 0 = not frustrated\n",
    "df_with_skill['is_frustrated'] = df_with_skill['Average_confidence(FRUSTRATED)'].apply(lambda x: 1 if x > 0.6 else 0)\n",
    "\n",
    "# Check value counts\n",
    "print(df_with_skill['is_frustrated'].value_counts())"
   ]
  },
  {
   "cell_type": "code",
   "execution_count": 123,
   "id": "add48dc0-612f-444b-b7da-2d4e0a27ab13",
   "metadata": {},
   "outputs": [
    {
     "name": "stdout",
     "output_type": "stream",
     "text": [
      "Disparate Impact (Frustration): 1.1678041269051764\n",
      "Statistical Parity Difference (Frustration): 0.11555794641657668\n"
     ]
    }
   ],
   "source": [
    "# Define privileged (not frustrated) and unprivileged (frustrated)\n",
    "privileged_group = [{'is_frustrated': 0}]\n",
    "unprivileged_group = [{'is_frustrated': 1}]\n",
    "\n",
    "# Create AIF360 dataset\n",
    "frustrated_dataset = BinaryLabelDataset(\n",
    "    df=df_with_skill,\n",
    "    label_names=['correct'],\n",
    "    protected_attribute_names=['is_frustrated']\n",
    ")\n",
    "\n",
    "# Compute fairness metrics\n",
    "frustrated_metric = BinaryLabelDatasetMetric(\n",
    "    frustrated_dataset,\n",
    "    privileged_groups=privileged_group,\n",
    "    unprivileged_groups=unprivileged_group\n",
    ")\n",
    "\n",
    "# Output results\n",
    "print(\"Disparate Impact (Frustration):\", frustrated_metric.disparate_impact())\n",
    "print(\"Statistical Parity Difference (Frustration):\", frustrated_metric.statistical_parity_difference())"
   ]
  },
  {
   "cell_type": "markdown",
   "id": "ba64a31b-40f6-4e62-af3a-5c370daddcf0",
   "metadata": {},
   "source": [
    "Disparate Impact\n",
    "1.168\n",
    "Still within the fair range [0.8, 1.25], but leaning toward advantage for frustrated students.\n",
    "Statistical Parity Difference\n",
    "+0.116\n",
    " Above the usual value+-0.1 threshold. It suggests frustrated students are more likely to get correct outcomes.\n"
   ]
  },
  {
   "cell_type": "code",
   "execution_count": 126,
   "id": "662434c8-45ad-4ec7-b181-98abe7669271",
   "metadata": {},
   "outputs": [
    {
     "name": "stdout",
     "output_type": "stream",
     "text": [
      "is_confused\n",
      "0    2486694\n",
      "1     101629\n",
      "Name: count, dtype: int64\n"
     ]
    }
   ],
   "source": [
    "# Binarize confusion: 1 = confused, 0 = not confused\n",
    "df_with_skill['is_confused'] = df_with_skill['Average_confidence(CONFUSED)'].apply(lambda x: 1 if x > 0.6 else 0)\n",
    "print(df_with_skill['is_confused'].value_counts())"
   ]
  },
  {
   "cell_type": "code",
   "execution_count": 128,
   "id": "67ef8ec9-4cd6-43b6-85d0-7dedb859373a",
   "metadata": {},
   "outputs": [
    {
     "name": "stdout",
     "output_type": "stream",
     "text": [
      "Disparate Impact (Confusion): 1.2559589730432792\n",
      "Statistical Parity Difference (Confusion): 0.17602839338813292\n"
     ]
    }
   ],
   "source": [
    "from aif360.datasets import BinaryLabelDataset\n",
    "from aif360.metrics import BinaryLabelDatasetMetric\n",
    "\n",
    "# Setup\n",
    "privileged_group = [{'is_confused': 0}]\n",
    "unprivileged_group = [{'is_confused': 1}]\n",
    "\n",
    "confused_dataset = BinaryLabelDataset(\n",
    "    df=df_with_skill,\n",
    "    label_names=['correct'],\n",
    "    protected_attribute_names=['is_confused']\n",
    ")\n",
    "\n",
    "confused_metric = BinaryLabelDatasetMetric(\n",
    "    confused_dataset,\n",
    "    privileged_groups=privileged_group,\n",
    "    unprivileged_groups=unprivileged_group\n",
    ")\n",
    "\n",
    "print(\"Disparate Impact (Confusion):\", confused_metric.disparate_impact())\n",
    "print(\"Statistical Parity Difference (Confusion):\", confused_metric.statistical_parity_difference())"
   ]
  },
  {
   "cell_type": "code",
   "execution_count": 130,
   "id": "156e5d1c-1c4c-4305-a760-f6cb74cb3bcf",
   "metadata": {},
   "outputs": [
    {
     "name": "stdout",
     "output_type": "stream",
     "text": [
      "is_concentrating\n",
      "1    2012415\n",
      "0     575908\n",
      "Name: count, dtype: int64\n"
     ]
    }
   ],
   "source": [
    "# Binarize concentration: 1 = highly concentrated, 0 = not concentrated\n",
    "df_with_skill['is_concentrating'] = df_with_skill['Average_confidence(CONCENTRATING)'].apply(lambda x: 1 if x > 0.6 else 0)\n",
    "print(df_with_skill['is_concentrating'].value_counts())"
   ]
  },
  {
   "cell_type": "code",
   "execution_count": 132,
   "id": "60c1891e-9640-4a10-acdc-3fa6a5146c80",
   "metadata": {},
   "outputs": [
    {
     "name": "stdout",
     "output_type": "stream",
     "text": [
      "Disparate Impact (Concentration): 0.8032469099126567\n",
      "Statistical Parity Difference (Concentration): -0.1429282634852186\n"
     ]
    }
   ],
   "source": [
    "privileged_group = [{'is_concentrating': 1}]\n",
    "unprivileged_group = [{'is_concentrating': 0}]\n",
    "\n",
    "concentration_dataset = BinaryLabelDataset(\n",
    "    df=df_with_skill,\n",
    "    label_names=['correct'],\n",
    "    protected_attribute_names=['is_concentrating']\n",
    ")\n",
    "\n",
    "concentration_metric = BinaryLabelDatasetMetric(\n",
    "    concentration_dataset,\n",
    "    privileged_groups=privileged_group,\n",
    "    unprivileged_groups=unprivileged_group\n",
    ")\n",
    "\n",
    "print(\"Disparate Impact (Concentration):\", concentration_metric.disparate_impact())\n",
    "print(\"Statistical Parity Difference (Concentration):\", concentration_metric.statistical_parity_difference())"
   ]
  },
  {
   "cell_type": "markdown",
   "id": "fc3d6d64-3532-44a0-8ec2-5e689cebf249",
   "metadata": {},
   "source": [
    "<!--\n",
    "📊 Bias Detection Summary: Emotional States vs. Correctness\n",
    "\n",
    "The following table summarizes the fairness evaluation across four affective states\n",
    "(boredom, frustration, confusion, and concentration) using AIF360 metrics.\n",
    "The outcome variable used was `correct`, indicating whether the student answered\n",
    "the problem correctly.\n",
    "\n",
    "| Emotion Feature   | Disparate Impact | Statistical Parity Difference | Interpretation |\n",
    "|-------------------|------------------|-------------------------------|----------------|\n",
    "| **Boredom**       | 1.02             | +0.015                        | ✅ No significant bias. Students labeled as bored and not bored had nearly equal correctness rates. |\n",
    "| **Frustration**   | 1.17             | +0.116                        | ⚠️ Mild advantage for frustrated students. Suggests the system may provide support or adaptation when frustration is detected. |\n",
    "| **Confusion**     | **1.26**         | **+0.176**                    | 🚨 Strong advantage for confused students. May indicate a feedback system that reacts to confusion or an overestimation by the model. |\n",
    "| **Concentration** | **0.80**         | **−0.143**                    | 🚨 Clear disadvantage for students with low concentration. These students are less likely to answer correctly, pointing to potential neglect or lack of support. |\n",
    "\n",
    "🧠 Summary:\n",
    "Overall, the dataset shows varying levels of bias based on emotional state predictions.\n",
    "While boredom shows no substantial bias, frustrated and confused students appear to\n",
    "receive more favorable outcomes, likely due to system-level support.\n",
    "Conversely, students with low concentration show worse performance, indicating a\n",
    "potential fairness issue that may warrant further investigation.\n",
    "-->"
   ]
  },
  {
   "cell_type": "markdown",
   "id": "11852f21-eda3-4233-b5c4-6729e0816dd6",
   "metadata": {},
   "source": [
    "'''\n",
    "📊 Bias Detection Summary: Emotional States vs. Correctness\n",
    "\n",
    "The following table summarizes the fairness evaluation across four affective states\n",
    "(boredom, frustration, confusion, and concentration) using AIF360 metrics.\n",
    "The outcome variable used was `correct`, indicating whether the student answered\n",
    "the problem correctly.\n",
    "\n",
    "| Emotion Feature   | Disparate Impact | Statistical Parity Difference | Interpretation |\n",
    "|-------------------|------------------|-------------------------------|----------------|\n",
    "| **Boredom**       | 1.02             | +0.015                        | ✅ No significant bias. Students labeled as bored and not bored had nearly equal correctness rates. |\n",
    "| **Frustration**   | 1.17             | +0.116                        | ⚠️ Mild advantage for frustrated students. Suggests the system may provide support or adaptation when frustration is detected. |\n",
    "| **Confusion**     | **1.26**         | **+0.176**                    | 🚨 Strong advantage for confused students. May indicate a feedback system that reacts to confusion or an overestimation by the model. |\n",
    "| **Concentration** | **0.80**         | **−0.143**                    | 🚨 Clear disadvantage for students with low concentration. These students are less likely to answer correctly, pointing to potential neglect or lack of support. |\n",
    "\n",
    "🧠 Summary:\n",
    "Overall, the dataset shows varying levels of bias based on emotional state predictions.\n",
    "While boredom shows no substantial bias, frustrated and confused students appear to\n",
    "receive more favorable outcomes, likely due to system-level support.\n",
    "Conversely, students with low concentration show worse performance, indicating a\n",
    "potential fairness issue that may warrant further investigation.\n",
    "'''"
   ]
  },
  {
   "cell_type": "code",
   "execution_count": 138,
   "id": "b01c08dc-40d9-4f10-a3d8-13eb884714fe",
   "metadata": {},
   "outputs": [],
   "source": [
    "#hey"
   ]
  },
  {
   "cell_type": "code",
   "execution_count": 150,
   "id": "cc120560-d58d-417f-9c31-b6608ffa8ee1",
   "metadata": {},
   "outputs": [
    {
     "data": {
      "text/plain": [
       "'\\n Preprocessing Summary: Emotional Variables to Binary Protected Attributes\\n\\nTo evaluate fairness using AIF360, we needed to convert the continuous emotional\\nconfidence scores into binary attributes (0 or 1). This allowed us to define\\n\"privileged\" and \"unprivileged\" groups for fairness analysis.\\n\\nFor each emotional feature, we used a threshold of **0.6** as a cutoff.\\nValues above 0.6 were labeled as **1** (high), and values below or equal to 0.6\\nwere labeled as **0** (low).\\n\\n---\\n\\nVariable Transformations:\\n\\n1. **Boredom**\\npython\\ndf_with_skill[\\'is_bored\\'] = df_with_skill[\\'Average_confidence(BORED)\\'].apply(lambda x: 1 if x > 0.6 else 0)'"
      ]
     },
     "execution_count": 150,
     "metadata": {},
     "output_type": "execute_result"
    }
   ],
   "source": [
    "'''\n",
    " Preprocessing Summary: Emotional Variables to Binary Protected Attributes\n",
    "\n",
    "To evaluate fairness using AIF360, we needed to convert the continuous emotional\n",
    "confidence scores into binary attributes (0 or 1). This allowed us to define\n",
    "\"privileged\" and \"unprivileged\" groups for fairness analysis.\n",
    "\n",
    "For each emotional feature, we used a threshold of **0.6** as a cutoff.\n",
    "Values above 0.6 were labeled as **1** (high), and values below or equal to 0.6\n",
    "were labeled as **0** (low).\n",
    "\n",
    "---\n",
    "\n",
    "Variable Transformations:\n",
    "\n",
    "1. **Boredom**\n",
    "python\n",
    "df_with_skill['is_bored'] = df_with_skill['Average_confidence(BORED)'].apply(lambda x: 1 if x > 0.6 else 0)'''"
   ]
  },
  {
   "cell_type": "code",
   "execution_count": 153,
   "id": "6ace7c51-4d40-4d2c-9182-bbf2cbe260c5",
   "metadata": {},
   "outputs": [
    {
     "name": "stdout",
     "output_type": "stream",
     "text": [
      "<class 'pandas.core.frame.DataFrame'>\n",
      "Index: 2588323 entries, 1 to 6123267\n",
      "Data columns (total 25 columns):\n",
      " #   Column                             Dtype  \n",
      "---  ------                             -----  \n",
      " 0   skill                              int64  \n",
      " 1   user_id                            int64  \n",
      " 2   assignment_id                      int64  \n",
      " 3   assistment_id                      int64  \n",
      " 4   original                           int64  \n",
      " 5   correct                            float64\n",
      " 6   bottom_hint                        float64\n",
      " 7   attempt_count                      int64  \n",
      " 8   ms_first_response                  int64  \n",
      " 9   sequence_id                        int64  \n",
      " 10  student_class_id                   int64  \n",
      " 11  position                           int64  \n",
      " 12  teacher_id                         int64  \n",
      " 13  school_id                          float64\n",
      " 14  overlap_time                       int64  \n",
      " 15  first_action                       int64  \n",
      " 16  problemlogid                       int64  \n",
      " 17  Average_confidence(FRUSTRATED)     float64\n",
      " 18  Average_confidence(CONFUSED)       float64\n",
      " 19  Average_confidence(CONCENTRATING)  float64\n",
      " 20  Average_confidence(BORED)          float64\n",
      " 21  is_bored                           int64  \n",
      " 22  is_frustrated                      int64  \n",
      " 23  is_confused                        int64  \n",
      " 24  is_concentrating                   int64  \n",
      "dtypes: float64(7), int64(18)\n",
      "memory usage: 513.4 MB\n"
     ]
    }
   ],
   "source": [
    "df_with_skill.info()"
   ]
  },
  {
   "cell_type": "code",
   "execution_count": 157,
   "id": "20061396-557d-4674-88b0-8f16669e3f92",
   "metadata": {},
   "outputs": [
    {
     "name": "stdout",
     "output_type": "stream",
     "text": [
      "Disparate Impact (Teacher): 1.017644317651518\n",
      "Statistical Parity Difference (Teacher): 0.012052400680878872\n"
     ]
    }
   ],
   "source": [
    "from aif360.datasets import BinaryLabelDataset\n",
    "from aif360.metrics import BinaryLabelDatasetMetric\n",
    "\n",
    "# Find the most frequent teacher_id\n",
    "most_common_teacher = df_with_skill['teacher_id'].mode()[0]\n",
    "\n",
    "# Define groups\n",
    "privileged_group = [{'teacher_id': most_common_teacher}]\n",
    "unprivileged_group = [{'teacher_id': tid} for tid in df_with_skill['teacher_id'].unique() if tid != most_common_teacher]\n",
    "\n",
    "# Create AIF360 BinaryLabelDataset\n",
    "teacher_dataset = BinaryLabelDataset(\n",
    "    df=df_with_skill,\n",
    "    label_names=['correct'],\n",
    "    protected_attribute_names=['teacher_id']\n",
    ")\n",
    "\n",
    "# Run fairness metrics\n",
    "teacher_metric = BinaryLabelDatasetMetric(\n",
    "    teacher_dataset,\n",
    "    privileged_groups=privileged_group,\n",
    "    unprivileged_groups=unprivileged_group\n",
    ")\n",
    "\n",
    "# Print results\n",
    "print(\"Disparate Impact (Teacher):\", teacher_metric.disparate_impact())\n",
    "print(\"Statistical Parity Difference (Teacher):\", teacher_metric.statistical_parity_difference())"
   ]
  },
  {
   "cell_type": "code",
   "execution_count": 159,
   "id": "307f449d-210b-466d-8872-11e0c5f97aea",
   "metadata": {},
   "outputs": [
    {
     "data": {
      "text/plain": [
       "'There’s no significant bias in correctness outcomes when comparing students taught by the most common teacher versus others. This implies that the dataset is fairly balanced in how students perform across different teachers.\\n\\nThis is a strong result — you can confidently say:\\n\\n“Based on teacher ID, the dataset does not show significant disparity in student correctness outcomes, with parity metrics well within accepted fairness thresholds.”'"
      ]
     },
     "execution_count": 159,
     "metadata": {},
     "output_type": "execute_result"
    }
   ],
   "source": [
    "'''There’s no significant bias in correctness outcomes when comparing students taught by the most common teacher versus others. This implies that the dataset is fairly balanced in how students perform across different teachers.\n",
    "\n",
    "This is a strong result — you can confidently say:\n",
    "\n",
    "“Based on teacher ID, the dataset does not show significant disparity in student correctness outcomes, with parity metrics well within accepted fairness thresholds.”'''"
   ]
  },
  {
   "cell_type": "code",
   "execution_count": 161,
   "id": "a766ba3d-75df-4dcc-9c08-3f0ba5efd452",
   "metadata": {},
   "outputs": [
    {
     "name": "stdout",
     "output_type": "stream",
     "text": [
      "Disparate Impact (Class ID): 0.9033371728798595\n",
      "Statistical Parity Difference (Class ID): -0.07407698338679436\n"
     ]
    }
   ],
   "source": [
    "from aif360.datasets import BinaryLabelDataset\n",
    "from aif360.metrics import BinaryLabelDatasetMetric\n",
    "\n",
    "most_common_class = df_with_skill['student_class_id'].mode()[0]\n",
    "privileged_group = [{'student_class_id': most_common_class}]\n",
    "unprivileged_group = [{'student_class_id': sid} for sid in df_with_skill['student_class_id'].unique() if sid != most_common_class]\n",
    "\n",
    "class_dataset = BinaryLabelDataset(\n",
    "    df=df_with_skill,\n",
    "    label_names=['correct'],\n",
    "    protected_attribute_names=['student_class_id']\n",
    ")\n",
    "\n",
    "class_metric = BinaryLabelDatasetMetric(\n",
    "    class_dataset,\n",
    "    privileged_groups=privileged_group,\n",
    "    unprivileged_groups=unprivileged_group\n",
    ")\n",
    "\n",
    "print(\"Disparate Impact (Class ID):\", class_metric.disparate_impact())\n",
    "print(\"Statistical Parity Difference (Class ID):\", class_metric.statistical_parity_difference())"
   ]
  },
  {
   "cell_type": "code",
   "execution_count": 167,
   "id": "287cef11-2272-4d1c-b917-489b434ca095",
   "metadata": {},
   "outputs": [
    {
     "name": "stdout",
     "output_type": "stream",
     "text": [
      "Disparate Impact (First Action): 0.0\n",
      "Statistical Parity Difference (First Action): -0.7285739525655822\n"
     ]
    }
   ],
   "source": [
    "most_common_action = df_with_skill['first_action'].mode()[0]\n",
    "privileged_group = [{'first_action': most_common_action}]\n",
    "unprivileged_group = [{'first_action': a} for a in df_with_skill['first_action'].unique() if a != most_common_action]\n",
    "\n",
    "action_dataset = BinaryLabelDataset(\n",
    "    df=df_with_skill,\n",
    "    label_names=['correct'],\n",
    "    protected_attribute_names=['first_action']\n",
    ")\n",
    "\n",
    "action_metric = BinaryLabelDatasetMetric(\n",
    "    action_dataset,\n",
    "    privileged_groups=privileged_group,\n",
    "    unprivileged_groups=unprivileged_group\n",
    ")\n",
    "\n",
    "print(\"Disparate Impact (First Action):\", action_metric.disparate_impact())\n",
    "print(\"Statistical Parity Difference (First Action):\", action_metric.statistical_parity_difference())"
   ]
  },
  {
   "cell_type": "code",
   "execution_count": 169,
   "id": "533f0342-cd5b-4c0d-ac71-a30cb1739921",
   "metadata": {},
   "outputs": [
    {
     "data": {
      "text/plain": [
       "'## 🧪 Bias Detection Summary: Class ID and First Action\\n\\n### 🔹 1. Classroom-Level Bias (`student_class_id`)\\n\\n**What we did:**\\n- Identified the most common `student_class_id` as the **privileged group**.\\n- Treated all other class IDs as **unprivileged**.\\n- Used `correct` as the binary outcome label.\\n- Created a `BinaryLabelDataset` using AIF360 and computed:\\n  - **Disparate Impact**\\n  - **Statistical Parity Difference**\\n\\n**Results:**\\n- **Disparate Impact:** 0.903\\n- **Statistical Parity Difference:** -0.074\\n\\n**Interpretation:**\\n- Mild imbalance observed between classes.\\n- Some classrooms may be receiving **less effective instruction or support**.\\n- Not highly unfair, but indicates **potential structural or instructional bias** across different classes.\\n\\n---\\n\\n### 🔹 2. Help-Seeking Bias (`first_action`)\\n\\n**What we did:**\\n- Treated the most frequent `first_action` (likely \"attempt first\") as **privileged**.\\n- The opposite action (likely \"ask for hint first\") as **unprivileged**.\\n- Tested for disparity in `correct` outcomes between these two behaviors.\\n\\n**Results:**\\n- **Disparate Impact:** 0.000\\n- **Statistical Parity Difference:** -0.729\\n\\n**Interpretation:**\\n- This result indicates a **strong disadvantage** for students who **seek help first**.\\n- Suggests the system may be unintentionally **penalizing help-seeking behavior**, or failing to support students who need hints.\\n- A clear area of concern that may require **intervention at the platform or instructional design level**.\\n\\n---'"
      ]
     },
     "execution_count": 169,
     "metadata": {},
     "output_type": "execute_result"
    }
   ],
   "source": [
    "'''## 🧪 Bias Detection Summary: Class ID and First Action\n",
    "\n",
    "### 🔹 1. Classroom-Level Bias (`student_class_id`)\n",
    "\n",
    "**What we did:**\n",
    "- Identified the most common `student_class_id` as the **privileged group**.\n",
    "- Treated all other class IDs as **unprivileged**.\n",
    "- Used `correct` as the binary outcome label.\n",
    "- Created a `BinaryLabelDataset` using AIF360 and computed:\n",
    "  - **Disparate Impact**\n",
    "  - **Statistical Parity Difference**\n",
    "\n",
    "**Results:**\n",
    "- **Disparate Impact:** 0.903\n",
    "- **Statistical Parity Difference:** -0.074\n",
    "\n",
    "**Interpretation:**\n",
    "- Mild imbalance observed between classes.\n",
    "- Some classrooms may be receiving **less effective instruction or support**.\n",
    "- Not highly unfair, but indicates **potential structural or instructional bias** across different classes.\n",
    "\n",
    "---\n",
    "\n",
    "### 🔹 2. Help-Seeking Bias (`first_action`)\n",
    "\n",
    "**What we did:**\n",
    "- Treated the most frequent `first_action` (likely \"attempt first\") as **privileged**.\n",
    "- The opposite action (likely \"ask for hint first\") as **unprivileged**.\n",
    "- Tested for disparity in `correct` outcomes between these two behaviors.\n",
    "\n",
    "**Results:**\n",
    "- **Disparate Impact:** 0.000\n",
    "- **Statistical Parity Difference:** -0.729\n",
    "\n",
    "**Interpretation:**\n",
    "- This result indicates a **strong disadvantage** for students who **seek help first**.\n",
    "- Suggests the system may be unintentionally **penalizing help-seeking behavior**, or failing to support students who need hints.\n",
    "- A clear area of concern that may require **intervention at the platform or instructional design level**.\n",
    "\n",
    "---'''"
   ]
  },
  {
   "cell_type": "code",
   "execution_count": 171,
   "id": "b5e1902a-badd-4af2-b9c2-f347c61e683b",
   "metadata": {},
   "outputs": [
    {
     "name": "stdout",
     "output_type": "stream",
     "text": [
      "Privileged (most common class) count: 82660\n",
      "Unprivileged (other classes) count: 2505663\n"
     ]
    }
   ],
   "source": [
    "most_common_class = df_with_skill['student_class_id'].mode()[0]\n",
    "\n",
    "# Count privileged vs. unprivileged\n",
    "priv_class_count = df_with_skill[df_with_skill['student_class_id'] == most_common_class].shape[0]\n",
    "unpriv_class_count = df_with_skill[df_with_skill['student_class_id'] != most_common_class].shape[0]\n",
    "\n",
    "print(\"Privileged (most common class) count:\", priv_class_count)\n",
    "print(\"Unprivileged (other classes) count:\", unpriv_class_count)"
   ]
  },
  {
   "cell_type": "code",
   "execution_count": 173,
   "id": "7cd07942-e8de-41fe-ab34-faed3bb8e1ca",
   "metadata": {},
   "outputs": [
    {
     "name": "stdout",
     "output_type": "stream",
     "text": [
      "Privileged (most common first action) count: 2467744\n",
      "Unprivileged (other first actions) count: 120579\n"
     ]
    }
   ],
   "source": [
    "most_common_action = df_with_skill['first_action'].mode()[0]\n",
    "\n",
    "# Count privileged vs. unprivileged\n",
    "priv_action_count = df_with_skill[df_with_skill['first_action'] == most_common_action].shape[0]\n",
    "unpriv_action_count = df_with_skill[df_with_skill['first_action'] != most_common_action].shape[0]\n",
    "\n",
    "print(\"Privileged (most common first action) count:\", priv_action_count)\n",
    "print(\"Unprivileged (other first actions) count:\", unpriv_action_count)"
   ]
  },
  {
   "cell_type": "markdown",
   "id": "a7bb8e2c-0368-4022-9120-467157ffd012",
   "metadata": {},
   "source": [
    "## 🧠 What Is AIF360 and How Are We Using It?\n",
    "\n",
    "**AIF360 (AI Fairness 360)** is an open-source fairness toolkit developed by IBM to help detect, understand, and mitigate bias in machine learning datasets and models.\n",
    "\n",
    "### ✅ What AIF360 Does for Us:\n",
    "\n",
    "1. **Defines Fairness Context**\n",
    "   - Converts our dataset into a structure that clearly defines:\n",
    "     - `label_names` → the outcome variable (e.g., `correct`)\n",
    "     - `protected_attribute_names` → the group to test bias across (e.g., `school_id`, `first_action`, `is_bored`)\n",
    "\n",
    "2. **Computes Fairness Metrics**\n",
    "   - We use `BinaryLabelDatasetMetric` to calculate:\n",
    "     - **Disparate Impact** → ratio of positive outcomes between unprivileged and privileged groups\n",
    "     - **Statistical Parity Difference** → difference in the rate of favorable outcomes\n",
    "   - These help us understand if one group is systematically disadvantaged.\n",
    "\n",
    "3. **(Optional) Bias Mitigation**\n",
    "   - While we did not use mitigation in this analysis, AIF360 provides tools like:\n",
    "     - `Reweighing`, `AdversarialDebiasing`, and `Equalized Odds`\n",
    "   - These can correct for unfairness before or after model training.\n",
    "\n",
    "---\n",
    "\n",
    "### 📌 Why It Matters\n",
    "\n",
    "Using AIF360 helps us perform a rigorous audit of our dataset and the learning platform's outcomes. It allows us to go beyond accuracy and performance, and explore whether different groups of students (e.g., by class, teacher, help-seeking behavior, or emotion) are treated fairly by the system."
   ]
  },
  {
   "cell_type": "markdown",
   "id": "f930428c-1861-42ce-b140-9b202e8be591",
   "metadata": {},
   "source": [
    "## 🧠 What Is AIF360 and How Are We Using It?\n",
    "\n",
    "**AIF360 (AI Fairness 360)** is an open-source fairness toolkit developed by IBM to help detect, understand, and mitigate bias in machine learning datasets and models.\n",
    "\n",
    "### ✅ What AIF360 Does for Us:\n",
    "\n",
    "1. **Defines Fairness Context**\n",
    "   - Converts our dataset into a structure that clearly defines:\n",
    "     - `label_names` → the outcome variable (e.g., `correct`)\n",
    "     - `protected_attribute_names` → the group to test bias across (e.g., `school_id`, `first_action`, `is_bored`)\n",
    "\n",
    "2. **Computes Fairness Metrics**\n",
    "   - We use `BinaryLabelDatasetMetric` to calculate:\n",
    "     - **Disparate Impact** → ratio of positive outcomes between unprivileged and privileged groups\n",
    "     - **Statistical Parity Difference** → difference in the rate of favorable outcomes\n",
    "   - These help us understand if one group is systematically disadvantaged.\n",
    "\n",
    "3. **(Optional) Bias Mitigation**\n",
    "   - While we did not use mitigation in this analysis, AIF360 provides tools like:\n",
    "     - `Reweighing`, `AdversarialDebiasing`, and `Equalized Odds`\n",
    "   - These can correct for unfairness before or after model training.\n",
    "\n",
    "---\n",
    "\n",
    "### 📌 Why It Matters\n",
    "\n",
    "Using AIF360 helps us perform a rigorous audit of our dataset and the learning platform's outcomes. It allows us to go beyond accuracy and performance, and explore whether different groups of students (e.g., by class, teacher, help-seeking behavior, or emotion) are treated fairly by the system."
   ]
  },
  {
   "cell_type": "markdown",
   "id": "03eb1594-359c-4ec3-832f-a12481bd80aa",
   "metadata": {},
   "source": [
    "Note: Due to the large number of missing values (~3.4M) in the `skill` column, we dropped it to retain the full dataset (~6.1M rows). This improves the stability and reliability of fairness metrics. Skill-based bias detection could be explored in future work with imputation or partial filtering, but was excluded here to maintain data integrity."
   ]
  },
  {
   "cell_type": "code",
   "execution_count": 188,
   "id": "f2b3fc6c-a5ed-445e-8bf9-1fece3cfac37",
   "metadata": {},
   "outputs": [],
   "source": [
    "df_with_skill_present = df_with_skill.dropna(subset=['skill'])"
   ]
  },
  {
   "cell_type": "code",
   "execution_count": 190,
   "id": "061df975-f548-4c5a-8b05-35e95047d1dc",
   "metadata": {},
   "outputs": [],
   "source": [
    "from sklearn.preprocessing import LabelEncoder\n",
    "\n",
    "le = LabelEncoder()\n",
    "df_with_skill_present['skill_encoded'] = le.fit_transform(df_with_skill_present['skill'])"
   ]
  },
  {
   "cell_type": "code",
   "execution_count": 192,
   "id": "c5c069cf-c2df-4c5a-8da8-81203fa9ab7b",
   "metadata": {},
   "outputs": [
    {
     "name": "stdout",
     "output_type": "stream",
     "text": [
      "Disparate Impact (Skill): 0.9642240335318915\n",
      "Statistical Parity Difference (Skill): -0.02570253135635958\n"
     ]
    }
   ],
   "source": [
    "most_common_skill = df_with_skill_present['skill_encoded'].mode()[0]\n",
    "privileged_group = [{'skill_encoded': most_common_skill}]\n",
    "unprivileged_group = [{'skill_encoded': s} for s in df_with_skill_present['skill_encoded'].unique() if s != most_common_skill]\n",
    "\n",
    "from aif360.datasets import BinaryLabelDataset\n",
    "from aif360.metrics import BinaryLabelDatasetMetric\n",
    "\n",
    "skill_dataset = BinaryLabelDataset(\n",
    "    df=df_with_skill_present,\n",
    "    label_names=['correct'],\n",
    "    protected_attribute_names=['skill_encoded']\n",
    ")\n",
    "\n",
    "skill_metric = BinaryLabelDatasetMetric(\n",
    "    skill_dataset,\n",
    "    privileged_groups=privileged_group,\n",
    "    unprivileged_groups=unprivileged_group\n",
    ")\n",
    "\n",
    "print(\"Disparate Impact (Skill):\", skill_metric.disparate_impact())\n",
    "print(\"Statistical Parity Difference (Skill):\", skill_metric.statistical_parity_difference())"
   ]
  },
  {
   "cell_type": "markdown",
   "id": "0cbc587d-70cc-4ae9-8c1a-4f4c94a2ed9e",
   "metadata": {},
   "source": [
    "## 🎯 Skill-Based Bias Analysis\n",
    "\n",
    "To evaluate if different skill areas (e.g., Algebra, Geometry) led to unequal correctness rates, we performed a fairness check using AIF360.\n",
    "\n",
    "We encoded the `skill` column and treated the most common skill as the privileged group. All other skills were treated as unprivileged.\n",
    "\n",
    "**Results:**\n",
    "- Disparate Impact (Skill): 0.964\n",
    "- Statistical Parity Difference (Skill): -0.026\n",
    "\n",
    "**Conclusion:**\n",
    "There is no significant evidence of topic-level bias in the dataset. Students perform similarly across different skill types. Based on this, the `skill` column was removed in future analysis to retain the full dataset and improve metric stability."
   ]
  },
  {
   "cell_type": "code",
   "execution_count": 195,
   "id": "ce4fdc09-ad6c-4bfe-b873-142eaaedfaab",
   "metadata": {},
   "outputs": [
    {
     "name": "stdout",
     "output_type": "stream",
     "text": [
      "<class 'pandas.core.frame.DataFrame'>\n",
      "Index: 6062765 entries, 0 to 6123269\n",
      "Data columns (total 31 columns):\n",
      " #   Column                             Dtype  \n",
      "---  ------                             -----  \n",
      " 0   problem_log_id                     int64  \n",
      " 1   problem_id                         int64  \n",
      " 2   user_id                            int64  \n",
      " 3   assignment_id                      int64  \n",
      " 4   assistment_id                      int64  \n",
      " 5   start_time                         object \n",
      " 6   end_time                           object \n",
      " 7   problem_type                       object \n",
      " 8   original                           int64  \n",
      " 9   correct                            float64\n",
      " 10  bottom_hint                        float64\n",
      " 11  hint_count                         int64  \n",
      " 12  actions                            object \n",
      " 13  attempt_count                      int64  \n",
      " 14  ms_first_response                  int64  \n",
      " 15  tutor_mode                         object \n",
      " 16  sequence_id                        int64  \n",
      " 17  student_class_id                   int64  \n",
      " 18  position                           int64  \n",
      " 19  type                               object \n",
      " 20  base_sequence_id                   int64  \n",
      " 21  teacher_id                         int64  \n",
      " 22  school_id                          float64\n",
      " 23  overlap_time                       int64  \n",
      " 24  template_id                        int64  \n",
      " 25  first_action                       int64  \n",
      " 26  problemlogid                       int64  \n",
      " 27  Average_confidence(FRUSTRATED)     float64\n",
      " 28  Average_confidence(CONFUSED)       float64\n",
      " 29  Average_confidence(CONCENTRATING)  float64\n",
      " 30  Average_confidence(BORED)          float64\n",
      "dtypes: float64(7), int64(18), object(6)\n",
      "memory usage: 1.4+ GB\n"
     ]
    }
   ],
   "source": [
    "df_full.info()"
   ]
  },
  {
   "cell_type": "code",
   "execution_count": 197,
   "id": "35b0d6e1-aeca-4660-addd-048c7d4dda6a",
   "metadata": {},
   "outputs": [],
   "source": [
    "df_full_cleaned = df_full.drop(columns=[\n",
    "    'start_time',\n",
    "    'end_time',\n",
    "    'problem_type',\n",
    "    'actions',\n",
    "    'tutor_mode',\n",
    "    'type',\n",
    "    'template_id',\n",
    "    'problem_log_id',\n",
    "    'problemlogid'\n",
    "])"
   ]
  },
  {
   "cell_type": "code",
   "execution_count": 199,
   "id": "d1196450-f27a-46c9-837d-e25392f80e0f",
   "metadata": {},
   "outputs": [
    {
     "name": "stdout",
     "output_type": "stream",
     "text": [
      "<class 'pandas.core.frame.DataFrame'>\n",
      "Index: 6062765 entries, 0 to 6123269\n",
      "Data columns (total 22 columns):\n",
      " #   Column                             Dtype  \n",
      "---  ------                             -----  \n",
      " 0   problem_id                         int64  \n",
      " 1   user_id                            int64  \n",
      " 2   assignment_id                      int64  \n",
      " 3   assistment_id                      int64  \n",
      " 4   original                           int64  \n",
      " 5   correct                            float64\n",
      " 6   bottom_hint                        float64\n",
      " 7   hint_count                         int64  \n",
      " 8   attempt_count                      int64  \n",
      " 9   ms_first_response                  int64  \n",
      " 10  sequence_id                        int64  \n",
      " 11  student_class_id                   int64  \n",
      " 12  position                           int64  \n",
      " 13  base_sequence_id                   int64  \n",
      " 14  teacher_id                         int64  \n",
      " 15  school_id                          float64\n",
      " 16  overlap_time                       int64  \n",
      " 17  first_action                       int64  \n",
      " 18  Average_confidence(FRUSTRATED)     float64\n",
      " 19  Average_confidence(CONFUSED)       float64\n",
      " 20  Average_confidence(CONCENTRATING)  float64\n",
      " 21  Average_confidence(BORED)          float64\n",
      "dtypes: float64(7), int64(15)\n",
      "memory usage: 1.0 GB\n"
     ]
    }
   ],
   "source": [
    "df_full_cleaned.info()"
   ]
  },
  {
   "cell_type": "code",
   "execution_count": 201,
   "id": "b96c6e52-4561-4ec5-b6ae-05fdd0277f28",
   "metadata": {},
   "outputs": [],
   "source": [
    "df_full_cleaned.rename(columns={\n",
    "    'Average_confidence(FRUSTRATED)': 'conf_frustrated',\n",
    "    'Average_confidence(CONFUSED)': 'conf_confused',\n",
    "    'Average_confidence(CONCENTRATING)': 'conf_concentrating',\n",
    "    'Average_confidence(BORED)': 'conf_bored'\n",
    "}, inplace=True)"
   ]
  },
  {
   "cell_type": "code",
   "execution_count": 203,
   "id": "05f1fba3-bf10-40c5-be4f-d2e331402aea",
   "metadata": {},
   "outputs": [],
   "source": [
    "df_full_cleaned['is_frustrated'] = df_full_cleaned['conf_frustrated'].apply(lambda x: 1 if x > 0.6 else 0)\n",
    "df_full_cleaned['is_confused'] = df_full_cleaned['conf_confused'].apply(lambda x: 1 if x > 0.6 else 0)\n",
    "df_full_cleaned['is_concentrating'] = df_full_cleaned['conf_concentrating'].apply(lambda x: 1 if x > 0.6 else 0)\n",
    "df_full_cleaned['is_bored'] = df_full_cleaned['conf_bored'].apply(lambda x: 1 if x > 0.6 else 0)"
   ]
  },
  {
   "cell_type": "markdown",
   "id": "b2fd6d63-954e-4cc1-ac80-dd0be9af685c",
   "metadata": {},
   "source": [
    "## 🧾 Summary: Final Preprocessing on Full Dataset (`df_full_cleaned`)\n",
    "\n",
    "We prepared a cleaned version of the full dataset to ensure maximum row retention and metric stability for fairness analysis.\n",
    "\n",
    "- Created a new dataframe `df_full_cleaned` as a working copy of the full dataset.\n",
    "- Dropped irrelevant columns including timestamps, log actions, duplicated identifiers, and unused metadata to streamline analysis.\n",
    "- Renamed the emotional confidence columns for clarity and consistency:\n",
    "  - Frustration, Confusion, Concentration, and Boredom columns were renamed to simpler, lowercase formats.\n",
    "- Binarized the emotional state columns using a threshold of 0.6 to create the following binary indicators:\n",
    "  - `is_frustrated`, `is_confused`, `is_concentrating`, and `is_bored`\n",
    "- This cleaned dataset is now ready for re-running fairness metrics across emotional and behavioral attributes, preserving all rows by removing the previously limiting `skill` column."
   ]
  },
  {
   "cell_type": "code",
   "execution_count": 206,
   "id": "56edb93e-d1a1-4b49-b88a-51b2ea833a69",
   "metadata": {},
   "outputs": [
    {
     "name": "stdout",
     "output_type": "stream",
     "text": [
      "Unique values in 'correct': [1.    0.    0.25  0.5   0.75  0.6   0.85  0.875 0.975 0.375 0.65  0.95\n",
      " 0.625]\n",
      "Number of unique values in 'correct': 13\n"
     ]
    }
   ],
   "source": [
    "print(\"Unique values in 'correct':\", df_full_cleaned['correct'].unique())\n",
    "print(\"Number of unique values in 'correct':\", df_full_cleaned['correct'].nunique())"
   ]
  },
  {
   "cell_type": "code",
   "execution_count": 208,
   "id": "e3509aaf-9811-409e-b560-aca02ed5bd15",
   "metadata": {},
   "outputs": [
    {
     "data": {
      "text/plain": [
       "correct\n",
       "1.000    4094013\n",
       "0.000    1963429\n",
       "0.500       2395\n",
       "0.750       1629\n",
       "0.250       1211\n",
       "0.600         24\n",
       "0.975         24\n",
       "0.850         10\n",
       "0.650         10\n",
       "0.950          9\n",
       "0.875          6\n",
       "0.625          4\n",
       "0.375          1\n",
       "Name: count, dtype: int64"
      ]
     },
     "execution_count": 208,
     "metadata": {},
     "output_type": "execute_result"
    }
   ],
   "source": [
    "df_full_cleaned['correct'].value_counts()"
   ]
  },
  {
   "cell_type": "code",
   "execution_count": 210,
   "id": "c3b254d4-a84e-4364-a863-fe6179ec511e",
   "metadata": {},
   "outputs": [
    {
     "name": "stdout",
     "output_type": "stream",
     "text": [
      "Unique values in 'correct' after binarization: [1. 0.]\n"
     ]
    }
   ],
   "source": [
    "# Binarize the 'correct' column: keep 1.0 as is, convert all others to 0.0\n",
    "df_full_cleaned['correct'] = df_full_cleaned['correct'].apply(lambda x: 1.0 if x == 1.0 else 0.0)\n",
    "\n",
    "# Confirm unique values after conversion\n",
    "print(\"Unique values in 'correct' after binarization:\", df_full_cleaned['correct'].unique())"
   ]
  },
  {
   "cell_type": "markdown",
   "id": "b7186de3-aaf5-4a3e-a59a-30f49b40f0ef",
   "metadata": {},
   "source": [
    "## ⚙️ Binarization of the `correct` Column\n",
    "\n",
    "The `correct` column originally contained a range of float values (e.g., 0.0, 0.5, 0.75, 1.0), representing partial or full correctness.\n",
    "\n",
    "To align with binary fairness metrics and simplify interpretation, we converted the column as follows:\n",
    "\n",
    "- **1.0** → Fully correct (kept as `1.0`)\n",
    "- **Any other value** → Considered not fully correct (converted to `0.0`)\n",
    "\n",
    "This step ensures consistency in how student success is measured across all bias checks."
   ]
  },
  {
   "cell_type": "code",
   "execution_count": 213,
   "id": "477ea576-265e-4ec9-8cc5-474ac8b33164",
   "metadata": {},
   "outputs": [
    {
     "name": "stdout",
     "output_type": "stream",
     "text": [
      "📊 Fairness Results for `is_bored`:\n",
      "Disparate Impact: 1.0300572802737522\n",
      "Statistical Parity Difference: 0.02020697165832608\n",
      "------------------------------------------------------------\n",
      "📊 Fairness Results for `is_frustrated`:\n",
      "Disparate Impact: 1.1800054181662185\n",
      "Statistical Parity Difference: 0.12026384070358753\n",
      "------------------------------------------------------------\n",
      "📊 Fairness Results for `is_confused`:\n",
      "Disparate Impact: 1.2567705460427563\n",
      "Statistical Parity Difference: 0.1716490061885868\n",
      "------------------------------------------------------------\n",
      "📊 Fairness Results for `is_concentrating`:\n",
      "Disparate Impact: 0.7464548768499956\n",
      "Statistical Parity Difference: -0.18027261627851476\n",
      "------------------------------------------------------------\n",
      "📊 Fairness Results for `teacher_id`:\n",
      "Disparate Impact: 0.9322001367325844\n",
      "Statistical Parity Difference: -0.048995425224850564\n",
      "------------------------------------------------------------\n",
      "📊 Fairness Results for `student_class_id`:\n",
      "Disparate Impact: 0.8984649163195239\n",
      "Statistical Parity Difference: -0.07606910999073468\n",
      "------------------------------------------------------------\n",
      "📊 Fairness Results for `first_action`:\n",
      "Disparate Impact: 8.218275513886863e-06\n",
      "Statistical Parity Difference: -0.7154054975895813\n",
      "------------------------------------------------------------\n"
     ]
    }
   ],
   "source": [
    "attributes = [\n",
    "    'is_bored',\n",
    "    'is_frustrated',\n",
    "    'is_confused',\n",
    "    'is_concentrating',\n",
    "    'teacher_id',\n",
    "    'student_class_id',\n",
    "    'first_action'\n",
    "]\n",
    "\n",
    "from aif360.datasets import BinaryLabelDataset\n",
    "from aif360.metrics import BinaryLabelDatasetMetric\n",
    "\n",
    "for attr in attributes:\n",
    "    most_common = df_full_cleaned[attr].mode()[0]\n",
    "\n",
    "    priv_group = [{attr: most_common}]\n",
    "    unpriv_group = [{attr: val} for val in df_full_cleaned[attr].unique() if val != most_common]\n",
    "\n",
    "    dataset = BinaryLabelDataset(\n",
    "        df=df_full_cleaned,\n",
    "        label_names=['correct'],\n",
    "        protected_attribute_names=[attr]\n",
    "    )\n",
    "\n",
    "    metric = BinaryLabelDatasetMetric(\n",
    "        dataset,\n",
    "        privileged_groups=priv_group,\n",
    "        unprivileged_groups=unpriv_group\n",
    "    )\n",
    "\n",
    "    print(f\"📊 Fairness Results for `{attr}`:\")\n",
    "    print(\"Disparate Impact:\", metric.disparate_impact())\n",
    "    print(\"Statistical Parity Difference:\", metric.statistical_parity_difference())\n",
    "    print(\"-\" * 60)"
   ]
  },
  {
   "cell_type": "markdown",
   "id": "3202caf2-ac84-4ee3-908f-cdde0731d822",
   "metadata": {},
   "source": [
    "## 📊 Fairness Evaluation on Full Dataset (`df_full_cleaned`)\n",
    "\n",
    "After preparing the full dataset (without filtering based on `skill`), we re-ran all fairness metrics using AIF360. The binary outcome variable was `correct`, and the following features were tested as protected attributes:\n",
    "\n",
    "| Feature              | Disparate Impact | Statistical Parity Difference | Interpretation |\n",
    "|----------------------|------------------|-------------------------------|----------------|\n",
    "| **is_bored**         | 1.03             | +0.020                        | ✅ No significant bias — performance is consistent regardless of boredom. |\n",
    "| **is_frustrated**    | 1.18             | +0.120                        | ⚠️ Mild positive bias — frustrated students may be receiving more support. |\n",
    "| **is_confused**      | 1.26             | +0.172                        | 🚨 Strong positive disparity — confused students show higher correctness, potentially due to adaptive help. |\n",
    "| **is_concentrating** | 0.75             | -0.180                        | 🚨 Notable negative bias — low concentration students perform significantly worse. |\n",
    "| **teacher_id**       | 0.93             | -0.049                        | ✅ Minor variation — but overall fairness across teachers. |\n",
    "| **student_class_id** | 0.90             | -0.076                        | ⚠️ Slight bias — some classroom groupings perform worse than others. |\n",
    "| **first_action**     | **0.0000082**    | **-0.715**                    | 🚨🚨 Major bias — students who seek help first are severely disadvantaged. |\n",
    "\n",
    "---\n",
    "\n",
    "### 🧠 Insights:\n",
    "- Emotional features continue to show **patterned disparities**, especially for **confusion (over-supported)** and **concentration (under-supported)**.\n",
    "- The most critical fairness issue lies in **help-seeking behavior**, where students who ask for hints first face a **massive disadvantage**.\n",
    "- Fairness across instructors (`teacher_id`) and classrooms (`student_class_id`) shows **minor but notable variations**.\n",
    "\n",
    "These results strengthen our claim that **bias exists not just across demographics**, but also in **behavioral and emotional patterns** within educational platforms."
   ]
  },
  {
   "cell_type": "code",
   "execution_count": 218,
   "id": "a6023288-7473-4d09-925e-91dc331b1077",
   "metadata": {},
   "outputs": [
    {
     "data": {
      "image/png": "[encoded data removed]",
      "text/plain": [
       "<Figure size 1000x600 with 1 Axes>"
      ]
     },
     "metadata": {},
     "output_type": "display_data"
    },
    {
     "data": {
      "image/png": "[encoded data removed]",
      "text/plain": [
       "<Figure size 1000x600 with 1 Axes>"
      ]
     },
     "metadata": {},
     "output_type": "display_data"
    }
   ],
   "source": [
    "import matplotlib.pyplot as plt\n",
    "import pandas as pd\n",
    "\n",
    "# Fairness metrics data\n",
    "features = [\n",
    "    'is_bored', 'is_frustrated', 'is_confused', 'is_concentrating',\n",
    "    'teacher_id', 'student_class_id', 'first_action'\n",
    "]\n",
    "\n",
    "disparate_impact = [\n",
    "    1.03, 1.18, 1.26, 0.75, 0.93, 0.90, 0.0000082\n",
    "]\n",
    "\n",
    "stat_parity_diff = [\n",
    "    0.020, 0.120, 0.172, -0.180, -0.049, -0.076, -0.715\n",
    "]\n",
    "\n",
    "# Create DataFrame\n",
    "fairness_df = pd.DataFrame({\n",
    "    'Feature': features,\n",
    "    'Disparate Impact': disparate_impact,\n",
    "    'Statistical Parity Difference': stat_parity_diff\n",
    "})\n",
    "\n",
    "# Determine color coding for Disparate Impact\n",
    "colors_di = ['green' if 0.8 <= val <= 1.25 else 'red' for val in disparate_impact]\n",
    "colors_spd = ['green' if -0.1 <= val <= 0.1 else 'red' for val in stat_parity_diff]\n",
    "\n",
    "# 📊 Plot 1: Disparate Impact\n",
    "plt.figure(figsize=(10, 6))\n",
    "plt.bar(fairness_df['Feature'], fairness_df['Disparate Impact'], color=colors_di)\n",
    "plt.axhline(y=1.0, color='gray', linestyle='--', label='Ideal (1.0)')\n",
    "plt.axhline(y=0.8, color='orange', linestyle='--', linewidth=0.7)\n",
    "plt.axhline(y=1.25, color='orange', linestyle='--', linewidth=0.7)\n",
    "plt.title('Disparate Impact by Feature')\n",
    "plt.ylabel('Disparate Impact')\n",
    "plt.xticks(rotation=45)\n",
    "plt.legend()\n",
    "plt.tight_layout()\n",
    "plt.show()\n",
    "\n",
    "# 📊 Plot 2: Statistical Parity Difference\n",
    "plt.figure(figsize=(10, 6))\n",
    "plt.bar(fairness_df['Feature'], fairness_df['Statistical Parity Difference'], color=colors_spd)\n",
    "plt.axhline(y=0.0, color='gray', linestyle='--', label='Ideal (0.0)')\n",
    "plt.axhline(y=0.1, color='orange', linestyle='--', linewidth=0.7)\n",
    "plt.axhline(y=-0.1, color='orange', linestyle='--', linewidth=0.7)\n",
    "plt.title('Statistical Parity Difference by Feature')\n",
    "plt.ylabel('Statistical Parity Difference')\n",
    "plt.xticks(rotation=45)\n",
    "plt.legend()\n",
    "plt.tight_layout()\n",
    "plt.show()"
   ]
  },
  {
   "cell_type": "markdown",
   "id": "2cd32420-290c-46f6-b38e-ae1344d57bd0",
   "metadata": {},
   "source": [
    "## 📊 Graph Explanation: Fairness Metrics Visualization\n",
    "\n",
    "The bar charts below visualize the two main fairness metrics calculated using AIF360:\n",
    "\n",
    "1. **Disparate Impact**  \n",
    "   - Measures the ratio of favorable outcomes between unprivileged and privileged groups.  \n",
    "   - Ideal value = **1.0** (fairness line shown in gray)  \n",
    "   - Acceptable range = **0.8 to 1.25** (boundaries shown in orange)  \n",
    "   - Bars outside this range are marked **red** and indicate potential bias.\n",
    "\n",
    "2. **Statistical Parity Difference**  \n",
    "   - Measures the difference in favorable outcome rates between groups.  \n",
    "   - Ideal value = **0.0** (fairness line shown in gray)  \n",
    "   - Acceptable range = **-0.1 to +0.1**  \n",
    "   - Values beyond this range indicate significant disparity and are marked **red**.\n",
    "\n",
    "Together, these graphs provide a quick and intuitive way to identify which features may be contributing to bias in the dataset."
   ]
  },
  {
   "cell_type": "markdown",
   "id": "26dbd440-03a3-46ac-90af-668ceb0ac48c",
   "metadata": {},
   "source": [
    "## 📌 Final Summary: Bias Detection on the Full Dataset (`df_full_cleaned`)\n",
    "\n",
    "This section summarizes the complete process undertaken to detect and understand potential biases in the full educational dataset (~6.1 million rows). Our goal was to identify whether certain groups of students — based on emotion, behavior, or system-defined metadata — are systematically treated unfairly by the learning platform. Here's what we did and why it matters:\n",
    "\n",
    "---\n",
    "\n",
    "### 🧼 1. Data Preparation & Cleaning\n",
    "\n",
    "- Created a working copy of the full dataset as `df_full_cleaned`.\n",
    "- Dropped irrelevant columns such as timestamps, text logs, and metadata that don’t contribute to fairness evaluation.\n",
    "- Dropped the `skill` column due to >3M missing values. This allowed us to retain the full dataset without row filtering and improved the reliability of our results.\n",
    "- Renamed long or technical columns (e.g., `Average_confidence(FRUSTRATED)` → `conf_frustrated`) for readability and consistency.\n",
    "\n",
    "---\n",
    "\n",
    "### 🔁 2. Feature Engineering\n",
    "\n",
    "- **Binarized the `correct` column**:  \n",
    "  Converted partial correctness values (e.g., 0.5, 0.75) into binary values — `1.0` for fully correct and `0.0` for all else — to simplify analysis.\n",
    "  \n",
    "- **Created binary emotional indicators** using a threshold of 0.6:  \n",
    "  - `is_frustrated`, `is_confused`, `is_concentrating`, `is_bored`\n",
    "  - These were derived from predicted confidence scores and represent high or low emotional states.\n",
    "\n",
    "---\n",
    "\n",
    "### ⚖️ 3. Fairness Evaluation (AIF360)\n",
    "\n",
    "We applied IBM’s AIF360 toolkit to calculate two key fairness metrics for various protected attributes:\n",
    "\n",
    "- **Disparate Impact (DI)** — Measures the ratio of positive outcomes between unprivileged and privileged groups. Ideal = 1.0.\n",
    "- **Statistical Parity Difference (SPD)** — Measures the absolute difference in positive outcome rates between groups. Ideal = 0.0.\n",
    "\n",
    "We tested the following attributes:\n",
    "\n",
    "| Feature              | Disparate Impact | SPD       | Interpretation |\n",
    "|----------------------|------------------|-----------|----------------|\n",
    "| `is_bored`           | 1.03             | +0.02     | No significant bias. |\n",
    "| `is_frustrated`      | 1.18             | +0.12     | Slight advantage for frustrated students. |\n",
    "| `is_confused`        | 1.26             | +0.17     | Confused students receive more support or better outcomes. |\n",
    "| `is_concentrating`   | 0.75             | -0.18     | Clear disadvantage for students with low concentration. |\n",
    "| `teacher_id`         | 0.93             | -0.05     | Mostly fair outcomes across teachers. |\n",
    "| `student_class_id`   | 0.90             | -0.08     | Slight variation in outcomes across classes. |\n",
    "| `first_action`       | **0.0000082**    | **-0.72** | Major bias against help-seeking students. |\n",
    "\n",
    "---\n",
    "\n",
    "### 📈 4. Visualization\n",
    "\n",
    "- Created two bar charts:\n",
    "  - **Disparate Impact by Feature**\n",
    "  - **Statistical Parity Difference by Feature**\n",
    "- Used color-coded bars to indicate acceptable vs. biased metrics.\n",
    "- Included threshold lines (0.8–1.25 for DI, -0.1 to +0.1 for SPD) to visually flag unfairness.\n",
    "\n",
    "---\n",
    "\n",
    "### 🧠 What We Achieved\n",
    "\n",
    "- Identified **behavioral and emotional biases** in the dataset, even though traditional demographic features were missing.\n",
    "- Demonstrated that **help-seeking students** (those who ask for hints first) are **severely disadvantaged**, raising concerns for ethical adaptive systems.\n",
    "- Found that students with **low concentration** also perform significantly worse — this could reflect platform design that does not effectively support distracted learners.\n",
    "- Validated that other features like `teacher_id`, `boredom`, and `class_id` have **mostly fair treatment**, supporting confidence in parts of the dataset.\n",
    "\n",
    "---\n",
    "\n",
    "### 📌 Why This Matters\n",
    "\n",
    "These findings directly impact any **model trained on this data**:\n",
    "\n",
    "- If a model is trained on this biased data **without debiasing**, it may **learn to penalize help-seeking or distracted students**, reinforcing inequality.\n",
    "- This can result in **unfair recommendations**, **unequal grading**, or **biased content delivery**, especially in adaptive learning platforms.\n",
    "- Fairness checks like these are essential to ensure **trustworthy, ethical AI** in education.\n",
    "\n",
    "---\n",
    "\n",
    "✅ Our work highlights the importance of evaluating fairness **beyond demographics**, especially in **behavior-rich datasets** like this one."
   ]
  },
  {
   "cell_type": "code",
   "execution_count": null,
   "id": "c2c209cc-2390-4142-84c3-350712a9af64",
   "metadata": {},
   "outputs": [],
   "source": []
  }
 ],
 "metadata": {
  "kernelspec": {
   "display_name": "Python [conda env:base] *",
   "language": "python",
   "name": "conda-base-py"
  },
  "language_info": {
   "codemirror_mode": {
    "name": "ipython",
    "version": 3
   },
   "file_extension": ".py",
   "mimetype": "text/x-python",
   "name": "python",
   "nbconvert_exporter": "python",
   "pygments_lexer": "ipython3",
   "version": "3.12.7"
  }
 },
 "nbformat": 4,
 "nbformat_minor": 5
}
