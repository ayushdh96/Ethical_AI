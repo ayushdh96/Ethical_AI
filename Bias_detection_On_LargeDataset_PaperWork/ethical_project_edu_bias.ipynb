{
  "nbformat": 4,
  "nbformat_minor": 0,
  "metadata": {
    "colab": {
      "provenance": []
    },
    "kernelspec": {
      "name": "python3",
      "display_name": "Python 3"
    },
    "language_info": {
      "name": "python"
    }
  },
  "cells": [
    {
      "cell_type": "markdown",
      "source": [
        "#DATASET UPLOAD"
      ],
      "metadata": {
        "id": "Tp15Gk-9jefx"
      }
    },
    {
      "cell_type": "code",
      "execution_count": null,
      "metadata": {
        "colab": {
          "base_uri": "https://localhost:8080/",
          "height": 663
        },
        "id": "7RyH2j94f8AJ",
        "outputId": "85d46fb8-0949-475a-e8e8-0db83abaef91"
      },
      "outputs": [
        {
          "output_type": "stream",
          "name": "stdout",
          "text": [
            "Requirement already satisfied: pandas in /usr/local/lib/python3.11/dist-packages (2.2.2)\n",
            "Requirement already satisfied: numpy in /usr/local/lib/python3.11/dist-packages (2.0.2)\n",
            "Requirement already satisfied: scikit-learn in /usr/local/lib/python3.11/dist-packages (1.6.1)\n",
            "Requirement already satisfied: aif360 in /usr/local/lib/python3.11/dist-packages (0.6.1)\n",
            "Requirement already satisfied: matplotlib in /usr/local/lib/python3.11/dist-packages (3.10.0)\n",
            "Requirement already satisfied: seaborn in /usr/local/lib/python3.11/dist-packages (0.13.2)\n",
            "Requirement already satisfied: python-dateutil>=2.8.2 in /usr/local/lib/python3.11/dist-packages (from pandas) (2.8.2)\n",
            "Requirement already satisfied: pytz>=2020.1 in /usr/local/lib/python3.11/dist-packages (from pandas) (2025.1)\n",
            "Requirement already satisfied: tzdata>=2022.7 in /usr/local/lib/python3.11/dist-packages (from pandas) (2025.1)\n",
            "Requirement already satisfied: scipy>=1.6.0 in /usr/local/lib/python3.11/dist-packages (from scikit-learn) (1.14.1)\n",
            "Requirement already satisfied: joblib>=1.2.0 in /usr/local/lib/python3.11/dist-packages (from scikit-learn) (1.4.2)\n",
            "Requirement already satisfied: threadpoolctl>=3.1.0 in /usr/local/lib/python3.11/dist-packages (from scikit-learn) (3.6.0)\n",
            "Requirement already satisfied: contourpy>=1.0.1 in /usr/local/lib/python3.11/dist-packages (from matplotlib) (1.3.1)\n",
            "Requirement already satisfied: cycler>=0.10 in /usr/local/lib/python3.11/dist-packages (from matplotlib) (0.12.1)\n",
            "Requirement already satisfied: fonttools>=4.22.0 in /usr/local/lib/python3.11/dist-packages (from matplotlib) (4.56.0)\n",
            "Requirement already satisfied: kiwisolver>=1.3.1 in /usr/local/lib/python3.11/dist-packages (from matplotlib) (1.4.8)\n",
            "Requirement already satisfied: packaging>=20.0 in /usr/local/lib/python3.11/dist-packages (from matplotlib) (24.2)\n",
            "Requirement already satisfied: pillow>=8 in /usr/local/lib/python3.11/dist-packages (from matplotlib) (11.1.0)\n",
            "Requirement already satisfied: pyparsing>=2.3.1 in /usr/local/lib/python3.11/dist-packages (from matplotlib) (3.2.1)\n",
            "Requirement already satisfied: six>=1.5 in /usr/local/lib/python3.11/dist-packages (from python-dateutil>=2.8.2->pandas) (1.17.0)\n",
            "Requirement already satisfied: kaggle in /usr/local/lib/python3.11/dist-packages (1.6.17)\n",
            "Requirement already satisfied: six>=1.10 in /usr/local/lib/python3.11/dist-packages (from kaggle) (1.17.0)\n",
            "Requirement already satisfied: certifi>=2023.7.22 in /usr/local/lib/python3.11/dist-packages (from kaggle) (2025.1.31)\n",
            "Requirement already satisfied: python-dateutil in /usr/local/lib/python3.11/dist-packages (from kaggle) (2.8.2)\n",
            "Requirement already satisfied: requests in /usr/local/lib/python3.11/dist-packages (from kaggle) (2.32.3)\n",
            "Requirement already satisfied: tqdm in /usr/local/lib/python3.11/dist-packages (from kaggle) (4.67.1)\n",
            "Requirement already satisfied: python-slugify in /usr/local/lib/python3.11/dist-packages (from kaggle) (8.0.4)\n",
            "Requirement already satisfied: urllib3 in /usr/local/lib/python3.11/dist-packages (from kaggle) (2.3.0)\n",
            "Requirement already satisfied: bleach in /usr/local/lib/python3.11/dist-packages (from kaggle) (6.2.0)\n",
            "Requirement already satisfied: webencodings in /usr/local/lib/python3.11/dist-packages (from bleach->kaggle) (0.5.1)\n",
            "Requirement already satisfied: text-unidecode>=1.3 in /usr/local/lib/python3.11/dist-packages (from python-slugify->kaggle) (1.3)\n",
            "Requirement already satisfied: charset-normalizer<4,>=2 in /usr/local/lib/python3.11/dist-packages (from requests->kaggle) (3.4.1)\n",
            "Requirement already satisfied: idna<4,>=2.5 in /usr/local/lib/python3.11/dist-packages (from requests->kaggle) (3.10)\n"
          ]
        },
        {
          "output_type": "display_data",
          "data": {
            "text/plain": [
              "<IPython.core.display.HTML object>"
            ],
            "text/html": [
              "\n",
              "     <input type=\"file\" id=\"files-8ab8049a-950a-4b4d-ad29-4cf269544fc4\" name=\"files[]\" multiple disabled\n",
              "        style=\"border:none\" />\n",
              "     <output id=\"result-8ab8049a-950a-4b4d-ad29-4cf269544fc4\">\n",
              "      Upload widget is only available when the cell has been executed in the\n",
              "      current browser session. Please rerun this cell to enable.\n",
              "      </output>\n",
              "      <script>// Copyright 2017 Google LLC\n",
              "//\n",
              "// Licensed under the Apache License, Version 2.0 (the \"License\");\n",
              "// you may not use this file except in compliance with the License.\n",
              "// You may obtain a copy of the License at\n",
              "//\n",
              "//      http://www.apache.org/licenses/LICENSE-2.0\n",
              "//\n",
              "// Unless required by applicable law or agreed to in writing, software\n",
              "// distributed under the License is distributed on an \"AS IS\" BASIS,\n",
              "// WITHOUT WARRANTIES OR CONDITIONS OF ANY KIND, either express or implied.\n",
              "// See the License for the specific language governing permissions and\n",
              "// limitations under the License.\n",
              "\n",
              "/**\n",
              " * @fileoverview Helpers for google.colab Python module.\n",
              " */\n",
              "(function(scope) {\n",
              "function span(text, styleAttributes = {}) {\n",
              "  const element = document.createElement('span');\n",
              "  element.textContent = text;\n",
              "  for (const key of Object.keys(styleAttributes)) {\n",
              "    element.style[key] = styleAttributes[key];\n",
              "  }\n",
              "  return element;\n",
              "}\n",
              "\n",
              "// Max number of bytes which will be uploaded at a time.\n",
              "const MAX_PAYLOAD_SIZE = 100 * 1024;\n",
              "\n",
              "function _uploadFiles(inputId, outputId) {\n",
              "  const steps = uploadFilesStep(inputId, outputId);\n",
              "  const outputElement = document.getElementById(outputId);\n",
              "  // Cache steps on the outputElement to make it available for the next call\n",
              "  // to uploadFilesContinue from Python.\n",
              "  outputElement.steps = steps;\n",
              "\n",
              "  return _uploadFilesContinue(outputId);\n",
              "}\n",
              "\n",
              "// This is roughly an async generator (not supported in the browser yet),\n",
              "// where there are multiple asynchronous steps and the Python side is going\n",
              "// to poll for completion of each step.\n",
              "// This uses a Promise to block the python side on completion of each step,\n",
              "// then passes the result of the previous step as the input to the next step.\n",
              "function _uploadFilesContinue(outputId) {\n",
              "  const outputElement = document.getElementById(outputId);\n",
              "  const steps = outputElement.steps;\n",
              "\n",
              "  const next = steps.next(outputElement.lastPromiseValue);\n",
              "  return Promise.resolve(next.value.promise).then((value) => {\n",
              "    // Cache the last promise value to make it available to the next\n",
              "    // step of the generator.\n",
              "    outputElement.lastPromiseValue = value;\n",
              "    return next.value.response;\n",
              "  });\n",
              "}\n",
              "\n",
              "/**\n",
              " * Generator function which is called between each async step of the upload\n",
              " * process.\n",
              " * @param {string} inputId Element ID of the input file picker element.\n",
              " * @param {string} outputId Element ID of the output display.\n",
              " * @return {!Iterable<!Object>} Iterable of next steps.\n",
              " */\n",
              "function* uploadFilesStep(inputId, outputId) {\n",
              "  const inputElement = document.getElementById(inputId);\n",
              "  inputElement.disabled = false;\n",
              "\n",
              "  const outputElement = document.getElementById(outputId);\n",
              "  outputElement.innerHTML = '';\n",
              "\n",
              "  const pickedPromise = new Promise((resolve) => {\n",
              "    inputElement.addEventListener('change', (e) => {\n",
              "      resolve(e.target.files);\n",
              "    });\n",
              "  });\n",
              "\n",
              "  const cancel = document.createElement('button');\n",
              "  inputElement.parentElement.appendChild(cancel);\n",
              "  cancel.textContent = 'Cancel upload';\n",
              "  const cancelPromise = new Promise((resolve) => {\n",
              "    cancel.onclick = () => {\n",
              "      resolve(null);\n",
              "    };\n",
              "  });\n",
              "\n",
              "  // Wait for the user to pick the files.\n",
              "  const files = yield {\n",
              "    promise: Promise.race([pickedPromise, cancelPromise]),\n",
              "    response: {\n",
              "      action: 'starting',\n",
              "    }\n",
              "  };\n",
              "\n",
              "  cancel.remove();\n",
              "\n",
              "  // Disable the input element since further picks are not allowed.\n",
              "  inputElement.disabled = true;\n",
              "\n",
              "  if (!files) {\n",
              "    return {\n",
              "      response: {\n",
              "        action: 'complete',\n",
              "      }\n",
              "    };\n",
              "  }\n",
              "\n",
              "  for (const file of files) {\n",
              "    const li = document.createElement('li');\n",
              "    li.append(span(file.name, {fontWeight: 'bold'}));\n",
              "    li.append(span(\n",
              "        `(${file.type || 'n/a'}) - ${file.size} bytes, ` +\n",
              "        `last modified: ${\n",
              "            file.lastModifiedDate ? file.lastModifiedDate.toLocaleDateString() :\n",
              "                                    'n/a'} - `));\n",
              "    const percent = span('0% done');\n",
              "    li.appendChild(percent);\n",
              "\n",
              "    outputElement.appendChild(li);\n",
              "\n",
              "    const fileDataPromise = new Promise((resolve) => {\n",
              "      const reader = new FileReader();\n",
              "      reader.onload = (e) => {\n",
              "        resolve(e.target.result);\n",
              "      };\n",
              "      reader.readAsArrayBuffer(file);\n",
              "    });\n",
              "    // Wait for the data to be ready.\n",
              "    let fileData = yield {\n",
              "      promise: fileDataPromise,\n",
              "      response: {\n",
              "        action: 'continue',\n",
              "      }\n",
              "    };\n",
              "\n",
              "    // Use a chunked sending to avoid message size limits. See b/62115660.\n",
              "    let position = 0;\n",
              "    do {\n",
              "      const length = Math.min(fileData.byteLength - position, MAX_PAYLOAD_SIZE);\n",
              "      const chunk = new Uint8Array(fileData, position, length);\n",
              "      position += length;\n",
              "\n",
              "      const base64 = btoa(String.fromCharCode.apply(null, chunk));\n",
              "      yield {\n",
              "        response: {\n",
              "          action: 'append',\n",
              "          file: file.name,\n",
              "          data: base64,\n",
              "        },\n",
              "      };\n",
              "\n",
              "      let percentDone = fileData.byteLength === 0 ?\n",
              "          100 :\n",
              "          Math.round((position / fileData.byteLength) * 100);\n",
              "      percent.textContent = `${percentDone}% done`;\n",
              "\n",
              "    } while (position < fileData.byteLength);\n",
              "  }\n",
              "\n",
              "  // All done.\n",
              "  yield {\n",
              "    response: {\n",
              "      action: 'complete',\n",
              "    }\n",
              "  };\n",
              "}\n",
              "\n",
              "scope.google = scope.google || {};\n",
              "scope.google.colab = scope.google.colab || {};\n",
              "scope.google.colab._files = {\n",
              "  _uploadFiles,\n",
              "  _uploadFilesContinue,\n",
              "};\n",
              "})(self);\n",
              "</script> "
            ]
          },
          "metadata": {}
        },
        {
          "output_type": "stream",
          "name": "stdout",
          "text": [
            "Saving kaggle.json to kaggle.json\n"
          ]
        }
      ],
      "source": [
        "!pip install pandas numpy scikit-learn aif360 matplotlib seaborn\n",
        "!pip install kaggle\n",
        "import pandas as pd\n",
        "import numpy as np\n",
        "import matplotlib.pyplot as plt\n",
        "import seaborn as sns\n",
        "from sklearn.preprocessing import LabelEncoder\n",
        "from aif360.datasets import BinaryLabelDataset\n",
        "from aif360.metrics import BinaryLabelDatasetMetric\n",
        "\n",
        "from google.colab import files\n",
        "\n",
        "# Upload kaggle API key\n",
        "files.upload()\n",
        "#THE DATASET WAS HUGE SO WE USED THIS METHOD TO LOAD IT N EASY HOGA ISLIYE\n",
        "# Setup Kaggle API access\n",
        "!mkdir -p ~/.kaggle\n",
        "!mv kaggle.json ~/.kaggle/\n",
        "!chmod 600 ~/.kaggle/kaggle.json"
      ]
    },
    {
      "cell_type": "code",
      "source": [],
      "metadata": {
        "id": "gkKsCfeHgOfH"
      },
      "execution_count": null,
      "outputs": []
    },
    {
      "cell_type": "code",
      "source": [
        "# Download dataset from Kaggle\n",
        "!kaggle datasets download -d anlgrbz/student-demographics-online-education-dataoulad\n",
        "!unzip student-demographics-onliN\n",
        "ne-education-dataoulad.zip -d OULAD\n",
        "\n",
        "# Load datasets\n",
        "student_info = pd.read_csv(\"OULAD/studentInfo.csv\")\n",
        "course_info = pd.read_csv(\"OULAD/courses.csv\")\n",
        "enrollment_info = pd.read_csv(\"OULAD/studentRegistration.csv\")\n",
        "performance_info = pd.read_csv(\"OULAD/studentAssessment.csv\")\n",
        "\n",
        "# Display first few rows\n",
        "print(student_info.head())"
      ],
      "metadata": {
        "colab": {
          "base_uri": "https://localhost:8080/"
        },
        "id": "y_Zb7Cf-gGfJ",
        "outputId": "4ac7238d-aab4-43f9-9aa2-37625b2b0611"
      },
      "execution_count": null,
      "outputs": [
        {
          "output_type": "stream",
          "name": "stdout",
          "text": [
            "Warning: Looks like you're using an outdated API Version, please consider updating (server 1.7.4.2 / client 1.6.17)\n",
            "Dataset URL: https://www.kaggle.com/datasets/anlgrbz/student-demographics-online-education-dataoulad\n",
            "License(s): Attribution 4.0 International (CC BY 4.0)\n",
            "student-demographics-online-education-dataoulad.zip: Skipping, found more recently modified local copy (use --force to force download)\n",
            "Archive:  student-demographics-online-education-dataoulad.zip\n",
            "replace OULAD/assessments.csv? [y]es, [n]o, [A]ll, [N]one, [r]ename: N\n",
            "  code_module code_presentation  id_student gender                region  \\\n",
            "0         AAA             2013J       11391      M   East Anglian Region   \n",
            "1         AAA             2013J       28400      F              Scotland   \n",
            "2         AAA             2013J       30268      F  North Western Region   \n",
            "3         AAA             2013J       31604      F     South East Region   \n",
            "4         AAA             2013J       32885      F  West Midlands Region   \n",
            "\n",
            "       highest_education imd_band age_band  num_of_prev_attempts  \\\n",
            "0       HE Qualification  90-100%     55<=                     0   \n",
            "1       HE Qualification   20-30%    35-55                     0   \n",
            "2  A Level or Equivalent   30-40%    35-55                     0   \n",
            "3  A Level or Equivalent   50-60%    35-55                     0   \n",
            "4     Lower Than A Level   50-60%     0-35                     0   \n",
            "\n",
            "   studied_credits disability final_result  \n",
            "0              240          N         Pass  \n",
            "1               60          N         Pass  \n",
            "2               60          Y    Withdrawn  \n",
            "3               60          N         Pass  \n",
            "4               60          N         Pass  \n"
          ]
        }
      ]
    },
    {
      "cell_type": "markdown",
      "source": [
        "#STUDENT DEMOGRAPHICS\n"
      ],
      "metadata": {
        "id": "SK52ed-Aktu7"
      }
    },
    {
      "cell_type": "code",
      "source": [
        "# Check dataset structure\n",
        "print(student_info.info())\n",
        "\n",
        "# Check basic statistics\n",
        "print(student_info.describe(include=\"all\"))\n",
        "\n"
      ],
      "metadata": {
        "colab": {
          "base_uri": "https://localhost:8080/"
        },
        "id": "lvxI-utGkzFe",
        "outputId": "867c52de-edc3-449b-d64c-87c507b9af62"
      },
      "execution_count": null,
      "outputs": [
        {
          "output_type": "stream",
          "name": "stdout",
          "text": [
            "<class 'pandas.core.frame.DataFrame'>\n",
            "RangeIndex: 32593 entries, 0 to 32592\n",
            "Data columns (total 12 columns):\n",
            " #   Column                Non-Null Count  Dtype \n",
            "---  ------                --------------  ----- \n",
            " 0   code_module           32593 non-null  object\n",
            " 1   code_presentation     32593 non-null  object\n",
            " 2   id_student            32593 non-null  int64 \n",
            " 3   gender                32593 non-null  object\n",
            " 4   region                32593 non-null  object\n",
            " 5   highest_education     32593 non-null  object\n",
            " 6   imd_band              31482 non-null  object\n",
            " 7   age_band              32593 non-null  object\n",
            " 8   num_of_prev_attempts  32593 non-null  int64 \n",
            " 9   studied_credits       32593 non-null  int64 \n",
            " 10  disability            32593 non-null  object\n",
            " 11  final_result          32593 non-null  object\n",
            "dtypes: int64(3), object(9)\n",
            "memory usage: 3.0+ MB\n",
            "None\n",
            "       code_module code_presentation    id_student gender    region  \\\n",
            "count        32593             32593  3.259300e+04  32593     32593   \n",
            "unique           7                 4           NaN      2        13   \n",
            "top            BBB             2014J           NaN      M  Scotland   \n",
            "freq          7909             11260           NaN  17875      3446   \n",
            "mean           NaN               NaN  7.066877e+05    NaN       NaN   \n",
            "std            NaN               NaN  5.491673e+05    NaN       NaN   \n",
            "min            NaN               NaN  3.733000e+03    NaN       NaN   \n",
            "25%            NaN               NaN  5.085730e+05    NaN       NaN   \n",
            "50%            NaN               NaN  5.903100e+05    NaN       NaN   \n",
            "75%            NaN               NaN  6.444530e+05    NaN       NaN   \n",
            "max            NaN               NaN  2.716795e+06    NaN       NaN   \n",
            "\n",
            "            highest_education imd_band age_band  num_of_prev_attempts  \\\n",
            "count                   32593    31482    32593          32593.000000   \n",
            "unique                      5       10        3                   NaN   \n",
            "top     A Level or Equivalent   20-30%     0-35                   NaN   \n",
            "freq                    14045     3654    22944                   NaN   \n",
            "mean                      NaN      NaN      NaN              0.163225   \n",
            "std                       NaN      NaN      NaN              0.479758   \n",
            "min                       NaN      NaN      NaN              0.000000   \n",
            "25%                       NaN      NaN      NaN              0.000000   \n",
            "50%                       NaN      NaN      NaN              0.000000   \n",
            "75%                       NaN      NaN      NaN              0.000000   \n",
            "max                       NaN      NaN      NaN              6.000000   \n",
            "\n",
            "        studied_credits disability final_result  \n",
            "count      32593.000000      32593        32593  \n",
            "unique              NaN          2            4  \n",
            "top                 NaN          N         Pass  \n",
            "freq                NaN      29429        12361  \n",
            "mean          79.758691        NaN          NaN  \n",
            "std           41.071900        NaN          NaN  \n",
            "min           30.000000        NaN          NaN  \n",
            "25%           60.000000        NaN          NaN  \n",
            "50%           60.000000        NaN          NaN  \n",
            "75%          120.000000        NaN          NaN  \n",
            "max          655.000000        NaN          NaN  \n"
          ]
        }
      ]
    },
    {
      "cell_type": "code",
      "source": [
        "# Check missing values\n",
        "print(\"Missing Values:\")\n",
        "print(student_info.isnull().sum())\n",
        "\n"
      ],
      "metadata": {
        "colab": {
          "base_uri": "https://localhost:8080/"
        },
        "id": "Em8zbMlTgQcG",
        "outputId": "58fc8a51-6555-46fd-e935-31937618d304"
      },
      "execution_count": null,
      "outputs": [
        {
          "output_type": "stream",
          "name": "stdout",
          "text": [
            "Missing Values:\n",
            "code_module                0\n",
            "code_presentation          0\n",
            "id_student                 0\n",
            "gender                     0\n",
            "region                     0\n",
            "highest_education          0\n",
            "imd_band                1111\n",
            "age_band                   0\n",
            "num_of_prev_attempts       0\n",
            "studied_credits            0\n",
            "disability                 0\n",
            "final_result               0\n",
            "dtype: int64\n"
          ]
        }
      ]
    },
    {
      "cell_type": "code",
      "source": [
        "#MISSING VALUE HANDLING\n",
        "# Fill missing values in 'imd_band' with mode\n",
        "student_info['imd_band'].fillna(student_info['imd_band'].mode()[0], inplace=True)\n",
        "\n",
        "# Verify that no missing values remain\n",
        "print(\"Missing Values After Fixing:\")\n",
        "print(student_info.isnull().sum())  # Should print all zeros"
      ],
      "metadata": {
        "colab": {
          "base_uri": "https://localhost:8080/"
        },
        "id": "hBQSd-BajnwC",
        "outputId": "fe15e10d-aec2-4955-853c-0de8abd724bb"
      },
      "execution_count": null,
      "outputs": [
        {
          "output_type": "stream",
          "name": "stdout",
          "text": [
            "Missing Values After Fixing:\n",
            "code_module             0\n",
            "code_presentation       0\n",
            "id_student              0\n",
            "gender                  0\n",
            "region                  0\n",
            "highest_education       0\n",
            "imd_band                0\n",
            "age_band                0\n",
            "num_of_prev_attempts    0\n",
            "studied_credits         0\n",
            "disability              0\n",
            "final_result            0\n",
            "dtype: int64\n"
          ]
        },
        {
          "output_type": "stream",
          "name": "stderr",
          "text": [
            "<ipython-input-45-04692c5ca391>:3: FutureWarning: A value is trying to be set on a copy of a DataFrame or Series through chained assignment using an inplace method.\n",
            "The behavior will change in pandas 3.0. This inplace method will never work because the intermediate object on which we are setting values always behaves as a copy.\n",
            "\n",
            "For example, when doing 'df[col].method(value, inplace=True)', try using 'df.method({col: value}, inplace=True)' or df[col] = df[col].method(value) instead, to perform the operation inplace on the original object.\n",
            "\n",
            "\n",
            "  student_info['imd_band'].fillna(student_info['imd_band'].mode()[0], inplace=True)\n"
          ]
        }
      ]
    },
    {
      "cell_type": "code",
      "source": [
        "#MISSING VALS FILLED\n",
        "#ENCODING CATEGORICAL COLUMNS"
      ],
      "metadata": {
        "id": "eOhGbAzCk7Y1"
      },
      "execution_count": null,
      "outputs": []
    },
    {
      "cell_type": "markdown",
      "source": [
        "Now, we need to convert categorical columns into numeric values, as machine learning models require numerical inputs.\n",
        "\n",
        "\n",
        "From our dataset, these columns are categorical:\n",
        "gender\n",
        "\n",
        "region\n",
        "\n",
        "highest_education\n",
        "\n",
        "imd_band\n",
        "\n",
        "age_band\n",
        "\n",
        "disability\n",
        "\n",
        "final_result"
      ],
      "metadata": {
        "id": "GBWTT7idlA43"
      }
    },
    {
      "cell_type": "code",
      "source": [
        "# List of categorical columns\n",
        "categorical_cols = ['gender', 'region', 'highest_education', 'imd_band', 'age_band', 'disability', 'final_result']\n",
        "\n",
        "# Apply Label Encoding\n",
        "encoder = LabelEncoder()\n",
        "for col in categorical_cols:\n",
        "    student_info[col] = encoder.fit_transform(student_info[col])\n",
        "\n",
        "# Verification\n",
        "print(student_info.head())"
      ],
      "metadata": {
        "colab": {
          "base_uri": "https://localhost:8080/"
        },
        "id": "iOX-bv0ZgQnO",
        "outputId": "97d6dbd7-c7f8-4e03-a3cf-00c4f3bde039"
      },
      "execution_count": null,
      "outputs": [
        {
          "output_type": "stream",
          "name": "stdout",
          "text": [
            "  code_module code_presentation  id_student  gender  region  \\\n",
            "0         AAA             2013J       11391       1       0   \n",
            "1         AAA             2013J       28400       0       6   \n",
            "2         AAA             2013J       30268       0       5   \n",
            "3         AAA             2013J       31604       0       7   \n",
            "4         AAA             2013J       32885       0      11   \n",
            "\n",
            "   highest_education  imd_band  age_band  num_of_prev_attempts  \\\n",
            "0                  1         9         2                     0   \n",
            "1                  1         2         1                     0   \n",
            "2                  0         3         1                     0   \n",
            "3                  0         5         1                     0   \n",
            "4                  2         5         0                     0   \n",
            "\n",
            "   studied_credits  disability  final_result  \n",
            "0              240           0             2  \n",
            "1               60           0             2  \n",
            "2               60           1             3  \n",
            "3               60           0             2  \n",
            "4               60           0             2  \n"
          ]
        }
      ]
    },
    {
      "cell_type": "markdown",
      "source": [
        "#MAPPINGS\n"
      ],
      "metadata": {
        "id": "b220EyyRlKBS"
      }
    },
    {
      "cell_type": "code",
      "source": [
        "# Gender Distribution\n",
        "plt.figure(figsize=(6, 4))\n",
        "sns.countplot(data=student_info, x=\"gender\", palette=\"coolwarm\")\n",
        "plt.title(\"Gender Distribution\")\n",
        "plt.xlabel(\"Gender (0=Female, 1=Male)\")\n",
        "plt.ylabel(\"Count\")\n",
        "plt.show()\n",
        "\n",
        "# Region Distribution\n",
        "plt.figure(figsize=(12, 5))\n",
        "sns.countplot(y=student_info[\"region\"], order=student_info[\"region\"].value_counts().index, palette=\"viridis\")\n",
        "plt.title(\"Student Distribution by Region\")\n",
        "plt.xlabel(\"Count\")\n",
        "plt.ylabel(\"Region (Encoded)\")\n",
        "plt.show()\n",
        "\n",
        "# Final Result Distribution\n",
        "plt.figure(figsize=(8, 5))\n",
        "sns.countplot(data=student_info, x=\"final_result\", palette=\"pastel\")\n",
        "plt.title(\"Final Result Distribution\")\n",
        "plt.xlabel(\"Final Result (Encoded)\")\n",
        "plt.ylabel(\"Count\")\n",
        "plt.show()\n",
        "\n"
      ],
      "metadata": {
        "colab": {
          "base_uri": "https://localhost:8080/",
          "height": 1000
        },
        "id": "HzuMgVXzgQnj",
        "outputId": "38ee4218-efd2-4cbc-ad08-c796975c4fe1"
      },
      "execution_count": null,
      "outputs": [
        {
          "output_type": "stream",
          "name": "stderr",
          "text": [
            "<ipython-input-47-d3314286ff16>:3: FutureWarning: \n",
            "\n",
            "Passing `palette` without assigning `hue` is deprecated and will be removed in v0.14.0. Assign the `x` variable to `hue` and set `legend=False` for the same effect.\n",
            "\n",
            "  sns.countplot(data=student_info, x=\"gender\", palette=\"coolwarm\")\n"
          ]
        },
        {
          "output_type": "display_data",
          "data": {
            "text/plain": [
              "<Figure size 600x400 with 1 Axes>"
            ],
            "image/png": "[encoded data removed]"
          },
          "metadata": {}
        },
        {
          "output_type": "stream",
          "name": "stderr",
          "text": [
            "<ipython-input-47-d3314286ff16>:11: FutureWarning: \n",
            "\n",
            "Passing `palette` without assigning `hue` is deprecated and will be removed in v0.14.0. Assign the `y` variable to `hue` and set `legend=False` for the same effect.\n",
            "\n",
            "  sns.countplot(y=student_info[\"region\"], order=student_info[\"region\"].value_counts().index, palette=\"viridis\")\n"
          ]
        },
        {
          "output_type": "display_data",
          "data": {
            "text/plain": [
              "<Figure size 1200x500 with 1 Axes>"
            ],
            "image/png": "[encoded data removed]"
          },
          "metadata": {}
        },
        {
          "output_type": "stream",
          "name": "stderr",
          "text": [
            "<ipython-input-47-d3314286ff16>:19: FutureWarning: \n",
            "\n",
            "Passing `palette` without assigning `hue` is deprecated and will be removed in v0.14.0. Assign the `x` variable to `hue` and set `legend=False` for the same effect.\n",
            "\n",
            "  sns.countplot(data=student_info, x=\"final_result\", palette=\"pastel\")\n"
          ]
        },
        {
          "output_type": "display_data",
          "data": {
            "text/plain": [
              "<Figure size 800x500 with 1 Axes>"
            ],
            "image/png": "[encoded data removed]"
          },
          "metadata": {}
        }
      ]
    },
    {
      "cell_type": "code",
      "source": [
        "# Select only numeric columns for correlation\n",
        "numeric_df = student_info.select_dtypes(include=['number'])\n",
        "\n",
        "# Plot heatmap\n",
        "plt.figure(figsize=(10, 6))\n",
        "sns.heatmap(numeric_df.corr(), annot=True, cmap=\"coolwarm\", fmt=\".2f\", linewidths=0.5)\n",
        "plt.title(\"Feature Correlation Heatmap\")\n",
        "plt.show()"
      ],
      "metadata": {
        "colab": {
          "base_uri": "https://localhost:8080/",
          "height": 690
        },
        "id": "XZj-NCYGgQn2",
        "outputId": "67d55b68-6469-4dc8-efad-1415781d6a42"
      },
      "execution_count": null,
      "outputs": [
        {
          "output_type": "display_data",
          "data": {
            "text/plain": [
              "<Figure size 1000x600 with 2 Axes>"
            ],
            "image/png": "[encoded data removed]"
          },
          "metadata": {}
        }
      ]
    },
    {
      "cell_type": "markdown",
      "source": [
        "#INFERENCES\n",
        "1. Gender Distribution Graph\n",
        "\n",
        "More male students than female students in this dataset-Noticeable difference\n",
        "\n",
        "Potential Bias: Since AI models learn from data, if most students in the dataset are male, the recommendation system may be more optimized for males than females.\n",
        "\n",
        "If female students are underrepresented, the AI might recommend fewer resources or different learning paths for them.\n",
        "\n",
        "\n",
        "2. Student Distribution by Region\n",
        "\n",
        "Some regions have significantly higher student enrollment than others.\n",
        "A few regions have very low representation in the dataset.\n",
        "\n",
        "The AI system may make better recommendations for students from highly represented regions because it has more training data on them.\n",
        "\n",
        "Students from underrepresented regions might receive less personalized or less effective recommendations compared to those from dominant regions.\n",
        "\n",
        "Socioeconomic Influence: If the regions with low representation are from areas with limited internet access or economic barriers, the AI could be unintentionally favoring students from well-resourced locations\n",
        "\n",
        "\n",
        "3. Final Result Distribution\n",
        "\n",
        "\n",
        "Most students Pass or get Distinction, but some fail or withdraw.\n",
        "The number of students who fail or withdraw is noticeably lower than those who pass.\n",
        "\n",
        "Dropout Patterns: There may be specific reasons why some students withdraw—potentially related to bias in course recommendations.\n",
        "\n",
        "AI Recommendation bias: If the AI prioritizes high-performing students for advanced courses but doesn’t provide enough support for struggling students, it could reinforce educational inequalities.\n",
        "\n",
        "If the AI mainly learns from students who pass, it might not effectively recommend remedial courses for struggling students, causing a cycle where underperforming students keep receiving less help.\n",
        "\n",
        "\n",
        "4. Correlation Heatmap\n",
        "\n",
        "If gender doesn’t strongly correlate with results, AI models should not be making biased predictions based on gender. But if the recommendation system is still showing gender disparity, bias might exist in hidden ways.\n",
        "\n",
        "Educational Policy Insight: More credits studied = higher chance of passing. Universities might want to offer more credits to struggling students rather than letting them withdraw.\n",
        "\n",
        "\n",
        "Since previous attempts slightly correlate with success, AI should not penalize students who retake courses—instead, it should provide supportive learning recommendations.\n",
        "\n",
        "\n",
        "OVERALL:\n",
        "\n",
        "If AI systems favor majority groups (males, dominant regions), students from underrepresented groups may get fewer learning opportunities.\n",
        "\n",
        "Even though gender doesn’t correlate highly with success, AI models may still show bias in who gets recommended which courses.\n",
        "\n",
        "Even if AI isn’t considering previous attempts or region-based challenges, it could widen the education gap rather than fixing it."
      ],
      "metadata": {
        "id": "vM7PvmsAlX4D"
      }
    },
    {
      "cell_type": "code",
      "source": [
        "\n",
        "\n",
        "# Check unique values before binarization FOR CONFIRMATION\n",
        "print(\"Unique values in final_result before fixing:\", original_student_info['final_result'].unique())\n",
        "\n",
        "# Map categorical final_result to binary values\n",
        "final_result_mapping = {\n",
        "    'Pass': 1,\n",
        "    'Distinction': 1,\n",
        "    'Fail': 0,\n",
        "    'Withdrawn': 0\n",
        "}\n",
        "# Apply mapping\n",
        "student_info['final_result'] = original_student_info['final_result'].map(final_result_mapping)\n",
        "\n",
        "# Verify unique values\n",
        "print(\"Unique values in final_result after fixing:\", student_info['final_result'].unique())"
      ],
      "metadata": {
        "colab": {
          "base_uri": "https://localhost:8080/"
        },
        "id": "1LrOjMbYgQoK",
        "outputId": "1dd4781d-8d84-4bca-d022-cf84150cf0d6"
      },
      "execution_count": null,
      "outputs": [
        {
          "output_type": "stream",
          "name": "stdout",
          "text": [
            "Unique values in final_result before fixing: ['Pass' 'Withdrawn' 'Fail' 'Distinction']\n",
            "Unique values in final_result after fixing: [1 0]\n"
          ]
        }
      ]
    },
    {
      "cell_type": "markdown",
      "source": [
        "#UPTIL NOW I DID DATA-BASED ANALYSIS AND DETECTED POSSIBLEBIAS\n",
        "\n",
        "\n",
        "#NOW WE MOVE TO BIAS DETECTION (STATISTICAL)\n"
      ],
      "metadata": {
        "id": "SuXVgIeKlqpT"
      }
    },
    {
      "cell_type": "code",
      "source": [],
      "metadata": {
        "id": "Sx0iWvAHlrx7"
      },
      "execution_count": null,
      "outputs": []
    },
    {
      "cell_type": "code",
      "source": [
        "#GENDER BASED BIAS DETECTION\n",
        "# Select only the necessary columns for bias detection\n",
        "selected_columns = ['gender', 'final_result']  # Keep only relevant numeric columns\n",
        "student_info_numeric = student_info[selected_columns].copy()\n",
        "\n",
        "# Convert dataset into AIF360 format\n",
        "dataset = BinaryLabelDataset(df=student_info_numeric, label_names=['final_result'], protected_attribute_names=['gender'])\n",
        "\n",
        "# Define privileged and unprivileged groups (Males=1, Females=0)\n",
        "metric = BinaryLabelDatasetMetric(dataset, privileged_groups=[{'gender': 1}], unprivileged_groups=[{'gender': 0}])\n",
        "\n",
        "# Compute fairness metrics\n",
        "print(\" Disparate Impact (Gender Bias):\", metric.disparate_impact())  # <1 means bias against unprivileged group\n",
        "print(\" Statistical Parity Difference (Gender Bias):\", metric.statistical_parity_difference())  # Should be close to 0"
      ],
      "metadata": {
        "colab": {
          "base_uri": "https://localhost:8080/"
        },
        "id": "aRrxBuhChkFx",
        "outputId": "5014d90b-5c28-4fd7-d1f5-fef3eaa5e627"
      },
      "execution_count": null,
      "outputs": [
        {
          "output_type": "stream",
          "name": "stdout",
          "text": [
            " Disparate Impact (Gender Bias): 1.0487118667512545\n",
            " Statistical Parity Difference (Gender Bias): 0.022498750875432516\n"
          ]
        }
      ]
    },
    {
      "cell_type": "markdown",
      "source": [
        "# FOR REFERENCE : HOW TO ANALYSE?\n",
        "\n",
        "Here’s how to interpret your results:\n",
        "\n",
        "\t1.\tDisparate Impact = 1.048\n",
        "\t•\tIdeal value: 1.0 (no bias).\n",
        "\t•\tYour value (1.051) is very close to 1, meaning there is minimal bias in favor of the privileged group (males).\n",
        "\n",
        "\t2.\tStatistical Parity Difference = 0.022\n",
        "\t•\tIdeal value: 0 (equal recommendations for both groups).\n",
        "\t•\tYour value (0.0189) is very small, suggesting that both groups are getting nearly equal recommendations.\n",
        "\n",
        "Inferecne:\n",
        "\n",
        "1.No major bias detected in gender-based course recommendations or final outcomes.\n",
        "2.AI is not showing significant discrimination between males and females.\n",
        "\n",
        "\n",
        "for future reference: Bias Mitigation may not be necessary unless we want to refine fairness even further."
      ],
      "metadata": {
        "id": "-YW_-IAil0UB"
      }
    },
    {
      "cell_type": "code",
      "source": [
        "#BIAS BASED ON REGION\n",
        "\n",
        "# Select only necessary columns (Region & Final Result)\n",
        "selected_columns = ['region', 'final_result']\n",
        "student_info_numeric = student_info[selected_columns].copy()\n",
        "\n",
        "# Convert dataset into AIF360 format\n",
        "dataset = BinaryLabelDataset(df=student_info_numeric, label_names=['final_result'], protected_attribute_names=['region'])\n",
        "\n",
        "# Define privileged and unprivileged groups\n",
        "# Let's assume the most common region is the privileged group\n",
        "most_common_region = student_info['region'].mode()[0]\n",
        "privileged_group = [{'region': most_common_region}]\n",
        "unprivileged_group = [{'region': region} for region in student_info['region'].unique() if region != most_common_region]\n",
        "\n",
        "# Compute fairness metrics\n",
        "metric = BinaryLabelDatasetMetric(dataset, privileged_groups=privileged_group, unprivileged_groups=unprivileged_group)\n",
        "\n",
        "print(\"Disparate Impact (Region Bias):\", metric.disparate_impact())  # <1 means bias against unprivileged group\n",
        "print(\"Statistical Parity Difference (Region Bias):\", metric.statistical_parity_difference())  # Should be close to 0"
      ],
      "metadata": {
        "colab": {
          "base_uri": "https://localhost:8080/"
        },
        "id": "J917JoHvgvK4",
        "outputId": "c95928de-25a3-4a34-b251-129898b88dbd"
      },
      "execution_count": null,
      "outputs": [
        {
          "output_type": "stream",
          "name": "stdout",
          "text": [
            "Disparate Impact (Region Bias): 0.959982887470496\n",
            "Statistical Parity Difference (Region Bias): -0.01959050169392723\n"
          ]
        }
      ]
    },
    {
      "cell_type": "markdown",
      "source": [
        "Some bias is seen.\n",
        "\n",
        "Disparate Impact = 0.9599\n",
        "\n",
        "A 0.9599 Disparate Impact means that students from the most common (privileged) region have slightly better outcomes (4%) than students from the least represented region. While this is not extreme, it does suggest that there may be regional disparities in educational success and AI-driven recommendations.\n",
        "\n",
        "Statistical Parity Difference = -0.0196\n",
        "\n",
        "A -0.0196 Statistical Parity Difference indicates that students from underrepresented regions experience slightly lower positive outcomes than students from the most represented region. However, the difference is small, meaning the AI system is not strongly regionally skewed, but minor disparities exist.\n",
        "\n",
        "#There is a slight bias favoring students from highly represented regions.\n",
        "\n",
        "#AI-driven recommendations may be regionally skewed, though the effect is minimal.\n",
        "\n"
      ],
      "metadata": {
        "id": "AfEn4JwTmo5K"
      }
    },
    {
      "cell_type": "code",
      "source": [],
      "metadata": {
        "id": "qrRY4fOsyIpC"
      },
      "execution_count": null,
      "outputs": []
    },
    {
      "cell_type": "code",
      "source": [
        "#BIAS BASED ON EDUCATION\n",
        "# Select only necessary columns (Education Level & Final Result)\n",
        "selected_columns = ['highest_education', 'final_result']\n",
        "student_info_numeric = student_info[selected_columns].copy()\n",
        "\n",
        "# Convert dataset into AIF360 format\n",
        "dataset = BinaryLabelDataset(df=student_info_numeric, label_names=['final_result'], protected_attribute_names=['highest_education'])\n",
        "\n",
        "# Define privileged and unprivileged groups\n",
        "# Assume the most common education level is privileged\n",
        "most_common_education = student_info['highest_education'].mode()[0]\n",
        "privileged_group = [{'highest_education': most_common_education}]\n",
        "unprivileged_group = [{'highest_education': edu} for edu in student_info['highest_education'].unique() if edu != most_common_education]\n",
        "\n",
        "# Compute fairness metrics\n",
        "metric = BinaryLabelDatasetMetric(dataset, privileged_groups=privileged_group, unprivileged_groups=unprivileged_group)\n",
        "\n",
        "print(\"Disparate Impact (Education Bias):\", metric.disparate_impact())  # <1 means bias against unprivileged group\n",
        "print(\"Statistical Parity Difference (Education Bias):\", metric.statistical_parity_difference())  # Should be close to 0"
      ],
      "metadata": {
        "colab": {
          "base_uri": "https://localhost:8080/"
        },
        "id": "1viw83LMmoVM",
        "outputId": "93790ffa-5e3a-4da7-f040-9aef53665ad0"
      },
      "execution_count": null,
      "outputs": [
        {
          "output_type": "stream",
          "name": "stdout",
          "text": [
            "Disparate Impact (Education Bias): 0.8369050732317894\n",
            "Statistical Parity Difference (Education Bias): -0.0848627785562181\n"
          ]
        }
      ]
    },
    {
      "cell_type": "markdown",
      "source": [
        "#There is clear bias based on education level in the dataset.\n",
        "\n",
        "Disparate Impact = 0.8369\n",
        "\n",
        "A 0.8369 Disparate Impact indicates that students with lower education levels have 16.3% worse outcomes compared to students with the most common (privileged) education level. This suggests that prior education background plays a role in how AI-driven recommendations or learning success rates are distributed.\n",
        "\n",
        "Statistical Parity Difference = -0.0849\n",
        "\n",
        "A -0.0849 Statistical Parity Difference means that students with lower education levels receive 8.5% fewer positive outcomes than students with the highest education background. This is a noticeable gap, which suggests that students with less prior education may be at a disadvantage in AI-driven learning recommendations.\n",
        "\n",
        "So,\n",
        "\n",
        "AI-based recommendations may assume that students with lower education will perform worse, leading to fewer positive recommendations or support.\n",
        "\n",
        "Bias mitigation is required to ensure fair opportunities for students regardless of their education background."
      ],
      "metadata": {
        "id": "NnD6AUmzn6D-"
      }
    },
    {
      "cell_type": "code",
      "source": [],
      "metadata": {
        "id": "ndVseC1CyJoB"
      },
      "execution_count": null,
      "outputs": []
    },
    {
      "cell_type": "code",
      "source": [
        "#DISABILITY BIAS\n",
        "# Select only necessary columns (Disability & Final Result)\n",
        "selected_columns = ['disability', 'final_result']\n",
        "student_info_numeric = student_info[selected_columns].copy()\n",
        "\n",
        "# Convert dataset into AIF360 format\n",
        "dataset = BinaryLabelDataset(df=student_info_numeric, label_names=['final_result'], protected_attribute_names=['disability'])\n",
        "\n",
        "# Define privileged and unprivileged groups\n",
        "# Assume 'No disability' is the privileged group (most common case)\n",
        "privileged_group = [{'disability': 0}]\n",
        "unprivileged_group = [{'disability': 1}]  # Students with disabilities\n",
        "\n",
        "# Compute fairness metrics\n",
        "metric = BinaryLabelDatasetMetric(dataset, privileged_groups=privileged_group, unprivileged_groups=unprivileged_group)\n",
        "\n",
        "print(\"Disparate Impact (Disability Bias):\", metric.disparate_impact())  # <1 means bias against students with disabilities\n",
        "print(\"Statistical Parity Difference (Disability Bias):\", metric.statistical_parity_difference())  # Should be close to 0"
      ],
      "metadata": {
        "colab": {
          "base_uri": "https://localhost:8080/"
        },
        "id": "g8mixNrVoSrZ",
        "outputId": "df306063-1f73-4c37-f411-f122c68d63c6"
      },
      "execution_count": null,
      "outputs": [
        {
          "output_type": "stream",
          "name": "stdout",
          "text": [
            "Disparate Impact (Disability Bias): 0.7918288630789426\n",
            "Statistical Parity Difference (Disability Bias): -0.1002905426370842\n"
          ]
        }
      ]
    },
    {
      "cell_type": "markdown",
      "source": [
        "There is strong bias against students with disabilities in the dataset, suggesting they may face disadvantages in AI-driven recommendations or learning success rates.\n",
        "\n",
        "Disparate Impact = 0.7918\n",
        "\n",
        "A 0.7918 Disparate Impact means that students with disabilities have a 20.8% lower success rate compared to students without disabilities. This indicates that AI-driven recommendations and educational outcomes may be less favorable for students with disabilities, potentially limiting their learning opportunities.\n",
        "\n",
        "Statistical Parity Difference = -0.1003\n",
        "\n",
        "A -0.1003 Statistical Parity Difference means that students with disabilities receive 10% fewer positive outcomes compared to students without disabilities.\n",
        "\n",
        "#students with disabilities are underrepresented in successful learning outcomes.\n"
      ],
      "metadata": {
        "id": "y4BKuyp0xC8z"
      }
    },
    {
      "cell_type": "code",
      "source": [
        "#AGE BIAS\n",
        "# Select only necessary columns (Age Band & Final Result)\n",
        "selected_columns = ['age_band', 'final_result']\n",
        "student_info_numeric = student_info[selected_columns].copy()\n",
        "\n",
        "# Convert dataset into AIF360 format\n",
        "dataset = BinaryLabelDataset(df=student_info_numeric, label_names=['final_result'], protected_attribute_names=['age_band'])\n",
        "\n",
        "# Define privileged and unprivileged groups\n",
        "# Assume the most common age group is the privileged group\n",
        "most_common_age_band = student_info['age_band'].mode()[0]\n",
        "privileged_group = [{'age_band': most_common_age_band}]\n",
        "unprivileged_group = [{'age_band': age} for age in student_info['age_band'].unique() if age != most_common_age_band]\n",
        "\n",
        "# Compute fairness metrics\n",
        "metric = BinaryLabelDatasetMetric(dataset, privileged_groups=privileged_group, unprivileged_groups=unprivileged_group)\n",
        "\n",
        "print(\"Disparate Impact (Age Bias):\", metric.disparate_impact())  # <1 means bias against certain age groups\n",
        "print(\"Statistical Parity Difference (Age Bias):\", metric.statistical_parity_difference())  # Should be close to 0"
      ],
      "metadata": {
        "colab": {
          "base_uri": "https://localhost:8080/"
        },
        "id": "t_Dvj9t4ojUg",
        "outputId": "3e64eb36-3056-4ff5-eb1f-5e40beea8a09"
      },
      "execution_count": null,
      "outputs": [
        {
          "output_type": "stream",
          "name": "stdout",
          "text": [
            "Disparate Impact (Age Bias): 1.1629250574370629\n",
            "Statistical Parity Difference (Age Bias): 0.0733674029567527\n"
          ]
        }
      ]
    },
    {
      "cell_type": "markdown",
      "source": [
        "Some bias based on age groups in the dataset, favoring students from the most common age group.\n",
        "\n",
        "Disparate Impact = 1.1629\n",
        "\n",
        "A 1.1629 Disparate Impact means that students from the dominant age group have a 16.3% better success rate compared to students from other age groups. This suggests that certain age groups (likely younger or older students) are at a disadvantage .\n",
        "\n",
        "Statistical Parity Difference = 0.0734\n",
        "\n",
        "A 0.0734 Statistical Parity Difference indicates that students from less represented age groups receive 7.3% fewer positive outcomes compared to the most common age group. While not extreme, it confirms that AI-driven educational recommendations or course success rates may be slightly age-biased.\n",
        "\n",
        "#There is a bias favoring students from the most common age group."
      ],
      "metadata": {
        "id": "bYjflnOXxvwb"
      }
    },
    {
      "cell_type": "code",
      "source": [],
      "metadata": {
        "id": "F1cvZYpEyKh5"
      },
      "execution_count": null,
      "outputs": []
    },
    {
      "cell_type": "markdown",
      "source": [
        "#LETS CHECK INTERSECTIONAL BIAS\n",
        "Why is it needed?\n"
      ],
      "metadata": {
        "id": "x53qHcEozS6h"
      }
    },
    {
      "cell_type": "code",
      "source": [
        "#gender+disability bias"
      ],
      "metadata": {
        "id": "FPt_KaOd5EM0"
      },
      "execution_count": null,
      "outputs": []
    },
    {
      "cell_type": "code",
      "source": [
        "# Print unique values in gender_disability\n",
        "print(\"\\n Unique Gender + Disability Groups:\", student_info['gender_disability'].unique())\n",
        "\n",
        "# Print most common group\n",
        "most_common_group = student_info['gender_disability'].mode()[0]\n",
        "print(\"\\n Most Common Group (Privileged):\", most_common_group)\n",
        "\n",
        "# Print all groups considered unprivileged\n",
        "unprivileged_groups = [group for group in student_info['gender_disability'].unique() if group != most_common_group]\n",
        "print(\"\\n Unprivileged Groups:\", unprivileged_groups)"
      ],
      "metadata": {
        "colab": {
          "base_uri": "https://localhost:8080/"
        },
        "id": "mGwCen-_1x8z",
        "outputId": "a65ef71a-ded1-435e-c62e-c041e41614d8"
      },
      "execution_count": null,
      "outputs": [
        {
          "output_type": "stream",
          "name": "stdout",
          "text": [
            "\n",
            " Unique Gender + Disability Groups: [2 0 1 3]\n",
            "\n",
            " Most Common Group (Privileged): 2\n",
            "\n",
            " Unprivileged Groups: [np.int8(0), np.int8(1), np.int8(3)]\n"
          ]
        }
      ]
    },
    {
      "cell_type": "code",
      "source": [],
      "metadata": {
        "id": "_BBqkdxf4ziM"
      },
      "execution_count": null,
      "outputs": []
    },
    {
      "cell_type": "code",
      "source": [
        "# Convert gender_disability to category (already done, but ensuring it's numeric internally)\n",
        "student_info['gender_disability'] = student_info['gender_disability'].cat.codes\n",
        "\n",
        "#verify chngs\n",
        "print(student_info[['gender_disability', 'final_result']].dtypes)\n",
        "print(\"\\nUnique Values After Encoding:\", student_info['gender_disability'].unique())\n"
      ],
      "metadata": {
        "colab": {
          "base_uri": "https://localhost:8080/",
          "height": 365
        },
        "id": "s4GuEktK1x-4",
        "outputId": "67cf176b-c228-4fb0-e297-2b3c8c144c0f"
      },
      "execution_count": null,
      "outputs": [
        {
          "output_type": "error",
          "ename": "AttributeError",
          "evalue": "Can only use .cat accessor with a 'category' dtype",
          "traceback": [
            "\u001b[0;31m---------------------------------------------------------------------------\u001b[0m",
            "\u001b[0;31mAttributeError\u001b[0m                            Traceback (most recent call last)",
            "\u001b[0;32m<ipython-input-86-ed637bbd266b>\u001b[0m in \u001b[0;36m<cell line: 0>\u001b[0;34m()\u001b[0m\n\u001b[1;32m      1\u001b[0m \u001b[0;31m# Convert gender_disability to category (already done, but ensuring it's numeric internally)\u001b[0m\u001b[0;34m\u001b[0m\u001b[0;34m\u001b[0m\u001b[0m\n\u001b[0;32m----> 2\u001b[0;31m \u001b[0mstudent_info\u001b[0m\u001b[0;34m[\u001b[0m\u001b[0;34m'gender_disability'\u001b[0m\u001b[0;34m]\u001b[0m \u001b[0;34m=\u001b[0m \u001b[0mstudent_info\u001b[0m\u001b[0;34m[\u001b[0m\u001b[0;34m'gender_disability'\u001b[0m\u001b[0;34m]\u001b[0m\u001b[0;34m.\u001b[0m\u001b[0mcat\u001b[0m\u001b[0;34m.\u001b[0m\u001b[0mcodes\u001b[0m\u001b[0;34m\u001b[0m\u001b[0;34m\u001b[0m\u001b[0m\n\u001b[0m\u001b[1;32m      3\u001b[0m \u001b[0;34m\u001b[0m\u001b[0m\n\u001b[1;32m      4\u001b[0m \u001b[0;31m# Verify changes\u001b[0m\u001b[0;34m\u001b[0m\u001b[0;34m\u001b[0m\u001b[0m\n\u001b[1;32m      5\u001b[0m \u001b[0mprint\u001b[0m\u001b[0;34m(\u001b[0m\u001b[0;34m\"\\n🔹 Data Types After Encoding Fix 🔹\"\u001b[0m\u001b[0;34m)\u001b[0m\u001b[0;34m\u001b[0m\u001b[0;34m\u001b[0m\u001b[0m\n",
            "\u001b[0;32m/usr/local/lib/python3.11/dist-packages/pandas/core/generic.py\u001b[0m in \u001b[0;36m__getattr__\u001b[0;34m(self, name)\u001b[0m\n\u001b[1;32m   6297\u001b[0m         ):\n\u001b[1;32m   6298\u001b[0m             \u001b[0;32mreturn\u001b[0m \u001b[0mself\u001b[0m\u001b[0;34m[\u001b[0m\u001b[0mname\u001b[0m\u001b[0;34m]\u001b[0m\u001b[0;34m\u001b[0m\u001b[0;34m\u001b[0m\u001b[0m\n\u001b[0;32m-> 6299\u001b[0;31m         \u001b[0;32mreturn\u001b[0m \u001b[0mobject\u001b[0m\u001b[0;34m.\u001b[0m\u001b[0m__getattribute__\u001b[0m\u001b[0;34m(\u001b[0m\u001b[0mself\u001b[0m\u001b[0;34m,\u001b[0m \u001b[0mname\u001b[0m\u001b[0;34m)\u001b[0m\u001b[0;34m\u001b[0m\u001b[0;34m\u001b[0m\u001b[0m\n\u001b[0m\u001b[1;32m   6300\u001b[0m \u001b[0;34m\u001b[0m\u001b[0m\n\u001b[1;32m   6301\u001b[0m     \u001b[0;34m@\u001b[0m\u001b[0mfinal\u001b[0m\u001b[0;34m\u001b[0m\u001b[0;34m\u001b[0m\u001b[0m\n",
            "\u001b[0;32m/usr/local/lib/python3.11/dist-packages/pandas/core/accessor.py\u001b[0m in \u001b[0;36m__get__\u001b[0;34m(self, obj, cls)\u001b[0m\n\u001b[1;32m    222\u001b[0m             \u001b[0;31m# we're accessing the attribute of the class, i.e., Dataset.geo\u001b[0m\u001b[0;34m\u001b[0m\u001b[0;34m\u001b[0m\u001b[0m\n\u001b[1;32m    223\u001b[0m             \u001b[0;32mreturn\u001b[0m \u001b[0mself\u001b[0m\u001b[0;34m.\u001b[0m\u001b[0m_accessor\u001b[0m\u001b[0;34m\u001b[0m\u001b[0;34m\u001b[0m\u001b[0m\n\u001b[0;32m--> 224\u001b[0;31m         \u001b[0maccessor_obj\u001b[0m \u001b[0;34m=\u001b[0m \u001b[0mself\u001b[0m\u001b[0;34m.\u001b[0m\u001b[0m_accessor\u001b[0m\u001b[0;34m(\u001b[0m\u001b[0mobj\u001b[0m\u001b[0;34m)\u001b[0m\u001b[0;34m\u001b[0m\u001b[0;34m\u001b[0m\u001b[0m\n\u001b[0m\u001b[1;32m    225\u001b[0m         \u001b[0;31m# Replace the property with the accessor object. Inspired by:\u001b[0m\u001b[0;34m\u001b[0m\u001b[0;34m\u001b[0m\u001b[0m\n\u001b[1;32m    226\u001b[0m         \u001b[0;31m# https://www.pydanny.com/cached-property.html\u001b[0m\u001b[0;34m\u001b[0m\u001b[0;34m\u001b[0m\u001b[0m\n",
            "\u001b[0;32m/usr/local/lib/python3.11/dist-packages/pandas/core/arrays/categorical.py\u001b[0m in \u001b[0;36m__init__\u001b[0;34m(self, data)\u001b[0m\n\u001b[1;32m   2896\u001b[0m \u001b[0;34m\u001b[0m\u001b[0m\n\u001b[1;32m   2897\u001b[0m     \u001b[0;32mdef\u001b[0m \u001b[0m__init__\u001b[0m\u001b[0;34m(\u001b[0m\u001b[0mself\u001b[0m\u001b[0;34m,\u001b[0m \u001b[0mdata\u001b[0m\u001b[0;34m)\u001b[0m \u001b[0;34m->\u001b[0m \u001b[0;32mNone\u001b[0m\u001b[0;34m:\u001b[0m\u001b[0;34m\u001b[0m\u001b[0;34m\u001b[0m\u001b[0m\n\u001b[0;32m-> 2898\u001b[0;31m         \u001b[0mself\u001b[0m\u001b[0;34m.\u001b[0m\u001b[0m_validate\u001b[0m\u001b[0;34m(\u001b[0m\u001b[0mdata\u001b[0m\u001b[0;34m)\u001b[0m\u001b[0;34m\u001b[0m\u001b[0;34m\u001b[0m\u001b[0m\n\u001b[0m\u001b[1;32m   2899\u001b[0m         \u001b[0mself\u001b[0m\u001b[0;34m.\u001b[0m\u001b[0m_parent\u001b[0m \u001b[0;34m=\u001b[0m \u001b[0mdata\u001b[0m\u001b[0;34m.\u001b[0m\u001b[0mvalues\u001b[0m\u001b[0;34m\u001b[0m\u001b[0;34m\u001b[0m\u001b[0m\n\u001b[1;32m   2900\u001b[0m         \u001b[0mself\u001b[0m\u001b[0;34m.\u001b[0m\u001b[0m_index\u001b[0m \u001b[0;34m=\u001b[0m \u001b[0mdata\u001b[0m\u001b[0;34m.\u001b[0m\u001b[0mindex\u001b[0m\u001b[0;34m\u001b[0m\u001b[0;34m\u001b[0m\u001b[0m\n",
            "\u001b[0;32m/usr/local/lib/python3.11/dist-packages/pandas/core/arrays/categorical.py\u001b[0m in \u001b[0;36m_validate\u001b[0;34m(data)\u001b[0m\n\u001b[1;32m   2905\u001b[0m     \u001b[0;32mdef\u001b[0m \u001b[0m_validate\u001b[0m\u001b[0;34m(\u001b[0m\u001b[0mdata\u001b[0m\u001b[0;34m)\u001b[0m\u001b[0;34m:\u001b[0m\u001b[0;34m\u001b[0m\u001b[0;34m\u001b[0m\u001b[0m\n\u001b[1;32m   2906\u001b[0m         \u001b[0;32mif\u001b[0m \u001b[0;32mnot\u001b[0m \u001b[0misinstance\u001b[0m\u001b[0;34m(\u001b[0m\u001b[0mdata\u001b[0m\u001b[0;34m.\u001b[0m\u001b[0mdtype\u001b[0m\u001b[0;34m,\u001b[0m \u001b[0mCategoricalDtype\u001b[0m\u001b[0;34m)\u001b[0m\u001b[0;34m:\u001b[0m\u001b[0;34m\u001b[0m\u001b[0;34m\u001b[0m\u001b[0m\n\u001b[0;32m-> 2907\u001b[0;31m             \u001b[0;32mraise\u001b[0m \u001b[0mAttributeError\u001b[0m\u001b[0;34m(\u001b[0m\u001b[0;34m\"Can only use .cat accessor with a 'category' dtype\"\u001b[0m\u001b[0;34m)\u001b[0m\u001b[0;34m\u001b[0m\u001b[0;34m\u001b[0m\u001b[0m\n\u001b[0m\u001b[1;32m   2908\u001b[0m \u001b[0;34m\u001b[0m\u001b[0m\n\u001b[1;32m   2909\u001b[0m     \u001b[0;32mdef\u001b[0m \u001b[0m_delegate_property_get\u001b[0m\u001b[0;34m(\u001b[0m\u001b[0mself\u001b[0m\u001b[0;34m,\u001b[0m \u001b[0mname\u001b[0m\u001b[0;34m:\u001b[0m \u001b[0mstr\u001b[0m\u001b[0;34m)\u001b[0m\u001b[0;34m:\u001b[0m\u001b[0;34m\u001b[0m\u001b[0;34m\u001b[0m\u001b[0m\n",
            "\u001b[0;31mAttributeError\u001b[0m: Can only use .cat accessor with a 'category' dtype"
          ]
        }
      ]
    },
    {
      "cell_type": "code",
      "source": [
        "\n",
        "selected_columns = ['gender_disability', 'final_result']\n",
        "student_info_numeric = student_info[selected_columns].copy()\n",
        "\n",
        "# Convert dataset into AIF360 format\n",
        "dataset = BinaryLabelDataset(df=student_info_numeric,\n",
        "                             label_names=['final_result'],\n",
        "                             protected_attribute_names=['gender_disability'])\n",
        "\n",
        "# Define privileged and unprivileged groups\n",
        "privileged_group = [{'gender_disability': student_info['gender_disability'].mode()[0]}]  # Most common group\n",
        "unprivileged_group = [{'gender_disability': group} for group in student_info['gender_disability'].unique() if group != student_info['gender_disability'].mode()[0]]\n",
        "\n",
        "# Compute fairness metrics\n",
        "metric = BinaryLabelDatasetMetric(dataset, privileged_groups=privileged_group, unprivileged_groups=unprivileged_group)\n",
        "\n",
        "print(\"\\nDisparate Impact (Gender + Disability Bias):\", metric.disparate_impact())\n",
        "print(\"Statistical Parity Difference (Gender + Disability Bias):\", metric.statistical_parity_difference())"
      ],
      "metadata": {
        "colab": {
          "base_uri": "https://localhost:8080/"
        },
        "id": "NQgbaKpj40FU",
        "outputId": "b819be40-fed5-4661-c119-55bd7ce5ad74"
      },
      "execution_count": null,
      "outputs": [
        {
          "output_type": "stream",
          "name": "stdout",
          "text": [
            "\n",
            "🔹 Disparate Impact (Gender + Disability Bias): 0.997729493583063\n",
            "🔹 Statistical Parity Difference (Gender + Disability Bias): -0.0010729713768014015\n"
          ]
        }
      ]
    },
    {
      "cell_type": "code",
      "source": [],
      "metadata": {
        "id": "eIY6bBGx_z6Y"
      },
      "execution_count": null,
      "outputs": []
    },
    {
      "cell_type": "markdown",
      "source": [
        "Disparate Impact = 0.9977\n",
        "\n",
        "\n",
        "The AI system almost equally favors both privileged (male without disability) and unprivileged (all other groups) students in final results.\n",
        "\n",
        "Since 0.9977 is extremely close to 1, the AI system does not strongly favor or disadvantage students based on gender and disability.\n",
        "\n",
        "\n",
        "No meaningful disparity exists in success rates due to gender + disability.\n",
        "\n",
        "Any difference is statistically insignificant (less than 0.3% difference in outcomes).\n",
        "\n",
        "Statistical Parity Difference = -0.00107\n",
        "\n",
        "\n",
        "The negative value (-0.00107) suggests that unprivileged students (females and/or students with disabilities) receive slightly fewer positive outcomes than privileged students.\n",
        "\n",
        "However, this difference is extremely small (~0.1%), meaning it is not a strong bias.\n",
        "\n",
        "#No major bias"
      ],
      "metadata": {
        "id": "FLq7el6i_2-w"
      }
    },
    {
      "cell_type": "code",
      "source": [
        "# Convert region_education to categorical codes\n",
        "student_info['region_education'] = student_info['region_education'].astype('category').cat.codes\n",
        "\n",
        "# Verify changes\n",
        "print(\"\\nData Types After Fix:\")\n",
        "print(student_info[['region_education', 'final_result']].dtypes)\n",
        "\n",
        "print(\"\\nUnique Values in Region + Education After Encoding:\", student_info['region_education'].unique())"
      ],
      "metadata": {
        "colab": {
          "base_uri": "https://localhost:8080/"
        },
        "id": "YYs75XKHAkiI",
        "outputId": "13d2f66f-605a-4d0c-cd2e-df07c7aeba60"
      },
      "execution_count": null,
      "outputs": [
        {
          "output_type": "stream",
          "name": "stdout",
          "text": [
            "\n",
            "Data Types After Fix:\n",
            "region_education     int8\n",
            "final_result        int64\n",
            "dtype: object\n",
            "\n",
            "Unique Values in Region + Education After Encoding: [ 1 33 29 36  9  4  0 28 41  2 30 34  7 17 42 13  6 10 20 45 40 15 12 11\n",
            "  5 14 39 38 24 43 26 19 32 16 25 44 21 35 31 37  8 18  3 22 23 27]\n"
          ]
        }
      ]
    },
    {
      "cell_type": "code",
      "source": [
        "from aif360.datasets import BinaryLabelDataset\n",
        "from aif360.metrics import BinaryLabelDatasetMetric\n",
        "\n",
        "# Select only necessary columns\n",
        "selected_columns = ['region_education', 'final_result']\n",
        "student_info_numeric = student_info[selected_columns].copy()\n",
        "\n",
        "# Convert dataset into AIF360 format\n",
        "dataset = BinaryLabelDataset(df=student_info_numeric,\n",
        "                             label_names=['final_result'],\n",
        "                             protected_attribute_names=['region_education'])\n",
        "\n",
        "# Define privileged and unprivileged groups\n",
        "privileged_group = [{'region_education': student_info['region_education'].mode()[0]}]  # Most common group\n",
        "unprivileged_group = [{'region_education': group} for group in student_info['region_education'].unique() if group != student_info['region_education'].mode()[0]]\n",
        "\n",
        "# Compute fairness metrics\n",
        "metric = BinaryLabelDatasetMetric(dataset, privileged_groups=privileged_group, unprivileged_groups=unprivileged_group)\n",
        "\n",
        "print(\"\\nDisparate Impact (Region + Education Bias):\", metric.disparate_impact())\n",
        "print(\"Statistical Parity Difference (Region + Education Bias):\", metric.statistical_parity_difference())"
      ],
      "metadata": {
        "colab": {
          "base_uri": "https://localhost:8080/"
        },
        "id": "hxr1c7UAA1c6",
        "outputId": "b4e7e28c-08aa-41d4-f233-3cb890178f58"
      },
      "execution_count": null,
      "outputs": [
        {
          "output_type": "stream",
          "name": "stdout",
          "text": [
            "\n",
            "Disparate Impact (Region + Education Bias): 1.1936442660228468\n",
            "Statistical Parity Difference (Region + Education Bias): 0.07714068987540418\n"
          ]
        }
      ]
    },
    {
      "cell_type": "markdown",
      "source": [
        "1. Disparate Impact = 1.1936\n",
        "\n",
        "A value above 1 suggests that students from the most common region and highest education group have a 19.3% higher success rate compared to other groups.\n",
        "\n",
        "The AI system may be favoring students who come from specific regional and educational backgrounds.\n",
        "\n",
        "This indicates a noticeable bias favoring students from dominant regions and higher education levels.\n",
        "\n",
        "\n",
        "Students from less represented regions and lower education backgrounds are at a clear disadvantage in terms of final outcomes.\n",
        "\n",
        "The AI system might assume that students from certain regions and lower education levels are less likely to succeed, leading to biased course recommendations or fewer learning opportunities.\n",
        "\n",
        "\n",
        "2. Statistical Parity Difference = 0.0771\n",
        "\n",
        "A positive value means that students from the most common region and highest education background have a 7.7% higher chance of achieving positive outcomes (Pass/Distinction).\n",
        "\n",
        "\n",
        "While this difference is not extreme, it is significant enough to suggest a preference for students from privileged groups.\n",
        "\n",
        "There is a measurable gap in educational outcomes based on region and education level.\n",
        "\n",
        "The AI system is more favorable towards students who have higher prior education and come from certain regions, potentially limiting opportunities for students from underrepresented backgrounds.\n"
      ],
      "metadata": {
        "id": "LOGAC56qCkqG"
      }
    },
    {
      "cell_type": "code",
      "source": [
        "# Create intersectional feature for Age + Disability\n",
        "student_info['age_disability'] = student_info['age_band'].astype(str) + \"_\" + student_info['disability'].astype(str)\n",
        "\n",
        "# Verify unique values\n",
        "print(\"\\nUnique Values in Age + Disability Groups:\", student_info['age_disability'].unique())"
      ],
      "metadata": {
        "colab": {
          "base_uri": "https://localhost:8080/"
        },
        "id": "fY-_AvMBBTcO",
        "outputId": "8f25d03d-f3be-4f1b-d523-235e40c31f20"
      },
      "execution_count": null,
      "outputs": [
        {
          "output_type": "stream",
          "name": "stdout",
          "text": [
            "\n",
            "Unique Values in Age + Disability Groups: ['2_0' '1_0' '1_1' '0_0' '0_1']\n"
          ]
        }
      ]
    },
    {
      "cell_type": "code",
      "source": [
        "# Check distribution of final_result in each Age + Disability group\n",
        "group_counts = student_info.groupby('age_disability')['final_result'].value_counts().unstack(fill_value=0)\n",
        "\n",
        "print(\"\\nFinal Result Distribution for Age + Disability:\")\n",
        "print(group_counts)\n",
        "\n",
        "# Identify problematic groups (those with only 0s or 1s)\n",
        "small_groups = group_counts[(group_counts[0] == 0) | (group_counts[1] == 0)]\n",
        "print(\"\\nGroups with Missing 0s or 1s:\", small_groups)"
      ],
      "metadata": {
        "colab": {
          "base_uri": "https://localhost:8080/"
        },
        "id": "p9bDSn-bDWwk",
        "outputId": "8862cfb9-f5c6-4dfa-bb79-4b2a583fcc56"
      },
      "execution_count": null,
      "outputs": [
        {
          "output_type": "stream",
          "name": "stdout",
          "text": [
            "\n",
            "Final Result Distribution for Age + Disability:\n",
            "final_result        0     1\n",
            "age_disability             \n",
            "0_0             11185  9448\n",
            "0_1              1427   884\n",
            "1_0              3983  4597\n",
            "1_1               530   323\n",
            "2_0                83   133\n",
            "\n",
            "Groups with Missing 0s or 1s: Empty DataFrame\n",
            "Columns: [0, 1]\n",
            "Index: []\n"
          ]
        }
      ]
    },
    {
      "cell_type": "code",
      "source": [
        "# Set threshold for minimum group size (e.g., < 10 samples)\n",
        "threshold = 10\n",
        "rare_groups = group_counts[(group_counts[0] < threshold) | (group_counts[1] < threshold)].index\n",
        "\n",
        "# Replace rare groups with \"Other\"\n",
        "student_info['age_disability'] = student_info['age_disability'].replace(rare_groups, \"Other\")\n",
        "\n",
        "print(\"\\nUpdated Age + Disability Groups After Merging Small Groups:\")\n",
        "print(student_info['age_disability'].value_counts())"
      ],
      "metadata": {
        "colab": {
          "base_uri": "https://localhost:8080/"
        },
        "id": "KrFLPBrvDaTc",
        "outputId": "03f4739c-c5f9-4797-8edc-97129184541f"
      },
      "execution_count": null,
      "outputs": [
        {
          "output_type": "stream",
          "name": "stdout",
          "text": [
            "\n",
            "Updated Age + Disability Groups After Merging Small Groups:\n",
            "age_disability\n",
            "0_0    20633\n",
            "1_0     8580\n",
            "0_1     2311\n",
            "1_1      853\n",
            "2_0      216\n",
            "Name: count, dtype: int64\n"
          ]
        }
      ]
    },
    {
      "cell_type": "code",
      "source": [
        "# Convert age_disability to categorical codes\n",
        "student_info['age_disability'] = student_info['age_disability'].astype('category').cat.codes\n",
        "\n",
        "# Verify changes\n",
        "print(\"\\nData Types After Encoding Fix:\")\n",
        "print(student_info[['age_disability', 'final_result']].dtypes)\n",
        "\n",
        "print(\"\\nUnique Values in Age + Disability After Encoding:\", student_info['age_disability'].unique())"
      ],
      "metadata": {
        "colab": {
          "base_uri": "https://localhost:8080/"
        },
        "id": "GjiDQLtWDaia",
        "outputId": "b15676ca-3a22-4956-ae43-127b641f01c4"
      },
      "execution_count": null,
      "outputs": [
        {
          "output_type": "stream",
          "name": "stdout",
          "text": [
            "\n",
            "Data Types After Encoding Fix:\n",
            "age_disability     int8\n",
            "final_result      int64\n",
            "dtype: object\n",
            "\n",
            "Unique Values in Age + Disability After Encoding: [4 2 3 0 1]\n"
          ]
        }
      ]
    },
    {
      "cell_type": "code",
      "source": [
        "from aif360.datasets import BinaryLabelDataset\n",
        "from aif360.metrics import BinaryLabelDatasetMetric\n",
        "\n",
        "# Select necessary columns\n",
        "selected_columns = ['age_disability', 'final_result']\n",
        "student_info_numeric = student_info[selected_columns].copy()\n",
        "\n",
        "# Convert dataset into AIF360 format\n",
        "dataset = BinaryLabelDataset(df=student_info_numeric,\n",
        "                             label_names=['final_result'],\n",
        "                             protected_attribute_names=['age_disability'])\n",
        "\n",
        "# Define privileged and unprivileged groups\n",
        "privileged_group = [{'age_disability': student_info['age_disability'].mode()[0]}]  # Most common group\n",
        "unprivileged_group = [{'age_disability': group} for group in student_info['age_disability'].unique() if group != student_info['age_disability'].mode()[0]]\n",
        "\n",
        "# Compute fairness metrics\n",
        "metric = BinaryLabelDatasetMetric(dataset, privileged_groups=privileged_group, unprivileged_groups=unprivileged_group)\n",
        "\n",
        "print(\"\\nDisparate Impact (Age + Disability Bias):\", metric.disparate_impact())\n",
        "print(\"Statistical Parity Difference (Age + Disability Bias):\", metric.statistical_parity_difference())"
      ],
      "metadata": {
        "colab": {
          "base_uri": "https://localhost:8080/"
        },
        "id": "BLra4HQsDajB",
        "outputId": "5fd61673-32fb-4975-8b8f-c72af1a1fbbd"
      },
      "execution_count": null,
      "outputs": [
        {
          "output_type": "stream",
          "name": "stdout",
          "text": [
            "\n",
            "Disparate Impact (Age + Disability Bias): 1.0840725877820225\n",
            "Statistical Parity Difference (Age + Disability Bias): 0.03849744629305235\n"
          ]
        }
      ]
    },
    {
      "cell_type": "markdown",
      "source": [
        "1. Disparate Impact = 1.0840\n",
        "\n",
        "\n",
        "A value above 1 suggests that students from the most common age group without disabilities have an 8.4% higher success rate compared to other groups.\n",
        "\n",
        "The AI system appears to favor students who belong to the dominant age group and do not have disabilities.\n",
        "\n",
        "While this is not an extreme bias, it indicates that older students or those with disabilities may face slight disadvantages in AI-driven learning recommendations or success rates.\n",
        "\n",
        "\n",
        "The AI system might be optimizing learning paths based on younger, non-disabled students, leading to less effective recommendations for older or disabled learners.\n",
        "\n",
        "The bias is not severe, but it still suggests that students with disabilities and/or older students may be at a small disadvantage in terms of final outcomes.\n",
        "\n",
        "\n",
        "Statistical Parity Difference = 0.0384\n",
        "\n",
        "A positive value means that the privileged group (students in the most common age band without disabilities) has a 3.8% higher likelihood of receiving a positive outcome (Pass/Distinction) compared to other groups.\n",
        "\n",
        "While this value is small, it does indicate a slight preference for younger, non-disabled students in AI-driven outcomes.\n",
        "\n",
        "This suggests that older students and those with disabilities may receive fewer beneficial AI recommendations or struggle more with course completion.\n",
        "\n",
        "Although not a critical bias, it does suggest that age and disability play a role in educational success and should be considered in AI fairness improvements.\n"
      ],
      "metadata": {
        "id": "rkvbu4x1Dwzu"
      }
    },
    {
      "cell_type": "code",
      "source": [],
      "metadata": {
        "id": "wA5si-AKDlcz"
      },
      "execution_count": null,
      "outputs": []
    },
    {
      "cell_type": "code",
      "source": [],
      "metadata": {
        "id": "XK6PGkXRDlfX"
      },
      "execution_count": null,
      "outputs": []
    }
  ]
}